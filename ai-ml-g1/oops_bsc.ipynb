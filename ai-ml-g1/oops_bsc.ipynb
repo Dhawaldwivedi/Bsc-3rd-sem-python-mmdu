{
  "nbformat": 4,
  "nbformat_minor": 0,
  "metadata": {
    "colab": {
      "provenance": [],
      "authorship_tag": "ABX9TyOvbqOmxl0unmGXNvdSjzoI",
      "include_colab_link": true
    },
    "kernelspec": {
      "name": "python3",
      "display_name": "Python 3"
    },
    "language_info": {
      "name": "python"
    }
  },
  "cells": [
    {
      "cell_type": "markdown",
      "metadata": {
        "id": "view-in-github",
        "colab_type": "text"
      },
      "source": [
        "<a href=\"https://colab.research.google.com/github/Dhawaldwivedi/Bsc-3rd-sem-python-mmdu/blob/main/ai-ml-g1/oops_bsc.ipynb\" target=\"_parent\"><img src=\"https://colab.research.google.com/assets/colab-badge.svg\" alt=\"Open In Colab\"/></a>"
      ]
    },
    {
      "cell_type": "code",
      "execution_count": null,
      "metadata": {
        "colab": {
          "base_uri": "https://localhost:8080/"
        },
        "id": "_cWyT3Qo57xD",
        "outputId": "fb4dd22e-06f8-4416-f61d-a664f5a5923d"
      },
      "outputs": [
        {
          "output_type": "stream",
          "name": "stdout",
          "text": [
            "Audi\n",
            "A7\n"
          ]
        }
      ],
      "source": [
        "# what is a class and a object\n",
        "class car:\n",
        "  name = \"Audi\"\n",
        "  Model = \"A7\"\n",
        "\n",
        "obj = car()\n",
        "print(obj.name)\n",
        "print(obj.Model)\n",
        "\n"
      ]
    },
    {
      "cell_type": "code",
      "source": [
        "#\n",
        "class cricket:\n",
        "  def match1(self):\n",
        "    print('won')\n",
        "    return 0\n",
        "\n",
        "c = cricket()\n",
        "print(c.match1())"
      ],
      "metadata": {
        "colab": {
          "base_uri": "https://localhost:8080/"
        },
        "id": "ds5V7hW36zL0",
        "outputId": "b064366e-a27d-420c-b6f8-683bfd0abea3"
      },
      "execution_count": null,
      "outputs": [
        {
          "output_type": "stream",
          "name": "stdout",
          "text": [
            "won\n",
            "0\n"
          ]
        }
      ]
    },
    {
      "cell_type": "code",
      "source": [
        "# init\n",
        "class Person:\n",
        "    # This is the constructor method\n",
        "    def __init__(self, name, age):\n",
        "        self.name = name  # Initializing the 'name' attribute\n",
        "        self.age = age    # Initializing the 'age' attribute\n",
        "\n",
        "# When we create an object, __init__ is called with \"John\" and 30\n",
        "p1 = Person(\"John\", 30)\n",
        "print(p1.name)"
      ],
      "metadata": {
        "id": "YxYrnQb47aLc",
        "colab": {
          "base_uri": "https://localhost:8080/"
        },
        "outputId": "0ded4502-d705-45e1-b448-0a0475e28204"
      },
      "execution_count": null,
      "outputs": [
        {
          "output_type": "stream",
          "name": "stdout",
          "text": [
            "John\n"
          ]
        }
      ]
    },
    {
      "cell_type": "code",
      "source": [],
      "metadata": {
        "id": "wMyffh3O8Nft"
      },
      "execution_count": null,
      "outputs": []
    },
    {
      "cell_type": "markdown",
      "source": [
        "# Inheritance"
      ],
      "metadata": {
        "id": "BeE3s4cs85WJ"
      }
    },
    {
      "cell_type": "markdown",
      "source": [
        "### **Inheritance** is a mechanism where a new class (the subclass or child class) derives properties and behavior from an existing class (the superclass or parent class). This allows for code reusability."
      ],
      "metadata": {
        "id": "Dc_uBZRR9Cbt"
      }
    },
    {
      "cell_type": "code",
      "source": [
        "# parent class\n",
        "class Vehicle:\n",
        "    # This is the constructor (runs when a new Vehicle is created)\n",
        "    def __init__(self, color, max_speed):\n",
        "        self.color = color\n",
        "        self.max_speed = max_speed\n",
        "        self.is_running = False\n",
        "\n",
        "    def start_engine(self):\n",
        "        self.is_running = True\n",
        "        return f\"The {self.color} vehicle engine is started.\""
      ],
      "metadata": {
        "id": "7tTSrkja9C9m"
      },
      "execution_count": null,
      "outputs": []
    },
    {
      "cell_type": "code",
      "source": [
        "# child class\n",
        "class Car(Vehicle): # Car INHERITS from Vehicle\n",
        "    def __init__(self, color, max_speed, num_doors):\n",
        "        # 1. Call the parent's constructor to handle the common attributes\n",
        "        super().__init__(color, max_speed)\n",
        "\n",
        "        # 2. Add the Car-specific attribute\n",
        "        self.num_doors = num_doors\n",
        "\n",
        "    def honk(self):\n",
        "        return \"Beep! Beep!\"\n",
        "\n",
        "# Creating a Car object\n",
        "my_car = Car(\"Red\", 180, 4)\n",
        "\n",
        "# my_car can use methods and attributes from BOTH the Car and Vehicle classes:\n",
        "\n",
        "# Inherited from Vehicle:\n",
        "print(f\"Color: {my_car.color}\")\n",
        "print(my_car.start_engine())\n",
        "\n",
        "# Specific to Car:\n",
        "print(f\"Doors: {my_car.num_doors}\")\n",
        "print(my_car.honk())"
      ],
      "metadata": {
        "colab": {
          "base_uri": "https://localhost:8080/"
        },
        "id": "cnKV2_8l-Xwp",
        "outputId": "75e49167-8495-4ec7-90ec-afca2bec89c5"
      },
      "execution_count": null,
      "outputs": [
        {
          "output_type": "stream",
          "name": "stdout",
          "text": [
            "Color: Red\n",
            "The Red vehicle engine is started.\n",
            "Doors: 4\n",
            "Beep! Beep!\n"
          ]
        }
      ]
    },
    {
      "cell_type": "code",
      "source": [
        "def greet():\n",
        "  print('hey')\n",
        "\n",
        "def greet():\n",
        "  print('hello')\n",
        "\n"
      ],
      "metadata": {
        "id": "NFG8tW4y-3vx"
      },
      "execution_count": null,
      "outputs": []
    },
    {
      "cell_type": "markdown",
      "source": [
        "# Polymorphism"
      ],
      "metadata": {
        "id": "BESKK83f_r2B"
      }
    },
    {
      "cell_type": "markdown",
      "source": [
        "# poly - many morphism- forms\n",
        "**It is of 2 types - compile time and run time**\n",
        "# implements method overriding\n",
        "\n"
      ],
      "metadata": {
        "id": "cjPOd9do_wyU"
      }
    },
    {
      "cell_type": "code",
      "source": [
        "class Dog:\n",
        "  def sound(self):\n",
        "    return 'dog sound'\n",
        "\n",
        "class Cat:\n",
        "  def sound(self):\n",
        "    return 'cat sound'\n",
        "\n",
        "def animal_sound(animal):\n",
        "  return animal.sound()\n",
        "\n",
        "dog = Dog()\n",
        "cat = Cat()\n",
        "print(animal_sound(dog))"
      ],
      "metadata": {
        "colab": {
          "base_uri": "https://localhost:8080/"
        },
        "id": "IcNzxUCY_t0L",
        "outputId": "36e3641f-260e-42b8-8091-d18d25d3391d"
      },
      "execution_count": null,
      "outputs": [
        {
          "output_type": "stream",
          "name": "stdout",
          "text": [
            "dog sound\n"
          ]
        }
      ]
    },
    {
      "cell_type": "code",
      "source": [],
      "metadata": {
        "id": "mSLPqgwF_vD-"
      },
      "execution_count": null,
      "outputs": []
    }
  ]
}
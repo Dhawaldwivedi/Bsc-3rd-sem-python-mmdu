{
  "nbformat": 4,
  "nbformat_minor": 0,
  "metadata": {
    "colab": {
      "provenance": [],
      "authorship_tag": "ABX9TyPg1lnGDGvFGKgxyR3Oidwr",
      "include_colab_link": true
    },
    "kernelspec": {
      "name": "python3",
      "display_name": "Python 3"
    },
    "language_info": {
      "name": "python"
    }
  },
  "cells": [
    {
      "cell_type": "markdown",
      "metadata": {
        "id": "view-in-github",
        "colab_type": "text"
      },
      "source": [
        "<a href=\"https://colab.research.google.com/github/Dhawaldwivedi/Bsc-3rd-sem-python-mmdu/blob/main/ai-ml-g1/basic_python_and_conditionals.ipynb\" target=\"_parent\"><img src=\"https://colab.research.google.com/assets/colab-badge.svg\" alt=\"Open In Colab\"/></a>"
      ]
    },
    {
      "cell_type": "code",
      "execution_count": 23,
      "metadata": {
        "id": "iccp_E2PtQo1",
        "colab": {
          "base_uri": "https://localhost:8080/"
        },
        "outputId": "1c5001e8-50bf-484b-d2c1-8a1cdb01a64f"
      },
      "outputs": [
        {
          "output_type": "stream",
          "name": "stdout",
          "text": [
            "hey\n"
          ]
        }
      ],
      "source": [
        "print(\"hey\")"
      ]
    },
    {
      "cell_type": "markdown",
      "source": [
        "# Comments"
      ],
      "metadata": {
        "id": "11C1H0lXk1gZ"
      }
    },
    {
      "cell_type": "code",
      "source": [
        "# single line comment\n",
        "# This is a single line comment\n"
      ],
      "metadata": {
        "id": "J31lX0TsD8wM"
      },
      "execution_count": 24,
      "outputs": []
    },
    {
      "cell_type": "code",
      "source": [
        "\n",
        "# multi line comment\n",
        "''' this is\n",
        "a multiline\n",
        "comment'''\n",
        "print(\"hi\")\n",
        "\n",
        "\n"
      ],
      "metadata": {
        "id": "ixCaflRLD83l",
        "colab": {
          "base_uri": "https://localhost:8080/"
        },
        "outputId": "cd6aeb44-5b37-4f33-d632-579df3536403"
      },
      "execution_count": 26,
      "outputs": [
        {
          "output_type": "stream",
          "name": "stdout",
          "text": [
            "hi\n"
          ]
        }
      ]
    },
    {
      "cell_type": "markdown",
      "source": [
        "# Variables"
      ],
      "metadata": {
        "id": "a_Hka5D5lr4k"
      }
    },
    {
      "cell_type": "code",
      "source": [
        "# declaring and assigning variables\n"
      ],
      "metadata": {
        "id": "p6W20HHTlvDD"
      },
      "execution_count": 3,
      "outputs": []
    },
    {
      "cell_type": "code",
      "source": [
        "a = 10\n",
        "print(a)"
      ],
      "metadata": {
        "colab": {
          "base_uri": "https://localhost:8080/"
        },
        "id": "ANhuQAmsOt4y",
        "outputId": "52459f46-8534-48a3-9be1-2a0ab5fb7964"
      },
      "execution_count": 28,
      "outputs": [
        {
          "output_type": "execute_result",
          "data": {
            "text/plain": [
              "10"
            ]
          },
          "metadata": {},
          "execution_count": 28
        }
      ]
    },
    {
      "cell_type": "code",
      "source": [
        "b = 3.22\n",
        "print(b)\n"
      ],
      "metadata": {
        "colab": {
          "base_uri": "https://localhost:8080/"
        },
        "id": "Ntg16CxjPAm9",
        "outputId": "a0c2fc85-6d64-4d56-db6a-1dae6cb62ebe"
      },
      "execution_count": 29,
      "outputs": [
        {
          "output_type": "stream",
          "name": "stdout",
          "text": [
            "3.22\n"
          ]
        }
      ]
    },
    {
      "cell_type": "code",
      "source": [
        "c = \"hey\"\n",
        "print(c)"
      ],
      "metadata": {
        "colab": {
          "base_uri": "https://localhost:8080/"
        },
        "id": "_U2OU-X3PDSO",
        "outputId": "a5e28d58-27d9-4cc5-90b4-8592b84da6bc"
      },
      "execution_count": 30,
      "outputs": [
        {
          "output_type": "stream",
          "name": "stdout",
          "text": [
            "hey\n"
          ]
        }
      ]
    },
    {
      "cell_type": "code",
      "source": [
        "d = True\n",
        "print(d)"
      ],
      "metadata": {
        "colab": {
          "base_uri": "https://localhost:8080/"
        },
        "id": "2WZG4ti9PD27",
        "outputId": "a6469f53-832b-4ead-d203-c427d0ab043a"
      },
      "execution_count": 31,
      "outputs": [
        {
          "output_type": "stream",
          "name": "stdout",
          "text": [
            "True\n"
          ]
        }
      ]
    },
    {
      "cell_type": "code",
      "source": [
        "print(type(a))\n",
        "print(type(b))\n",
        "print(type(c))\n",
        "print(type(d))"
      ],
      "metadata": {
        "id": "NMPc5t_ukKDJ",
        "colab": {
          "base_uri": "https://localhost:8080/"
        },
        "outputId": "338f8e69-e0ef-46ce-ea95-c951d7cee480"
      },
      "execution_count": 33,
      "outputs": [
        {
          "output_type": "stream",
          "name": "stdout",
          "text": [
            "<class 'int'>\n",
            "<class 'float'>\n",
            "<class 'str'>\n",
            "<class 'bool'>\n"
          ]
        }
      ]
    },
    {
      "cell_type": "code",
      "source": [],
      "metadata": {
        "id": "YRM-zaHokKYx"
      },
      "execution_count": 3,
      "outputs": []
    },
    {
      "cell_type": "code",
      "source": [
        "\n",
        "\n",
        "# valid invalid variable names\n",
        "-ab = 10\n",
        "a@b\n",
        "1ab"
      ],
      "metadata": {
        "id": "X06VG0KrmVhq"
      },
      "execution_count": 4,
      "outputs": []
    },
    {
      "cell_type": "code",
      "source": [
        "# case sensitivity in python\n",
        "Name = \"dhawal\"\n",
        "print(name)\n"
      ],
      "metadata": {
        "id": "XdoJ6seymbFl",
        "colab": {
          "base_uri": "https://localhost:8080/",
          "height": 185
        },
        "outputId": "30da336f-a07e-41ce-bf60-aba35d3522f6"
      },
      "execution_count": 34,
      "outputs": [
        {
          "output_type": "error",
          "ename": "NameError",
          "evalue": "name 'name' is not defined",
          "traceback": [
            "\u001b[0;31m---------------------------------------------------------------------------\u001b[0m",
            "\u001b[0;31mNameError\u001b[0m                                 Traceback (most recent call last)",
            "\u001b[0;32m/tmp/ipython-input-999625243.py\u001b[0m in \u001b[0;36m<cell line: 0>\u001b[0;34m()\u001b[0m\n\u001b[1;32m      1\u001b[0m \u001b[0;31m# case sensitivity in python\u001b[0m\u001b[0;34m\u001b[0m\u001b[0;34m\u001b[0m\u001b[0m\n\u001b[1;32m      2\u001b[0m \u001b[0mName\u001b[0m \u001b[0;34m=\u001b[0m \u001b[0;34m\"dhawal\"\u001b[0m\u001b[0;34m\u001b[0m\u001b[0;34m\u001b[0m\u001b[0m\n\u001b[0;32m----> 3\u001b[0;31m \u001b[0mprint\u001b[0m\u001b[0;34m(\u001b[0m\u001b[0mname\u001b[0m\u001b[0;34m)\u001b[0m\u001b[0;34m\u001b[0m\u001b[0;34m\u001b[0m\u001b[0m\n\u001b[0m",
            "\u001b[0;31mNameError\u001b[0m: name 'name' is not defined"
          ]
        }
      ]
    },
    {
      "cell_type": "code",
      "source": [
        "## Understanding Variable types\n",
        "## Python is dynamically typed,type of a variable is determined at runtime\n",
        "\n"
      ],
      "metadata": {
        "id": "wfRnJP1fmvx8"
      },
      "execution_count": 6,
      "outputs": []
    },
    {
      "cell_type": "code",
      "source": [
        "# Type Conversion\n",
        "\n",
        "a = 12\n",
        "type(a)\n"
      ],
      "metadata": {
        "id": "duKYA6kWmzZu",
        "colab": {
          "base_uri": "https://localhost:8080/"
        },
        "outputId": "dead6806-65f6-48ee-f8fd-42366a1da037"
      },
      "execution_count": 35,
      "outputs": [
        {
          "output_type": "execute_result",
          "data": {
            "text/plain": [
              "int"
            ]
          },
          "metadata": {},
          "execution_count": 35
        }
      ]
    },
    {
      "cell_type": "code",
      "source": [
        "b = float(a)\n",
        "type(b)"
      ],
      "metadata": {
        "colab": {
          "base_uri": "https://localhost:8080/"
        },
        "id": "_REZXvhOSPCh",
        "outputId": "0385bec6-b29e-4092-b181-be25ceea8927"
      },
      "execution_count": 36,
      "outputs": [
        {
          "output_type": "execute_result",
          "data": {
            "text/plain": [
              "float"
            ]
          },
          "metadata": {},
          "execution_count": 36
        }
      ]
    },
    {
      "cell_type": "code",
      "source": [
        "c = str(b)\n",
        "type(c)"
      ],
      "metadata": {
        "id": "bHsPHa_iSiSh",
        "colab": {
          "base_uri": "https://localhost:8080/"
        },
        "outputId": "41c5c9c1-f3f0-45ac-9b6a-aadc70cf7df4"
      },
      "execution_count": 38,
      "outputs": [
        {
          "output_type": "execute_result",
          "data": {
            "text/plain": [
              "str"
            ]
          },
          "metadata": {},
          "execution_count": 38
        }
      ]
    },
    {
      "cell_type": "code",
      "source": [
        "v =\"hi\"\n",
        "c = int(v)"
      ],
      "metadata": {
        "id": "qelfTDamTKOm",
        "colab": {
          "base_uri": "https://localhost:8080/",
          "height": 166
        },
        "outputId": "482f0fdc-3888-4b76-8be3-c443b0e66d00"
      },
      "execution_count": 39,
      "outputs": [
        {
          "output_type": "error",
          "ename": "ValueError",
          "evalue": "invalid literal for int() with base 10: 'hi'",
          "traceback": [
            "\u001b[0;31m---------------------------------------------------------------------------\u001b[0m",
            "\u001b[0;31mValueError\u001b[0m                                Traceback (most recent call last)",
            "\u001b[0;32m/tmp/ipython-input-1131296223.py\u001b[0m in \u001b[0;36m<cell line: 0>\u001b[0;34m()\u001b[0m\n\u001b[1;32m      1\u001b[0m \u001b[0mv\u001b[0m \u001b[0;34m=\u001b[0m\u001b[0;34m\"hi\"\u001b[0m\u001b[0;34m\u001b[0m\u001b[0;34m\u001b[0m\u001b[0m\n\u001b[0;32m----> 2\u001b[0;31m \u001b[0mc\u001b[0m \u001b[0;34m=\u001b[0m \u001b[0mint\u001b[0m\u001b[0;34m(\u001b[0m\u001b[0mv\u001b[0m\u001b[0;34m)\u001b[0m\u001b[0;34m\u001b[0m\u001b[0;34m\u001b[0m\u001b[0m\n\u001b[0m",
            "\u001b[0;31mValueError\u001b[0m: invalid literal for int() with base 10: 'hi'"
          ]
        }
      ]
    },
    {
      "cell_type": "code",
      "source": [
        "# variables reinitialization\n",
        "v = 10\n",
        "v = 12.34\n",
        "v = \"hey\"\n",
        "v"
      ],
      "metadata": {
        "id": "kW3cCIasm3Nl",
        "colab": {
          "base_uri": "https://localhost:8080/",
          "height": 36
        },
        "outputId": "f4451962-0a54-47bd-ed26-6ff7c13d138e"
      },
      "execution_count": 42,
      "outputs": [
        {
          "output_type": "execute_result",
          "data": {
            "text/plain": [
              "'hey'"
            ],
            "application/vnd.google.colaboratory.intrinsic+json": {
              "type": "string"
            }
          },
          "metadata": {},
          "execution_count": 42
        }
      ]
    },
    {
      "cell_type": "code",
      "source": [
        "# input function\n",
        "v = int(input(\"enter the number \"))\n",
        "v\n"
      ],
      "metadata": {
        "id": "HM74a3mwnkVe",
        "colab": {
          "base_uri": "https://localhost:8080/"
        },
        "outputId": "b2b7b9e3-33e6-4896-b454-ad3483c0dab0"
      },
      "execution_count": 45,
      "outputs": [
        {
          "name": "stdout",
          "output_type": "stream",
          "text": [
            "enter the number 7\n"
          ]
        },
        {
          "output_type": "execute_result",
          "data": {
            "text/plain": [
              "7"
            ]
          },
          "metadata": {},
          "execution_count": 45
        }
      ]
    },
    {
      "cell_type": "code",
      "source": [
        "type(v)"
      ],
      "metadata": {
        "id": "8fJXuc68npNb",
        "colab": {
          "base_uri": "https://localhost:8080/"
        },
        "outputId": "c02f8b68-dab3-4c61-abf4-e8e34bfdfdcb"
      },
      "execution_count": 46,
      "outputs": [
        {
          "output_type": "execute_result",
          "data": {
            "text/plain": [
              "int"
            ]
          },
          "metadata": {},
          "execution_count": 46
        }
      ]
    },
    {
      "cell_type": "markdown",
      "source": [
        "# Data Types"
      ],
      "metadata": {
        "id": "QqI8N_gnnrPq"
      }
    },
    {
      "cell_type": "code",
      "source": [
        "# understanding different data types\n",
        "# int\n",
        "# float\n",
        "# bool\n",
        "# string"
      ],
      "metadata": {
        "id": "__l1gvhSoFFA"
      },
      "execution_count": 10,
      "outputs": []
    },
    {
      "cell_type": "code",
      "source": [
        "# adding 2 diff datatype variables\n",
        "a = 34\n",
        "b = 34.5\n",
        "c= a+b\n",
        "type(c)\n"
      ],
      "metadata": {
        "id": "Qb5xKslroRQD",
        "colab": {
          "base_uri": "https://localhost:8080/"
        },
        "outputId": "2ec9759c-d58e-45d3-f75e-f4aa59d5befe"
      },
      "execution_count": 47,
      "outputs": [
        {
          "output_type": "execute_result",
          "data": {
            "text/plain": [
              "float"
            ]
          },
          "metadata": {},
          "execution_count": 47
        }
      ]
    },
    {
      "cell_type": "code",
      "source": [
        "d = \"hi\"\n",
        "e = d+ str(a)\n",
        "e"
      ],
      "metadata": {
        "id": "6opHNoPcodpq",
        "colab": {
          "base_uri": "https://localhost:8080/",
          "height": 36
        },
        "outputId": "6ab58d5d-c484-4327-ef17-cac16283a281"
      },
      "execution_count": 49,
      "outputs": [
        {
          "output_type": "execute_result",
          "data": {
            "text/plain": [
              "'hi34'"
            ],
            "application/vnd.google.colaboratory.intrinsic+json": {
              "type": "string"
            }
          },
          "metadata": {},
          "execution_count": 49
        }
      ]
    },
    {
      "cell_type": "markdown",
      "source": [
        "# Operators"
      ],
      "metadata": {
        "id": "lP16bpW1pAib"
      }
    },
    {
      "cell_type": "code",
      "source": [
        "# Arithmetic Operators\n",
        "# addition\n",
        "# subtraction\n",
        "# multiplication\n",
        "# division\n",
        "# modulus\n",
        "# floor division\n",
        "# exponential\n",
        "a = 12\n",
        "b = 5\n",
        "print(a/b)\n",
        "print(a//b)\n",
        "print(a**b)"
      ],
      "metadata": {
        "id": "o9NjcTYhpD7b",
        "colab": {
          "base_uri": "https://localhost:8080/"
        },
        "outputId": "9a50050f-9944-404b-e108-21f51a676097"
      },
      "execution_count": 51,
      "outputs": [
        {
          "output_type": "stream",
          "name": "stdout",
          "text": [
            "2.4\n",
            "2\n",
            "248832\n"
          ]
        }
      ]
    },
    {
      "cell_type": "code",
      "source": [
        "# comparison operators\n",
        "# equals ==\n",
        "# not equals !=\n",
        "# greater than\n",
        "# less than\n",
        "print(a==b)\n",
        "print(a!=b)\n",
        "print(a>=b)\n",
        "print(a<=b)"
      ],
      "metadata": {
        "id": "4RWB0J6ypcC0",
        "colab": {
          "base_uri": "https://localhost:8080/"
        },
        "outputId": "499037f8-7c02-463c-fdbe-372b6314e809"
      },
      "execution_count": 54,
      "outputs": [
        {
          "output_type": "stream",
          "name": "stdout",
          "text": [
            "False\n",
            "True\n",
            "True\n",
            "False\n"
          ]
        }
      ]
    },
    {
      "cell_type": "code",
      "source": [
        "# logical operators\n",
        "# and\n",
        "# or\n",
        "# not\n",
        "a = True\n",
        "b = False\n",
        "print(a and b)\n",
        "print(a or b)\n",
        "print( not b)"
      ],
      "metadata": {
        "id": "FZYn3B2RrBe9",
        "colab": {
          "base_uri": "https://localhost:8080/"
        },
        "outputId": "d08b0365-f902-45db-efbd-81b4e894a8e5"
      },
      "execution_count": 57,
      "outputs": [
        {
          "output_type": "stream",
          "name": "stdout",
          "text": [
            "False\n",
            "True\n",
            "True\n"
          ]
        }
      ]
    },
    {
      "cell_type": "markdown",
      "source": [
        "# simple calculator program"
      ],
      "metadata": {
        "id": "F0p8Pa2Sr7aA"
      }
    },
    {
      "cell_type": "code",
      "source": [
        "# create a simple calculator program taking 2 inputs from user and printing different arithemtic outputs"
      ],
      "metadata": {
        "id": "MqZpGPU3soXS"
      },
      "execution_count": 15,
      "outputs": []
    },
    {
      "cell_type": "markdown",
      "source": [
        "# Conditionals"
      ],
      "metadata": {
        "id": "LEGKanWexkui"
      }
    },
    {
      "cell_type": "code",
      "source": [
        "# basics which enables decision making in python"
      ],
      "metadata": {
        "id": "Z1ysObmpxnyc"
      },
      "execution_count": 16,
      "outputs": []
    },
    {
      "cell_type": "code",
      "source": [
        "a = 1\n",
        "if a>5:\n",
        "  print(\"a is greater than 5\")\n",
        "\n",
        "else:\n",
        "  print(\"a is less than 5\")\n"
      ],
      "metadata": {
        "id": "iUsI55RuxteS",
        "colab": {
          "base_uri": "https://localhost:8080/"
        },
        "outputId": "f6ca1220-9483-4b89-bf11-a0f72a48768e"
      },
      "execution_count": 60,
      "outputs": [
        {
          "output_type": "stream",
          "name": "stdout",
          "text": [
            "a is less than 5\n"
          ]
        }
      ]
    },
    {
      "cell_type": "code",
      "source": [
        "#Q) Find if the number is even\n",
        "\n"
      ],
      "metadata": {
        "id": "9_k2il0Sxthp"
      },
      "execution_count": 17,
      "outputs": []
    },
    {
      "cell_type": "code",
      "source": [
        "# elif\n",
        "# if condition:\n",
        "    #print(true)\n",
        "# elif conditon2:\n",
        "#    print(true)\n",
        "# else:\n",
        "# print(true)\n"
      ],
      "metadata": {
        "id": "w4wp3Gkkxvzn"
      },
      "execution_count": 18,
      "outputs": []
    },
    {
      "cell_type": "code",
      "source": [
        "# nested conditonals\n",
        "## number even ,odd,negative\n",
        "a = int(input(\"enter a number \"))\n",
        "if a>0:\n",
        "  if a%2==0:\n",
        "    print(\"even\")\n",
        "  else:\n",
        "    print(\"odd\")\n",
        "else:\n",
        "  print(\"negative\")"
      ],
      "metadata": {
        "id": "Wsf_xnRYxzLq",
        "colab": {
          "base_uri": "https://localhost:8080/"
        },
        "outputId": "6ba233c5-448a-4427-ad1e-4aba87d9f7d3"
      },
      "execution_count": 63,
      "outputs": [
        {
          "output_type": "stream",
          "name": "stdout",
          "text": [
            "enter a number -9\n",
            "negative\n"
          ]
        }
      ]
    },
    {
      "cell_type": "code",
      "source": [
        "## Simple Calculator program\n",
        "# Take user input for operation"
      ],
      "metadata": {
        "id": "eYdkWjagx2gr"
      },
      "execution_count": 20,
      "outputs": []
    },
    {
      "cell_type": "code",
      "source": [
        " # A simple user login system that checks the username and password.\n",
        "user = \"admin\"\n",
        "password = \"admin@123\""
      ],
      "metadata": {
        "id": "xmodxKADyGhE"
      },
      "execution_count": 21,
      "outputs": []
    },
    {
      "cell_type": "code",
      "source": [
        "# marks baSED ON grade\n",
        "''' 90+ --> A+\n",
        "    80-89 -->A\n",
        "    70-79 --> B\n",
        "    50-69 --> C\n",
        "    below 50 --> D '''"
      ],
      "metadata": {
        "id": "QFpaZy39yIuF",
        "colab": {
          "base_uri": "https://localhost:8080/",
          "height": 36
        },
        "outputId": "cbd73b30-7a74-4b03-a98d-6819c6b340f8"
      },
      "execution_count": 22,
      "outputs": [
        {
          "output_type": "execute_result",
          "data": {
            "text/plain": [
              "' 90+ --> A+\\n    80-89 -->A\\n    70-79 --> B\\n    50-69 --> C\\n    below 50 --> D '"
            ],
            "application/vnd.google.colaboratory.intrinsic+json": {
              "type": "string"
            }
          },
          "metadata": {},
          "execution_count": 22
        }
      ]
    },
    {
      "cell_type": "code",
      "source": [],
      "metadata": {
        "id": "A3ZLlHBDX804"
      },
      "execution_count": 22,
      "outputs": []
    },
    {
      "cell_type": "markdown",
      "source": [],
      "metadata": {
        "id": "LZ0TeHkN5ZFm"
      }
    }
  ]
}
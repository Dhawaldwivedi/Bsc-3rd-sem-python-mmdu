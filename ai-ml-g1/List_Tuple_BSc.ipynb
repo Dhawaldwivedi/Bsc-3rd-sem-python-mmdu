{
  "nbformat": 4,
  "nbformat_minor": 0,
  "metadata": {
    "colab": {
      "provenance": [],
      "collapsed_sections": [
        "VFTPV5f6qJpA"
      ],
      "authorship_tag": "ABX9TyMxOx2SZpl5GtRgh5nweg4f",
      "include_colab_link": true
    },
    "kernelspec": {
      "name": "python3",
      "display_name": "Python 3"
    },
    "language_info": {
      "name": "python"
    }
  },
  "cells": [
    {
      "cell_type": "markdown",
      "metadata": {
        "id": "view-in-github",
        "colab_type": "text"
      },
      "source": [
        "<a href=\"https://colab.research.google.com/github/Dhawaldwivedi/Bsc-3rd-sem-python-mmdu/blob/main/ai-ml-g1/List_Tuple_BSc.ipynb\" target=\"_parent\"><img src=\"https://colab.research.google.com/assets/colab-badge.svg\" alt=\"Open In Colab\"/></a>"
      ]
    },
    {
      "cell_type": "code",
      "execution_count": null,
      "metadata": {
        "id": "GHDR6084qIM6"
      },
      "outputs": [],
      "source": []
    },
    {
      "cell_type": "markdown",
      "source": [
        "# List"
      ],
      "metadata": {
        "id": "VFTPV5f6qJpA"
      }
    },
    {
      "cell_type": "code",
      "source": [
        "# empty list\n",
        "lst = []\n",
        "type(lst)\n"
      ],
      "metadata": {
        "id": "w6wPqUrjqLZq",
        "colab": {
          "base_uri": "https://localhost:8080/"
        },
        "outputId": "2440715d-3589-4399-fa9a-265b92dc954f"
      },
      "execution_count": 1,
      "outputs": [
        {
          "output_type": "execute_result",
          "data": {
            "text/plain": [
              "list"
            ]
          },
          "metadata": {},
          "execution_count": 1
        }
      ]
    },
    {
      "cell_type": "code",
      "source": [
        "# defining a list\n",
        "lst = [3,4,5,\"gfg\",7.8,True]\n",
        "lst"
      ],
      "metadata": {
        "id": "md5dalxXqPy0",
        "colab": {
          "base_uri": "https://localhost:8080/"
        },
        "outputId": "936388e1-c3d4-48a9-afa0-026c29681a8e"
      },
      "execution_count": 2,
      "outputs": [
        {
          "output_type": "execute_result",
          "data": {
            "text/plain": [
              "[3, 4, 5, 'gfg', 7.8, True]"
            ]
          },
          "metadata": {},
          "execution_count": 2
        }
      ]
    },
    {
      "cell_type": "code",
      "source": [
        "# fruits\n",
        "fruits = ['apple','banana','cherry','mango']\n",
        "fruits"
      ],
      "metadata": {
        "id": "Jrc5a49BqP1h",
        "colab": {
          "base_uri": "https://localhost:8080/"
        },
        "outputId": "26864e03-e732-487f-82e5-404a0d248479"
      },
      "execution_count": 3,
      "outputs": [
        {
          "output_type": "execute_result",
          "data": {
            "text/plain": [
              "['apple', 'banana', 'cherry', 'mango']"
            ]
          },
          "metadata": {},
          "execution_count": 3
        }
      ]
    },
    {
      "cell_type": "code",
      "source": [
        "# accessing different elements\n",
        "fruits[2]"
      ],
      "metadata": {
        "id": "iroG1Gb3qP4N",
        "colab": {
          "base_uri": "https://localhost:8080/",
          "height": 36
        },
        "outputId": "2a2c3f3c-6814-4070-da23-8674d5cfad5b"
      },
      "execution_count": 4,
      "outputs": [
        {
          "output_type": "execute_result",
          "data": {
            "text/plain": [
              "'cherry'"
            ],
            "application/vnd.google.colaboratory.intrinsic+json": {
              "type": "string"
            }
          },
          "metadata": {},
          "execution_count": 4
        }
      ]
    },
    {
      "cell_type": "code",
      "source": [
        "# changing element\n",
        "fruits[1]= 'Pineapple'\n",
        "fruits"
      ],
      "metadata": {
        "id": "XGz9n5NbqP6-",
        "colab": {
          "base_uri": "https://localhost:8080/"
        },
        "outputId": "7e1320a0-d789-4fe4-a8e8-7c86aa6349d4"
      },
      "execution_count": 5,
      "outputs": [
        {
          "output_type": "execute_result",
          "data": {
            "text/plain": [
              "['apple', 'Pineapple', 'cherry', 'mango']"
            ]
          },
          "metadata": {},
          "execution_count": 5
        }
      ]
    },
    {
      "cell_type": "code",
      "source": [
        "# append\n",
        "fruits.append('orange')\n",
        "fruits\n",
        "\n"
      ],
      "metadata": {
        "id": "TiEnQa8aqP9w",
        "colab": {
          "base_uri": "https://localhost:8080/"
        },
        "outputId": "36cbab92-3521-4f16-8570-23410d23fa0b"
      },
      "execution_count": 6,
      "outputs": [
        {
          "output_type": "execute_result",
          "data": {
            "text/plain": [
              "['apple', 'Pineapple', 'cherry', 'mango', 'orange']"
            ]
          },
          "metadata": {},
          "execution_count": 6
        }
      ]
    },
    {
      "cell_type": "code",
      "source": [
        "# insert\n",
        "fruits.insert(1,'kiwi')\n",
        "fruits\n",
        "\n"
      ],
      "metadata": {
        "id": "bwXdW-FlqQAX",
        "colab": {
          "base_uri": "https://localhost:8080/"
        },
        "outputId": "125362ed-cd43-46a6-a074-fa1fc9315b30"
      },
      "execution_count": 7,
      "outputs": [
        {
          "output_type": "execute_result",
          "data": {
            "text/plain": [
              "['apple', 'kiwi', 'Pineapple', 'cherry', 'mango', 'orange']"
            ]
          },
          "metadata": {},
          "execution_count": 7
        }
      ]
    },
    {
      "cell_type": "code",
      "source": [
        "# pop\n",
        "fruits.pop(3)\n",
        "fruits"
      ],
      "metadata": {
        "id": "E9UIH-t_qQDz",
        "colab": {
          "base_uri": "https://localhost:8080/"
        },
        "outputId": "1b9a69a0-2be0-45b3-9532-709e241f9805"
      },
      "execution_count": 9,
      "outputs": [
        {
          "output_type": "execute_result",
          "data": {
            "text/plain": [
              "['apple', 'kiwi', 'Pineapple', 'mango']"
            ]
          },
          "metadata": {},
          "execution_count": 9
        }
      ]
    },
    {
      "cell_type": "code",
      "source": [
        "# sort\n",
        "fruits.sort(ascending = False)\n",
        "fruits\n"
      ],
      "metadata": {
        "id": "aOMGUvNzqoOt",
        "colab": {
          "base_uri": "https://localhost:8080/"
        },
        "outputId": "5a1f1189-380f-437c-b103-97837ba5645c"
      },
      "execution_count": 10,
      "outputs": [
        {
          "output_type": "execute_result",
          "data": {
            "text/plain": [
              "['Pineapple', 'apple', 'kiwi', 'mango']"
            ]
          },
          "metadata": {},
          "execution_count": 10
        }
      ]
    },
    {
      "cell_type": "code",
      "source": [
        "# reverse\n",
        "\n",
        "fruits.reverse()\n",
        "fruits"
      ],
      "metadata": {
        "id": "HZSvHop3qoRY",
        "colab": {
          "base_uri": "https://localhost:8080/"
        },
        "outputId": "22db60dd-aea6-4e67-e112-9f7c2a7cd5bb"
      },
      "execution_count": 11,
      "outputs": [
        {
          "output_type": "execute_result",
          "data": {
            "text/plain": [
              "['mango', 'kiwi', 'apple', 'Pineapple']"
            ]
          },
          "metadata": {},
          "execution_count": 11
        }
      ]
    },
    {
      "cell_type": "code",
      "source": [
        "# slicing\n",
        "lst = [1,2,6,3,8,8,3,3,1,0]\n",
        "lst[::-1]\n"
      ],
      "metadata": {
        "id": "oeVsl5rPqoU0",
        "colab": {
          "base_uri": "https://localhost:8080/"
        },
        "outputId": "1ff94772-8fd9-4e42-da7b-9b7d4c643c25"
      },
      "execution_count": 19,
      "outputs": [
        {
          "output_type": "execute_result",
          "data": {
            "text/plain": [
              "[0, 1, 3, 3, 8, 8, 3, 6, 2, 1]"
            ]
          },
          "metadata": {},
          "execution_count": 19
        }
      ]
    },
    {
      "cell_type": "code",
      "source": [
        "# clear\n",
        "fruits.clear()\n",
        "fruits"
      ],
      "metadata": {
        "id": "T_DlIyjqrU_u",
        "colab": {
          "base_uri": "https://localhost:8080/"
        },
        "outputId": "cd4af7a0-3893-455f-c532-aed1516568fa"
      },
      "execution_count": 20,
      "outputs": [
        {
          "output_type": "execute_result",
          "data": {
            "text/plain": [
              "[]"
            ]
          },
          "metadata": {},
          "execution_count": 20
        }
      ]
    },
    {
      "cell_type": "code",
      "source": [
        "lst = [0,1,2,3,4,5,6,7,8,9]\n",
        "for i in lst:\n",
        "  print(lst[i]*lst[i])\n"
      ],
      "metadata": {
        "colab": {
          "base_uri": "https://localhost:8080/"
        },
        "id": "dE_rdS-frv6e",
        "outputId": "6503b0f5-7498-4dca-aa5f-3395f59a1acf"
      },
      "execution_count": 21,
      "outputs": [
        {
          "output_type": "stream",
          "name": "stdout",
          "text": [
            "0\n",
            "1\n",
            "4\n",
            "9\n",
            "16\n",
            "25\n",
            "36\n",
            "49\n",
            "64\n",
            "81\n"
          ]
        }
      ]
    },
    {
      "cell_type": "code",
      "source": [
        "# list comprehension\n",
        "[i**2 for i in lst if i%2==0]\n",
        "\n"
      ],
      "metadata": {
        "id": "EusjeJCirVCp",
        "colab": {
          "base_uri": "https://localhost:8080/"
        },
        "outputId": "194d56fd-dbf2-4896-e94a-4f79e1eb676f"
      },
      "execution_count": 23,
      "outputs": [
        {
          "output_type": "execute_result",
          "data": {
            "text/plain": [
              "[0, 4, 16, 36, 64]"
            ]
          },
          "metadata": {},
          "execution_count": 23
        }
      ]
    },
    {
      "cell_type": "code",
      "source": [
        "lst = [0,1,2,3,4,5,6,7,8,9]\n",
        "for i in lst:\n",
        "  print(lst[i]**2)\n",
        "\n"
      ],
      "metadata": {
        "id": "ULzgPfLFrVGP"
      },
      "execution_count": null,
      "outputs": []
    },
    {
      "cell_type": "markdown",
      "source": [
        "# Tuples"
      ],
      "metadata": {
        "id": "-4joCisnrn9C"
      }
    },
    {
      "cell_type": "code",
      "source": [
        "# empty tuple\n",
        "t = ()\n",
        "print(type(t))"
      ],
      "metadata": {
        "id": "x2tSVWKfrrvr",
        "colab": {
          "base_uri": "https://localhost:8080/"
        },
        "outputId": "6da7d174-be90-4ef9-c6b1-94d52d80b97f"
      },
      "execution_count": 24,
      "outputs": [
        {
          "output_type": "stream",
          "name": "stdout",
          "text": [
            "<class 'tuple'>\n"
          ]
        }
      ]
    },
    {
      "cell_type": "code",
      "source": [
        "lst=list()\n",
        "print(type(lst))\n",
        "tpl=tuple()\n",
        "print(type(tpl))"
      ],
      "metadata": {
        "id": "Db5FK60xrvoj",
        "colab": {
          "base_uri": "https://localhost:8080/"
        },
        "outputId": "0627f7b2-811e-4fb1-f526-747180f7a008"
      },
      "execution_count": 25,
      "outputs": [
        {
          "output_type": "stream",
          "name": "stdout",
          "text": [
            "<class 'list'>\n",
            "<class 'tuple'>\n"
          ]
        }
      ]
    },
    {
      "cell_type": "code",
      "source": [
        "numbers=tuple([1,2,3,4,5,6])\n",
        "numbers[3]"
      ],
      "metadata": {
        "id": "_PtVDgsNrvrS",
        "colab": {
          "base_uri": "https://localhost:8080/"
        },
        "outputId": "921a09c9-5509-4541-9626-b51da0b43bf3"
      },
      "execution_count": 26,
      "outputs": [
        {
          "output_type": "execute_result",
          "data": {
            "text/plain": [
              "4"
            ]
          },
          "metadata": {},
          "execution_count": 26
        }
      ]
    },
    {
      "cell_type": "code",
      "source": [
        "mixed_tuple=(1,\"Hello World\",3.14, True)\n",
        "print(mixed_tuple)"
      ],
      "metadata": {
        "id": "vGi4wt6Vrvu6",
        "colab": {
          "base_uri": "https://localhost:8080/"
        },
        "outputId": "7fc5b134-c149-4265-faf7-48c9b9715226"
      },
      "execution_count": 27,
      "outputs": [
        {
          "output_type": "stream",
          "name": "stdout",
          "text": [
            "(1, 'Hello World', 3.14, True)\n"
          ]
        }
      ]
    },
    {
      "cell_type": "code",
      "source": [
        "## Tuple Operations\n",
        "\n",
        "concatenation_tuple=numbers + mixed_tuple\n",
        "print(concatenation_tuple)"
      ],
      "metadata": {
        "id": "gIVnzxiJr4IH",
        "colab": {
          "base_uri": "https://localhost:8080/"
        },
        "outputId": "25587593-fa1f-41f2-a9c5-11ff5e12b953"
      },
      "execution_count": 28,
      "outputs": [
        {
          "output_type": "stream",
          "name": "stdout",
          "text": [
            "(1, 2, 3, 4, 5, 6, 1, 'Hello World', 3.14, True)\n"
          ]
        }
      ]
    },
    {
      "cell_type": "code",
      "source": [
        "mixed_tuple*3"
      ],
      "metadata": {
        "colab": {
          "base_uri": "https://localhost:8080/"
        },
        "id": "dDBBPoQWeVW_",
        "outputId": "7db4dbe5-2d44-4498-e340-d281f186b26f"
      },
      "execution_count": 29,
      "outputs": [
        {
          "output_type": "execute_result",
          "data": {
            "text/plain": [
              "(1,\n",
              " 'Hello World',\n",
              " 3.14,\n",
              " True,\n",
              " 1,\n",
              " 'Hello World',\n",
              " 3.14,\n",
              " True,\n",
              " 1,\n",
              " 'Hello World',\n",
              " 3.14,\n",
              " True)"
            ]
          },
          "metadata": {},
          "execution_count": 29
        }
      ]
    },
    {
      "cell_type": "code",
      "source": [
        "lst=[1,2,3,4,5]\n",
        "print(lst)\n",
        "\n",
        "lst[1]=\"Krish\"\n",
        "print(lst)"
      ],
      "metadata": {
        "id": "zdw0tQbqr4K0",
        "colab": {
          "base_uri": "https://localhost:8080/"
        },
        "outputId": "34153c95-f4c7-4621-8c96-04f993140bec"
      },
      "execution_count": 30,
      "outputs": [
        {
          "output_type": "stream",
          "name": "stdout",
          "text": [
            "[1, 2, 3, 4, 5]\n",
            "[1, 'Krish', 3, 4, 5]\n"
          ]
        }
      ]
    },
    {
      "cell_type": "code",
      "source": [
        "numbers[2]= \"Krish\""
      ],
      "metadata": {
        "colab": {
          "base_uri": "https://localhost:8080/",
          "height": 148
        },
        "id": "xESG0JPmeqxs",
        "outputId": "0def3b07-c7f4-40bb-b134-646820786705"
      },
      "execution_count": 31,
      "outputs": [
        {
          "output_type": "error",
          "ename": "TypeError",
          "evalue": "'tuple' object does not support item assignment",
          "traceback": [
            "\u001b[0;31m---------------------------------------------------------------------------\u001b[0m",
            "\u001b[0;31mTypeError\u001b[0m                                 Traceback (most recent call last)",
            "\u001b[0;32m/tmp/ipython-input-181303943.py\u001b[0m in \u001b[0;36m<cell line: 0>\u001b[0;34m()\u001b[0m\n\u001b[0;32m----> 1\u001b[0;31m \u001b[0mnumbers\u001b[0m\u001b[0;34m[\u001b[0m\u001b[0;36m2\u001b[0m\u001b[0;34m]\u001b[0m\u001b[0;34m=\u001b[0m \u001b[0;34m\"Krish\"\u001b[0m\u001b[0;34m\u001b[0m\u001b[0;34m\u001b[0m\u001b[0m\n\u001b[0m",
            "\u001b[0;31mTypeError\u001b[0m: 'tuple' object does not support item assignment"
          ]
        }
      ]
    },
    {
      "cell_type": "code",
      "source": [],
      "metadata": {
        "id": "CMmuPiLGeq1J"
      },
      "execution_count": null,
      "outputs": []
    },
    {
      "cell_type": "code",
      "source": [
        "## Tuple Methods\n",
        "print(numbers.count(1))\n",
        "print(numbers.index(3))"
      ],
      "metadata": {
        "id": "ym2SXBWSr4Nd",
        "colab": {
          "base_uri": "https://localhost:8080/"
        },
        "outputId": "976516d1-0cd7-4d7a-e6cb-9c201242bde0"
      },
      "execution_count": 32,
      "outputs": [
        {
          "output_type": "stream",
          "name": "stdout",
          "text": [
            "1\n",
            "2\n"
          ]
        }
      ]
    },
    {
      "cell_type": "code",
      "source": [
        "n = (1,2,3)\n",
        "a,b,c,d = n\n",
        "print(a)\n",
        "print(b)\n"
      ],
      "metadata": {
        "colab": {
          "base_uri": "https://localhost:8080/",
          "height": 203
        },
        "id": "HmjMQMetvwSQ",
        "outputId": "fd32e82f-5cb3-45f2-e32c-a76e9d69187f"
      },
      "execution_count": 47,
      "outputs": [
        {
          "output_type": "error",
          "ename": "ValueError",
          "evalue": "not enough values to unpack (expected 4, got 3)",
          "traceback": [
            "\u001b[0;31m---------------------------------------------------------------------------\u001b[0m",
            "\u001b[0;31mValueError\u001b[0m                                Traceback (most recent call last)",
            "\u001b[0;32m/tmp/ipython-input-3003645256.py\u001b[0m in \u001b[0;36m<cell line: 0>\u001b[0;34m()\u001b[0m\n\u001b[1;32m      1\u001b[0m \u001b[0mn\u001b[0m \u001b[0;34m=\u001b[0m \u001b[0;34m(\u001b[0m\u001b[0;36m1\u001b[0m\u001b[0;34m,\u001b[0m\u001b[0;36m2\u001b[0m\u001b[0;34m,\u001b[0m\u001b[0;36m3\u001b[0m\u001b[0;34m)\u001b[0m\u001b[0;34m\u001b[0m\u001b[0;34m\u001b[0m\u001b[0m\n\u001b[0;32m----> 2\u001b[0;31m \u001b[0ma\u001b[0m\u001b[0;34m,\u001b[0m\u001b[0mb\u001b[0m\u001b[0;34m,\u001b[0m\u001b[0mc\u001b[0m\u001b[0;34m,\u001b[0m\u001b[0md\u001b[0m \u001b[0;34m=\u001b[0m \u001b[0mn\u001b[0m\u001b[0;34m\u001b[0m\u001b[0;34m\u001b[0m\u001b[0m\n\u001b[0m\u001b[1;32m      3\u001b[0m \u001b[0mprint\u001b[0m\u001b[0;34m(\u001b[0m\u001b[0ma\u001b[0m\u001b[0;34m)\u001b[0m\u001b[0;34m\u001b[0m\u001b[0;34m\u001b[0m\u001b[0m\n\u001b[1;32m      4\u001b[0m \u001b[0mprint\u001b[0m\u001b[0;34m(\u001b[0m\u001b[0mb\u001b[0m\u001b[0;34m)\u001b[0m\u001b[0;34m\u001b[0m\u001b[0;34m\u001b[0m\u001b[0m\n",
            "\u001b[0;31mValueError\u001b[0m: not enough values to unpack (expected 4, got 3)"
          ]
        }
      ]
    },
    {
      "cell_type": "code",
      "source": [
        "## Packing and Unpacking tuple\n",
        "## packing\n",
        "packed_tuple=(1,\"Hello\",3.14)\n",
        "print(packed_tuple)"
      ],
      "metadata": {
        "id": "GSRf7-aMr4QP",
        "colab": {
          "base_uri": "https://localhost:8080/"
        },
        "outputId": "c7e4fe56-68de-4e61-a670-5ad02090da5a"
      },
      "execution_count": 44,
      "outputs": [
        {
          "output_type": "stream",
          "name": "stdout",
          "text": [
            "(1, 'Hello', 3.14)\n"
          ]
        }
      ]
    },
    {
      "cell_type": "code",
      "source": [
        "e = packed_tuple\n",
        "print(e)"
      ],
      "metadata": {
        "colab": {
          "base_uri": "https://localhost:8080/"
        },
        "id": "U50eornTvOgv",
        "outputId": "312ef631-b570-479f-bb86-42988af13b11"
      },
      "execution_count": 45,
      "outputs": [
        {
          "output_type": "stream",
          "name": "stdout",
          "text": [
            "(1, 'Hello', 3.14)\n"
          ]
        }
      ]
    },
    {
      "cell_type": "code",
      "source": [
        "##unpacking a tuple\n",
        "a,b,c=packed_tuple\n",
        "\n",
        "print(a)\n",
        "print(b)\n",
        "print(c)"
      ],
      "metadata": {
        "id": "t-Uysp-zr4Tv",
        "colab": {
          "base_uri": "https://localhost:8080/"
        },
        "outputId": "38b7fa9a-9eb2-4f30-a9ff-adf998ddc138"
      },
      "execution_count": 35,
      "outputs": [
        {
          "output_type": "stream",
          "name": "stdout",
          "text": [
            "1\n",
            "Hello\n",
            "3.14\n"
          ]
        }
      ]
    },
    {
      "cell_type": "code",
      "source": [
        "## Unpacking with *\n",
        "numbers=(1,2,3,4,5,6)\n",
        "first,*middle,last=numbers\n",
        "print(first)\n",
        "print(middle)\n",
        "print(last)"
      ],
      "metadata": {
        "id": "U8LkFV7KwJNC",
        "colab": {
          "base_uri": "https://localhost:8080/"
        },
        "outputId": "bc786143-0c8b-45fc-f00e-2a9ea8e2d6f6"
      },
      "execution_count": 50,
      "outputs": [
        {
          "output_type": "stream",
          "name": "stdout",
          "text": [
            "1\n",
            "[2, 3, 4, 5]\n",
            "6\n"
          ]
        }
      ]
    },
    {
      "cell_type": "code",
      "source": [
        "## Nested Tuple\n",
        "## Nested List\n",
        "lst=[[1,2,3,4],[6,7,8,9],[1,\"Hello\",3.14,\"c\"]]\n",
        "lst[1][:3]"
      ],
      "metadata": {
        "id": "JzlYjnJ_wJQR",
        "colab": {
          "base_uri": "https://localhost:8080/"
        },
        "outputId": "b89b778f-158a-456a-e2a9-6ba7b2216f3b"
      },
      "execution_count": 54,
      "outputs": [
        {
          "output_type": "execute_result",
          "data": {
            "text/plain": [
              "[6, 7, 8]"
            ]
          },
          "metadata": {},
          "execution_count": 54
        }
      ]
    },
    {
      "cell_type": "code",
      "source": [
        "nested_tuple = ((1, 2, 3), (\"a\", \"b\", \"c\"), (True, False))\n",
        "\n",
        "## access the elements inside a tuple\n",
        "print(nested_tuple[0])\n",
        "print(nested_tuple[1][2])"
      ],
      "metadata": {
        "id": "ZAOqh8MOwhsk"
      },
      "execution_count": null,
      "outputs": []
    },
    {
      "cell_type": "code",
      "source": [
        "# write a function to find all duplicate elements in a list\n",
        "lst = [1,1,2,2,3,3,3,4,5,6,6,9]\n",
        "lst1= [1,2,3,6]"
      ],
      "metadata": {
        "id": "d4ixUIxRwhvd"
      },
      "execution_count": null,
      "outputs": []
    },
    {
      "cell_type": "code",
      "source": [
        "# implement packing and unpacking in tuple"
      ],
      "metadata": {
        "id": "r589uJ-vwhy8"
      },
      "execution_count": 55,
      "outputs": []
    },
    {
      "cell_type": "code",
      "source": [
        "#create a to-do list\n",
        "lst = ['playing','studying','coding','managing data']"
      ],
      "metadata": {
        "id": "CYcH7qqxxnnJ"
      },
      "execution_count": null,
      "outputs": []
    }
  ]
}
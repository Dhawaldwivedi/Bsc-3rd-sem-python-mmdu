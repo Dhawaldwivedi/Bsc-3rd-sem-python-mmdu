{
  "nbformat": 4,
  "nbformat_minor": 0,
  "metadata": {
    "colab": {
      "provenance": [],
      "authorship_tag": "ABX9TyMh7OaeMVYPUm6tGdkXzEMz",
      "include_colab_link": true
    },
    "kernelspec": {
      "name": "python3",
      "display_name": "Python 3"
    },
    "language_info": {
      "name": "python"
    }
  },
  "cells": [
    {
      "cell_type": "markdown",
      "metadata": {
        "id": "view-in-github",
        "colab_type": "text"
      },
      "source": [
        "<a href=\"https://colab.research.google.com/github/Dhawaldwivedi/Bsc-3rd-sem-python-mmdu/blob/main/ai-ml-g1/Loops_and_Functions_Bsc.ipynb\" target=\"_parent\"><img src=\"https://colab.research.google.com/assets/colab-badge.svg\" alt=\"Open In Colab\"/></a>"
      ]
    },
    {
      "cell_type": "code",
      "execution_count": 6,
      "metadata": {
        "id": "taKZJqctCw1V",
        "colab": {
          "base_uri": "https://localhost:8080/"
        },
        "outputId": "ba709a66-ab44-4db7-9f9d-7cfa4a34a11e"
      },
      "outputs": [
        {
          "output_type": "stream",
          "name": "stdout",
          "text": [
            "hi\n",
            "hi\n"
          ]
        }
      ],
      "source": [
        "print('hi')\n",
        "print('hi')"
      ]
    },
    {
      "cell_type": "markdown",
      "source": [
        "# Loops"
      ],
      "metadata": {
        "id": "HRyWzRqhD8M_"
      }
    },
    {
      "cell_type": "code",
      "source": [
        "range(4)"
      ],
      "metadata": {
        "id": "Ja2ydEj3D-Sy"
      },
      "execution_count": null,
      "outputs": []
    },
    {
      "cell_type": "code",
      "source": [
        "# for loop\n",
        "for i in range(3,10):\n",
        "  print(i)"
      ],
      "metadata": {
        "id": "uGujBL0rEBbz",
        "colab": {
          "base_uri": "https://localhost:8080/"
        },
        "outputId": "756654eb-6784-43ef-edce-a7c1974c9f70"
      },
      "execution_count": 8,
      "outputs": [
        {
          "output_type": "stream",
          "name": "stdout",
          "text": [
            "3\n",
            "4\n",
            "5\n",
            "6\n",
            "7\n",
            "8\n",
            "9\n"
          ]
        }
      ]
    },
    {
      "cell_type": "code",
      "source": [
        "# step size  range(start index , end+1 index , step size)\n",
        "for i in range(3,13,2):\n",
        "  print(i)"
      ],
      "metadata": {
        "id": "fpCp8Xi8EC73",
        "colab": {
          "base_uri": "https://localhost:8080/"
        },
        "outputId": "f33a6266-f78c-44a2-a1eb-f64bc26fef4a"
      },
      "execution_count": 9,
      "outputs": [
        {
          "output_type": "stream",
          "name": "stdout",
          "text": [
            "3\n",
            "5\n",
            "7\n",
            "9\n",
            "11\n"
          ]
        }
      ]
    },
    {
      "cell_type": "code",
      "source": [
        "# iterating a string\n",
        "s = \"mmdu\"\n",
        "for i in s:\n",
        "  print(i)"
      ],
      "metadata": {
        "id": "heWs18hdEI85",
        "colab": {
          "base_uri": "https://localhost:8080/"
        },
        "outputId": "29e590b1-e5a7-4cdb-cbc6-d14b36ff0147"
      },
      "execution_count": 10,
      "outputs": [
        {
          "output_type": "stream",
          "name": "stdout",
          "text": [
            "m\n",
            "m\n",
            "d\n",
            "u\n"
          ]
        }
      ]
    },
    {
      "cell_type": "code",
      "source": [
        "# while loop\n",
        "i = 0\n",
        "while i<5:\n",
        "  print(i)\n",
        "  i= i+1"
      ],
      "metadata": {
        "id": "1kH2o-W9EOJm",
        "colab": {
          "base_uri": "https://localhost:8080/"
        },
        "outputId": "4a399376-331d-4529-83c2-da6262e63981"
      },
      "execution_count": null,
      "outputs": [
        {
          "output_type": "stream",
          "name": "stdout",
          "text": [
            "0\n",
            "1\n",
            "2\n",
            "3\n",
            "4\n"
          ]
        }
      ]
    },
    {
      "cell_type": "code",
      "source": [
        "# break\n",
        "for i in range(10):\n",
        "\n",
        "  if i==5:\n",
        "    break\n",
        "  print(i)\n"
      ],
      "metadata": {
        "id": "Q3Xv8W4JEP14",
        "colab": {
          "base_uri": "https://localhost:8080/"
        },
        "outputId": "13b675ca-46d7-42d7-8ebe-6a5f955bd425"
      },
      "execution_count": 11,
      "outputs": [
        {
          "output_type": "stream",
          "name": "stdout",
          "text": [
            "0\n",
            "1\n",
            "2\n",
            "3\n",
            "4\n"
          ]
        }
      ]
    },
    {
      "cell_type": "code",
      "source": [
        "#continue\n",
        "for i in range(10):\n",
        "  if i ==5:\n",
        "    continue\n",
        "  print(i)"
      ],
      "metadata": {
        "id": "MRuyMKzjEZIA",
        "colab": {
          "base_uri": "https://localhost:8080/"
        },
        "outputId": "f2aee2ae-dcb4-4461-85a8-6dcc98b25f8a"
      },
      "execution_count": 12,
      "outputs": [
        {
          "output_type": "stream",
          "name": "stdout",
          "text": [
            "0\n",
            "1\n",
            "2\n",
            "3\n",
            "4\n",
            "6\n",
            "7\n",
            "8\n",
            "9\n"
          ]
        }
      ]
    },
    {
      "cell_type": "code",
      "source": [
        "# nested loops\n",
        "for i in range(3): # 0,1,2\n",
        "    for j in range(2):  # 0,1\n",
        "        print(f\"i:{i} and j:{j}\")"
      ],
      "metadata": {
        "id": "Ehn99GvEEaqS",
        "colab": {
          "base_uri": "https://localhost:8080/"
        },
        "outputId": "4babc357-f701-4cb9-d96c-55084814c47b"
      },
      "execution_count": null,
      "outputs": [
        {
          "output_type": "stream",
          "name": "stdout",
          "text": [
            "i:0 and j:0\n",
            "i:0 and j:1\n",
            "i:1 and j:0\n",
            "i:1 and j:1\n",
            "i:2 and j:0\n",
            "i:2 and j:1\n"
          ]
        }
      ]
    },
    {
      "cell_type": "code",
      "source": [
        "i = 4\n",
        "j = 7\n",
        "\n",
        "print(f\"the value of i is {i} and j is {j}\")"
      ],
      "metadata": {
        "colab": {
          "base_uri": "https://localhost:8080/"
        },
        "id": "fIIjZse6-wpn",
        "outputId": "0ea8af06-d822-43fa-82d5-34d6c48339dc"
      },
      "execution_count": 13,
      "outputs": [
        {
          "output_type": "stream",
          "name": "stdout",
          "text": [
            "the value of i is 4 and j is 7\n"
          ]
        }
      ]
    },
    {
      "cell_type": "code",
      "source": [
        "# calculate sum of first n natural numbers"
      ],
      "metadata": {
        "id": "XdaZfxb_ElZt"
      },
      "execution_count": null,
      "outputs": []
    },
    {
      "cell_type": "code",
      "source": [
        "# pattern printing\n",
        "''' *****\n",
        "    *****\n",
        "    *****\n",
        "    *****\n",
        "    ***** '''\n",
        "for i in range(5):\n",
        "  for j in range(5):\n",
        "    print(\"*\",end=\"\")\n",
        "  print()"
      ],
      "metadata": {
        "colab": {
          "base_uri": "https://localhost:8080/"
        },
        "id": "dDwtW2crEolb",
        "outputId": "21ce4623-fe11-470e-f89a-08cbe8f310bb"
      },
      "execution_count": 16,
      "outputs": [
        {
          "output_type": "stream",
          "name": "stdout",
          "text": [
            "*****\n",
            "*****\n",
            "*****\n",
            "*****\n",
            "*****\n"
          ]
        }
      ]
    },
    {
      "cell_type": "code",
      "source": [
        "for i in range(4):\n",
        "  for j in range(i+1):\n",
        "    print(\"*\",end=\"\")\n",
        "  print()"
      ],
      "metadata": {
        "colab": {
          "base_uri": "https://localhost:8080/"
        },
        "id": "V32r_1P9GIHN",
        "outputId": "e09f4869-2411-484e-dde7-a9a73edbc81f"
      },
      "execution_count": 19,
      "outputs": [
        {
          "output_type": "stream",
          "name": "stdout",
          "text": [
            "*\n",
            "**\n",
            "***\n",
            "****\n"
          ]
        }
      ]
    },
    {
      "cell_type": "code",
      "source": [
        "''' *****\n",
        "    ****\n",
        "    ***\n",
        "    **\n",
        "    *\n",
        "'''"
      ],
      "metadata": {
        "id": "8LoNsYqjHkeL"
      },
      "execution_count": null,
      "outputs": []
    },
    {
      "cell_type": "markdown",
      "source": [
        "# Functions"
      ],
      "metadata": {
        "id": "zJhHKj_dIrMA"
      }
    },
    {
      "cell_type": "code",
      "source": [],
      "metadata": {
        "id": "f3nOfzDuIueS"
      },
      "execution_count": null,
      "outputs": []
    },
    {
      "cell_type": "code",
      "source": [
        "# function definition\n",
        "def greet():\n",
        "  print('Hey')"
      ],
      "metadata": {
        "id": "wOidIhLRI4fE"
      },
      "execution_count": 20,
      "outputs": []
    },
    {
      "cell_type": "code",
      "source": [
        "# function call\n",
        "for i in range(4):\n",
        "  greet()"
      ],
      "metadata": {
        "id": "L93eixSBI6T5",
        "colab": {
          "base_uri": "https://localhost:8080/"
        },
        "outputId": "b1c36d39-9d7f-45fa-b58c-830a193ef48d"
      },
      "execution_count": 22,
      "outputs": [
        {
          "output_type": "stream",
          "name": "stdout",
          "text": [
            "Hey\n",
            "Hey\n",
            "Hey\n",
            "Hey\n"
          ]
        }
      ]
    },
    {
      "cell_type": "code",
      "source": [
        "# types of function\n",
        "# inbuild - print() , input() , min , max , count , sum\n",
        "# user defined - greet()"
      ],
      "metadata": {
        "id": "Pj11zQASI7vD"
      },
      "execution_count": null,
      "outputs": []
    },
    {
      "cell_type": "code",
      "source": [
        "# local and globaL values in a function\n",
        "a = 3  # global variable\n",
        "def fun():\n",
        "  b = 5  # local variable\n",
        "\n",
        "print(b)\n"
      ],
      "metadata": {
        "id": "Dyh_r2xUJAAF",
        "colab": {
          "base_uri": "https://localhost:8080/",
          "height": 185
        },
        "outputId": "d9e629ee-bb32-400a-bf8b-b40a08be60e2"
      },
      "execution_count": 24,
      "outputs": [
        {
          "output_type": "error",
          "ename": "NameError",
          "evalue": "name 'b' is not defined",
          "traceback": [
            "\u001b[0;31m---------------------------------------------------------------------------\u001b[0m",
            "\u001b[0;31mNameError\u001b[0m                                 Traceback (most recent call last)",
            "\u001b[0;32m/tmp/ipython-input-3193776874.py\u001b[0m in \u001b[0;36m<cell line: 0>\u001b[0;34m()\u001b[0m\n\u001b[1;32m      4\u001b[0m   \u001b[0mb\u001b[0m \u001b[0;34m=\u001b[0m \u001b[0;36m5\u001b[0m\u001b[0;34m\u001b[0m\u001b[0;34m\u001b[0m\u001b[0m\n\u001b[1;32m      5\u001b[0m \u001b[0;34m\u001b[0m\u001b[0m\n\u001b[0;32m----> 6\u001b[0;31m \u001b[0mprint\u001b[0m\u001b[0;34m(\u001b[0m\u001b[0mb\u001b[0m\u001b[0;34m)\u001b[0m\u001b[0;34m\u001b[0m\u001b[0;34m\u001b[0m\u001b[0m\n\u001b[0m",
            "\u001b[0;31mNameError\u001b[0m: name 'b' is not defined"
          ]
        }
      ]
    },
    {
      "cell_type": "code",
      "source": [
        "# parameters in a function\n",
        "def add(a,b):\n",
        "  print(a+b)\n",
        "\n",
        "add(3,4)\n"
      ],
      "metadata": {
        "id": "6tfdM1T9JczK",
        "colab": {
          "base_uri": "https://localhost:8080/"
        },
        "outputId": "ffba9f41-1adf-45f8-8f17-ae9ca02aa494"
      },
      "execution_count": 28,
      "outputs": [
        {
          "output_type": "stream",
          "name": "stdout",
          "text": [
            "7\n"
          ]
        }
      ]
    },
    {
      "cell_type": "code",
      "source": [
        "# return statement\n",
        "def add(a,b):\n",
        "  return a+b,a-b,a*b,a/b\n",
        "\n",
        "add(6,3)\n"
      ],
      "metadata": {
        "id": "uI6T_4NKJelu",
        "colab": {
          "base_uri": "https://localhost:8080/"
        },
        "outputId": "bc608f87-6acc-4ace-f2bb-5eee0bcbc3e5"
      },
      "execution_count": 31,
      "outputs": [
        {
          "output_type": "execute_result",
          "data": {
            "text/plain": [
              "(9, 3, 18, 2.0)"
            ]
          },
          "metadata": {},
          "execution_count": 31
        }
      ]
    },
    {
      "cell_type": "code",
      "source": [],
      "metadata": {
        "id": "tdwY1wSUJgwu",
        "colab": {
          "base_uri": "https://localhost:8080/"
        },
        "outputId": "f9e1537d-b054-4dea-a6f4-b76a9fb45c23"
      },
      "execution_count": null,
      "outputs": [
        {
          "output_type": "execute_result",
          "data": {
            "text/plain": [
              "(72, 54, 567, 0)"
            ]
          },
          "metadata": {},
          "execution_count": 30
        }
      ]
    },
    {
      "cell_type": "code",
      "source": [
        "# default parameter\n",
        "def fun(name = \"mmdu\"):\n",
        "  print(f\"hello {name}\")\n",
        "\n",
        "fun(\"Dhawal\")"
      ],
      "metadata": {
        "id": "UOMuKXiLKk6e",
        "colab": {
          "base_uri": "https://localhost:8080/"
        },
        "outputId": "a1fddd02-f8f2-490b-b8a0-4dcedbd4b653"
      },
      "execution_count": 35,
      "outputs": [
        {
          "output_type": "stream",
          "name": "stdout",
          "text": [
            "hello Dhawal\n"
          ]
        }
      ]
    },
    {
      "cell_type": "code",
      "source": [
        "# keyword and positional arguments\n",
        "# positional\n",
        "def student(name,age):\n",
        "  print(f\"{name} is {age} years old\")\n",
        "\n",
        "\n",
        "student(32,\"Amit\")"
      ],
      "metadata": {
        "id": "b8hIWobrLAbF",
        "colab": {
          "base_uri": "https://localhost:8080/"
        },
        "outputId": "6171f6d2-ddb4-46f3-f474-db821d3a24c9"
      },
      "execution_count": 37,
      "outputs": [
        {
          "output_type": "stream",
          "name": "stdout",
          "text": [
            "32 is Amit years old\n"
          ]
        }
      ]
    },
    {
      "cell_type": "code",
      "source": [
        "# keyword\n",
        "student(age=32,name=\"Amit\")"
      ],
      "metadata": {
        "id": "F0eKZ_tiLvjn",
        "colab": {
          "base_uri": "https://localhost:8080/"
        },
        "outputId": "a931ed9a-b04d-4eee-d09d-d72cdb3d9f85"
      },
      "execution_count": 39,
      "outputs": [
        {
          "output_type": "stream",
          "name": "stdout",
          "text": [
            "Amit is 32 years old\n"
          ]
        }
      ]
    },
    {
      "cell_type": "code",
      "source": [
        "# wap to find max of 3 numbers"
      ],
      "metadata": {
        "id": "-rH__LVAL0EM"
      },
      "execution_count": null,
      "outputs": []
    },
    {
      "cell_type": "code",
      "source": [
        "# print multiplication table of a number using function\n",
        "\n"
      ],
      "metadata": {
        "id": "Cxzjfxb5MC_y"
      },
      "execution_count": null,
      "outputs": []
    },
    {
      "cell_type": "code",
      "source": [],
      "metadata": {
        "id": "DbgzpcoPMMr2"
      },
      "execution_count": null,
      "outputs": []
    }
  ]
}
{
  "nbformat": 4,
  "nbformat_minor": 0,
  "metadata": {
    "colab": {
      "provenance": [],
      "authorship_tag": "ABX9TyOR5FNXGI+OPiv+7hi9yzta",
      "include_colab_link": true
    },
    "kernelspec": {
      "name": "python3",
      "display_name": "Python 3"
    },
    "language_info": {
      "name": "python"
    }
  },
  "cells": [
    {
      "cell_type": "markdown",
      "metadata": {
        "id": "view-in-github",
        "colab_type": "text"
      },
      "source": [
        "<a href=\"https://colab.research.google.com/github/Dhawaldwivedi/Bsc-3rd-sem-python-mmdu/blob/main/ai-ml-g1/sets_bsc.ipynb\" target=\"_parent\"><img src=\"https://colab.research.google.com/assets/colab-badge.svg\" alt=\"Open In Colab\"/></a>"
      ]
    },
    {
      "cell_type": "code",
      "source": [],
      "metadata": {
        "id": "Ibiajs6ZidBd"
      },
      "execution_count": null,
      "outputs": []
    },
    {
      "cell_type": "markdown",
      "source": [
        "Sets"
      ],
      "metadata": {
        "id": "JOZKshYvk-hn"
      }
    },
    {
      "cell_type": "code",
      "source": [
        "# unordered structure of unique elements"
      ],
      "metadata": {
        "id": "RykJDrhjk_nW"
      },
      "execution_count": null,
      "outputs": []
    },
    {
      "cell_type": "code",
      "source": [
        "# create a set\n",
        "my_set = {1,2,3,4,5}\n",
        "print(my_set)"
      ],
      "metadata": {
        "id": "5Ho0kg-plWIQ",
        "colab": {
          "base_uri": "https://localhost:8080/"
        },
        "outputId": "e79e184c-d8c8-4a86-85c2-3a79b2495b03"
      },
      "execution_count": 1,
      "outputs": [
        {
          "output_type": "stream",
          "name": "stdout",
          "text": [
            "{1, 2, 3, 4, 5}\n"
          ]
        }
      ]
    },
    {
      "cell_type": "code",
      "source": [
        "type(my_set)"
      ],
      "metadata": {
        "id": "ZH9aGRPXlhXL",
        "colab": {
          "base_uri": "https://localhost:8080/"
        },
        "outputId": "0d48751a-c386-4f08-9c29-0154f4438fe1"
      },
      "execution_count": 2,
      "outputs": [
        {
          "output_type": "execute_result",
          "data": {
            "text/plain": [
              "set"
            ]
          },
          "metadata": {},
          "execution_count": 2
        }
      ]
    },
    {
      "cell_type": "code",
      "source": [
        "my_set2 = {}  # empty dictionary\n",
        "type(my_set2)"
      ],
      "metadata": {
        "id": "vcZsQtygljey",
        "colab": {
          "base_uri": "https://localhost:8080/"
        },
        "outputId": "7a17a7f0-1272-4c57-d9d9-9b8d7f7ea119"
      },
      "execution_count": 3,
      "outputs": [
        {
          "output_type": "execute_result",
          "data": {
            "text/plain": [
              "dict"
            ]
          },
          "metadata": {},
          "execution_count": 3
        }
      ]
    },
    {
      "cell_type": "code",
      "source": [
        "empty_set = set()\n",
        "type(empty_set)"
      ],
      "metadata": {
        "id": "sRbMqzetlvty",
        "colab": {
          "base_uri": "https://localhost:8080/"
        },
        "outputId": "dd8d0239-a3a2-423e-8e84-d87c806d9f2b"
      },
      "execution_count": 4,
      "outputs": [
        {
          "output_type": "execute_result",
          "data": {
            "text/plain": [
              "set"
            ]
          },
          "metadata": {},
          "execution_count": 4
        }
      ]
    },
    {
      "cell_type": "code",
      "source": [
        "my_set = {1,2,2,3,3,4,4,4,4,5,6}\n",
        "print(my_set)"
      ],
      "metadata": {
        "id": "2qSxOctAl8m-",
        "colab": {
          "base_uri": "https://localhost:8080/"
        },
        "outputId": "14d116fb-a712-4308-e778-1d1a9cd78c33"
      },
      "execution_count": 5,
      "outputs": [
        {
          "output_type": "stream",
          "name": "stdout",
          "text": [
            "{1, 2, 3, 4, 5, 6}\n"
          ]
        }
      ]
    },
    {
      "cell_type": "code",
      "source": [
        "# set operations\n",
        "my_set.add(7)\n",
        "my_set"
      ],
      "metadata": {
        "id": "83owUe1xmIZN",
        "colab": {
          "base_uri": "https://localhost:8080/"
        },
        "outputId": "d059aabc-bf0d-4fb2-e138-7b7cb5242f94"
      },
      "execution_count": 6,
      "outputs": [
        {
          "output_type": "execute_result",
          "data": {
            "text/plain": [
              "{1, 2, 3, 4, 5, 6, 7}"
            ]
          },
          "metadata": {},
          "execution_count": 6
        }
      ]
    },
    {
      "cell_type": "code",
      "source": [
        "my_set.add(7)\n",
        "my_set"
      ],
      "metadata": {
        "id": "CT9qyX1Ymcfi",
        "colab": {
          "base_uri": "https://localhost:8080/"
        },
        "outputId": "f7a9d566-7e21-4130-fddf-84c38eb43135"
      },
      "execution_count": 7,
      "outputs": [
        {
          "output_type": "execute_result",
          "data": {
            "text/plain": [
              "{1, 2, 3, 4, 5, 6, 7}"
            ]
          },
          "metadata": {},
          "execution_count": 7
        }
      ]
    },
    {
      "cell_type": "code",
      "source": [
        "my_set.remove(7)\n",
        "my_set"
      ],
      "metadata": {
        "id": "qCliiMtAmvnA",
        "colab": {
          "base_uri": "https://localhost:8080/"
        },
        "outputId": "314960fa-5772-4ab8-cf5c-471346b35ab8"
      },
      "execution_count": 8,
      "outputs": [
        {
          "output_type": "execute_result",
          "data": {
            "text/plain": [
              "{1, 2, 3, 4, 5, 6}"
            ]
          },
          "metadata": {},
          "execution_count": 8
        }
      ]
    },
    {
      "cell_type": "code",
      "source": [
        "my_set.remove(10)"
      ],
      "metadata": {
        "id": "jXbP4HcCm6UC",
        "colab": {
          "base_uri": "https://localhost:8080/",
          "height": 148
        },
        "outputId": "e6aea331-7f9a-4d9c-f4b4-0b983489a041"
      },
      "execution_count": 9,
      "outputs": [
        {
          "output_type": "error",
          "ename": "KeyError",
          "evalue": "10",
          "traceback": [
            "\u001b[0;31m---------------------------------------------------------------------------\u001b[0m",
            "\u001b[0;31mKeyError\u001b[0m                                  Traceback (most recent call last)",
            "\u001b[0;32m/tmp/ipython-input-3173156896.py\u001b[0m in \u001b[0;36m<cell line: 0>\u001b[0;34m()\u001b[0m\n\u001b[0;32m----> 1\u001b[0;31m \u001b[0mmy_set\u001b[0m\u001b[0;34m.\u001b[0m\u001b[0mremove\u001b[0m\u001b[0;34m(\u001b[0m\u001b[0;36m10\u001b[0m\u001b[0;34m)\u001b[0m\u001b[0;34m\u001b[0m\u001b[0;34m\u001b[0m\u001b[0m\n\u001b[0m",
            "\u001b[0;31mKeyError\u001b[0m: 10"
          ]
        }
      ]
    },
    {
      "cell_type": "code",
      "source": [
        "# discard\n",
        "my_set.discard(0)\n",
        "my_set"
      ],
      "metadata": {
        "id": "b1Pwq6ryn_c5",
        "colab": {
          "base_uri": "https://localhost:8080/"
        },
        "outputId": "1b5471c0-7376-400d-df09-8221d3689d68"
      },
      "execution_count": 11,
      "outputs": [
        {
          "output_type": "execute_result",
          "data": {
            "text/plain": [
              "{1, 3, 4, 5, 6}"
            ]
          },
          "metadata": {},
          "execution_count": 11
        }
      ]
    },
    {
      "cell_type": "code",
      "source": [],
      "metadata": {
        "id": "wqKiX-6MoJ2V"
      },
      "execution_count": null,
      "outputs": []
    },
    {
      "cell_type": "code",
      "source": [
        "my_set.discard(10)\n",
        "my_set"
      ],
      "metadata": {
        "id": "4J36AQukoLOq"
      },
      "execution_count": null,
      "outputs": []
    },
    {
      "cell_type": "code",
      "source": [
        "# pop function\n",
        "a= my_set.pop()\n",
        "a"
      ],
      "metadata": {
        "id": "vHKZwhrXoOS9",
        "colab": {
          "base_uri": "https://localhost:8080/"
        },
        "outputId": "240ee0cf-e24b-4dce-a77e-e98a672bf130"
      },
      "execution_count": 12,
      "outputs": [
        {
          "output_type": "execute_result",
          "data": {
            "text/plain": [
              "1"
            ]
          },
          "metadata": {},
          "execution_count": 12
        }
      ]
    },
    {
      "cell_type": "code",
      "source": [
        "a"
      ],
      "metadata": {
        "id": "FYr5ytf6o7he",
        "colab": {
          "base_uri": "https://localhost:8080/"
        },
        "outputId": "e919fee8-158c-4062-e5cc-ec8a86871c2d"
      },
      "execution_count": 13,
      "outputs": [
        {
          "output_type": "execute_result",
          "data": {
            "text/plain": [
              "1"
            ]
          },
          "metadata": {},
          "execution_count": 13
        }
      ]
    },
    {
      "cell_type": "code",
      "source": [
        "my_set = {1,2,3,4,5,6}\n",
        "my_set\n",
        "my_set[2]"
      ],
      "metadata": {
        "id": "04NKT8gno76f",
        "colab": {
          "base_uri": "https://localhost:8080/"
        },
        "outputId": "10e195b9-30e0-4b61-8f89-ec36a7609036"
      },
      "execution_count": 18,
      "outputs": [
        {
          "output_type": "execute_result",
          "data": {
            "text/plain": [
              "{1, 2, 3, 4, 5, 6}"
            ]
          },
          "metadata": {},
          "execution_count": 18
        }
      ]
    },
    {
      "cell_type": "code",
      "source": [],
      "metadata": {
        "id": "qnZkWq3XpAy0"
      },
      "execution_count": null,
      "outputs": []
    },
    {
      "cell_type": "code",
      "source": [
        "my_set.clear()\n",
        "my_set"
      ],
      "metadata": {
        "id": "rJr6DAzWpB8H",
        "colab": {
          "base_uri": "https://localhost:8080/"
        },
        "outputId": "9520dc46-2a69-41ba-ad47-1c69b6c88b1a"
      },
      "execution_count": 16,
      "outputs": [
        {
          "output_type": "execute_result",
          "data": {
            "text/plain": [
              "set()"
            ]
          },
          "metadata": {},
          "execution_count": 16
        }
      ]
    },
    {
      "cell_type": "code",
      "source": [
        "my_set[2]"
      ],
      "metadata": {
        "id": "KMglTKahpVmf"
      },
      "execution_count": null,
      "outputs": []
    },
    {
      "cell_type": "code",
      "source": [
        "#set membership test\n",
        "my_set = {1,2,3,4,5,6,7}\n",
        "print(3 in my_set)"
      ],
      "metadata": {
        "id": "qiqxMJ8gplZn",
        "colab": {
          "base_uri": "https://localhost:8080/"
        },
        "outputId": "9d57e3e6-cc35-48cb-e4b1-28073fa4e35c"
      },
      "execution_count": 19,
      "outputs": [
        {
          "output_type": "stream",
          "name": "stdout",
          "text": [
            "True\n"
          ]
        }
      ]
    },
    {
      "cell_type": "code",
      "source": [
        "print(9 in my_set)"
      ],
      "metadata": {
        "id": "LqOzVgJ6p4MV",
        "colab": {
          "base_uri": "https://localhost:8080/"
        },
        "outputId": "e644a2af-5982-4e46-d355-19e654ddc1ac"
      },
      "execution_count": 20,
      "outputs": [
        {
          "output_type": "stream",
          "name": "stdout",
          "text": [
            "False\n"
          ]
        }
      ]
    },
    {
      "cell_type": "code",
      "source": [
        "# mathematical operations on sets\n",
        "set1 = {1,2,3,4,5,6}\n",
        "set2 = {4,5,6,7,8,9}\n",
        "\n",
        "## union\n",
        "union_set = set1.union(set2)\n",
        "print(union_set)"
      ],
      "metadata": {
        "id": "QTvNkkiZp6eo",
        "colab": {
          "base_uri": "https://localhost:8080/"
        },
        "outputId": "3d53790b-23bd-44c9-8e20-a371daa46629"
      },
      "execution_count": 21,
      "outputs": [
        {
          "output_type": "stream",
          "name": "stdout",
          "text": [
            "{1, 2, 3, 4, 5, 6, 7, 8, 9}\n"
          ]
        }
      ]
    },
    {
      "cell_type": "code",
      "source": [
        "## intersection\n",
        "intersection_set = set1.intersection(set2)\n",
        "intersection_set"
      ],
      "metadata": {
        "id": "0SQWyTgCqqb2",
        "colab": {
          "base_uri": "https://localhost:8080/"
        },
        "outputId": "3b9904f8-c7a7-4eff-df55-24cb0d414aff"
      },
      "execution_count": 22,
      "outputs": [
        {
          "output_type": "execute_result",
          "data": {
            "text/plain": [
              "{4, 5, 6}"
            ]
          },
          "metadata": {},
          "execution_count": 22
        }
      ]
    },
    {
      "cell_type": "code",
      "source": [
        "## difference\n",
        "print(set1.difference(set2))"
      ],
      "metadata": {
        "id": "mQMR_0YOqxu5",
        "colab": {
          "base_uri": "https://localhost:8080/"
        },
        "outputId": "4b425b8c-f8b0-46bb-9c08-a6957fd1d58b"
      },
      "execution_count": 23,
      "outputs": [
        {
          "output_type": "stream",
          "name": "stdout",
          "text": [
            "{1, 2, 3}\n"
          ]
        }
      ]
    },
    {
      "cell_type": "code",
      "source": [
        "print(set2.difference(set1))"
      ],
      "metadata": {
        "id": "7-4YuCMYrAOK",
        "colab": {
          "base_uri": "https://localhost:8080/"
        },
        "outputId": "25ba09e3-5a7d-45ad-a1a2-690549206a4e"
      },
      "execution_count": 24,
      "outputs": [
        {
          "output_type": "stream",
          "name": "stdout",
          "text": [
            "{8, 9, 7}\n"
          ]
        }
      ]
    },
    {
      "cell_type": "code",
      "source": [
        "## symmetric difference\n",
        "print(set1.symmetric_difference(set2))"
      ],
      "metadata": {
        "id": "yl01PnxBrH-R",
        "colab": {
          "base_uri": "https://localhost:8080/"
        },
        "outputId": "30a4fce0-c4eb-4b19-8bd3-fea9821356e2"
      },
      "execution_count": 25,
      "outputs": [
        {
          "output_type": "stream",
          "name": "stdout",
          "text": [
            "{1, 2, 3, 7, 8, 9}\n"
          ]
        }
      ]
    },
    {
      "cell_type": "code",
      "source": [
        "set1 = {1,2,3,4,5}\n",
        "set2 = {3,4,5}\n",
        "\n",
        "# subset\n",
        "set2.issubset(set1)"
      ],
      "metadata": {
        "id": "4pg5QqyHrYvk",
        "colab": {
          "base_uri": "https://localhost:8080/"
        },
        "outputId": "093d2db6-73e7-46c6-926e-103f195a0873"
      },
      "execution_count": 30,
      "outputs": [
        {
          "output_type": "execute_result",
          "data": {
            "text/plain": [
              "True"
            ]
          },
          "metadata": {},
          "execution_count": 30
        }
      ]
    },
    {
      "cell_type": "code",
      "source": [
        "set1.issuperset(set2)"
      ],
      "metadata": {
        "id": "oEEjg7l4sQ4X",
        "colab": {
          "base_uri": "https://localhost:8080/"
        },
        "outputId": "cb1b3acb-c28e-4f3f-a349-f0c8d2500cce"
      },
      "execution_count": 31,
      "outputs": [
        {
          "output_type": "execute_result",
          "data": {
            "text/plain": [
              "True"
            ]
          },
          "metadata": {},
          "execution_count": 31
        }
      ]
    },
    {
      "cell_type": "code",
      "source": [
        "lst = [1,2,3,4,4,5,6]\n",
        "set(lst)"
      ],
      "metadata": {
        "id": "AnoTASj3sfGq",
        "colab": {
          "base_uri": "https://localhost:8080/"
        },
        "outputId": "95b96f03-086b-411b-9700-f3d8d0f79932"
      },
      "execution_count": 32,
      "outputs": [
        {
          "output_type": "execute_result",
          "data": {
            "text/plain": [
              "{1, 2, 3, 4, 5, 6}"
            ]
          },
          "metadata": {},
          "execution_count": 32
        }
      ]
    },
    {
      "cell_type": "code",
      "source": [
        "## counting unique words in text\n",
        "text =\"In the tutorial we are discussing about the sets In the we are \"\n",
        "words = text.split()\n",
        "print(words)\n",
        "print(len(words))\n",
        "unique = set(words)\n",
        "print(unique)\n",
        "print(len(unique))"
      ],
      "metadata": {
        "id": "rqeo2EQYsyJC",
        "colab": {
          "base_uri": "https://localhost:8080/"
        },
        "outputId": "c181bfdd-d61d-4b8d-a7b0-580f0303c380"
      },
      "execution_count": 37,
      "outputs": [
        {
          "output_type": "stream",
          "name": "stdout",
          "text": [
            "['In', 'the', 'tutorial', 'we', 'are', 'discussing', 'about', 'the', 'sets', 'In', 'the', 'we', 'are']\n",
            "13\n",
            "{'we', 'are', 'In', 'tutorial', 'discussing', 'sets', 'about', 'the'}\n",
            "8\n"
          ]
        }
      ]
    },
    {
      "cell_type": "code",
      "source": [
        "# strip , split , replace"
      ],
      "metadata": {
        "id": "nz167yArvAW0"
      },
      "execution_count": null,
      "outputs": []
    },
    {
      "cell_type": "code",
      "source": [],
      "metadata": {
        "colab": {
          "base_uri": "https://localhost:8080/"
        },
        "id": "iIM7siLmBY6J",
        "outputId": "92e20e4f-f8e6-4729-9472-6327082d0d16"
      },
      "execution_count": 38,
      "outputs": [
        {
          "output_type": "execute_result",
          "data": {
            "text/plain": [
              "['hello', 'world']"
            ]
          },
          "metadata": {},
          "execution_count": 38
        }
      ]
    }
  ]
}
{
  "nbformat": 4,
  "nbformat_minor": 0,
  "metadata": {
    "colab": {
      "provenance": [],
      "authorship_tag": "ABX9TyMdsXYpu87X3YvdrOIOhF/m",
      "include_colab_link": true
    },
    "kernelspec": {
      "name": "python3",
      "display_name": "Python 3"
    },
    "language_info": {
      "name": "python"
    }
  },
  "cells": [
    {
      "cell_type": "markdown",
      "metadata": {
        "id": "view-in-github",
        "colab_type": "text"
      },
      "source": [
        "<a href=\"https://colab.research.google.com/github/Dhawaldwivedi/Bsc-3rd-sem-python-mmdu/blob/main/ai-ml-g3/inbuild_functions_.ipynb\" target=\"_parent\"><img src=\"https://colab.research.google.com/assets/colab-badge.svg\" alt=\"Open In Colab\"/></a>"
      ]
    },
    {
      "cell_type": "code",
      "source": [
        "# math\n",
        "import math"
      ],
      "metadata": {
        "id": "_EjA5DNnO_2m"
      },
      "execution_count": 1,
      "outputs": []
    },
    {
      "cell_type": "code",
      "source": [
        "x = 45.677"
      ],
      "metadata": {
        "id": "t8Sgtgxwb0t1"
      },
      "execution_count": 2,
      "outputs": []
    },
    {
      "cell_type": "code",
      "source": [
        "math.exp(x)"
      ],
      "metadata": {
        "id": "uTkB25iib4Fj",
        "colab": {
          "base_uri": "https://localhost:8080/"
        },
        "outputId": "c6860a4f-c040-4a35-a27d-53a23cdfe870"
      },
      "execution_count": 3,
      "outputs": [
        {
          "output_type": "execute_result",
          "data": {
            "text/plain": [
              "6.8749421784715665e+19"
            ]
          },
          "metadata": {},
          "execution_count": 3
        }
      ]
    },
    {
      "cell_type": "code",
      "source": [
        "math.log10(x)"
      ],
      "metadata": {
        "id": "USg7h6sXb7qO",
        "colab": {
          "base_uri": "https://localhost:8080/"
        },
        "outputId": "7e7bf473-eb2f-4338-a9d0-8fad495f6b6b"
      },
      "execution_count": 4,
      "outputs": [
        {
          "output_type": "execute_result",
          "data": {
            "text/plain": [
              "1.659697572334321"
            ]
          },
          "metadata": {},
          "execution_count": 4
        }
      ]
    },
    {
      "cell_type": "code",
      "source": [
        "math.sin(x)"
      ],
      "metadata": {
        "id": "NTEH-Juxb-mi",
        "colab": {
          "base_uri": "https://localhost:8080/"
        },
        "outputId": "cf443d27-174d-49d9-8b2d-79421f71473c"
      },
      "execution_count": 5,
      "outputs": [
        {
          "output_type": "execute_result",
          "data": {
            "text/plain": [
              "0.9923334029807036"
            ]
          },
          "metadata": {},
          "execution_count": 5
        }
      ]
    },
    {
      "cell_type": "code",
      "source": [
        "math.sqrt(x)"
      ],
      "metadata": {
        "id": "P5_qBfEBcEKW",
        "colab": {
          "base_uri": "https://localhost:8080/"
        },
        "outputId": "fcf8ff96-e833-467d-9ec9-8d29bf0097a9"
      },
      "execution_count": 6,
      "outputs": [
        {
          "output_type": "execute_result",
          "data": {
            "text/plain": [
              "6.758476159608762"
            ]
          },
          "metadata": {},
          "execution_count": 6
        }
      ]
    },
    {
      "cell_type": "code",
      "source": [
        "x"
      ],
      "metadata": {
        "colab": {
          "base_uri": "https://localhost:8080/"
        },
        "id": "4PxepIEPMLNH",
        "outputId": "f723e9ac-5844-4c58-aacf-d6c9454a7dd1"
      },
      "execution_count": 7,
      "outputs": [
        {
          "output_type": "execute_result",
          "data": {
            "text/plain": [
              "45.677"
            ]
          },
          "metadata": {},
          "execution_count": 7
        }
      ]
    },
    {
      "cell_type": "code",
      "source": [
        "# ceil and floor functions\n",
        "math.ceil(x)"
      ],
      "metadata": {
        "id": "O1IpmewmcG8u",
        "colab": {
          "base_uri": "https://localhost:8080/"
        },
        "outputId": "4a09b9ed-50ef-4a48-eaa1-8a7c503735c8"
      },
      "execution_count": 8,
      "outputs": [
        {
          "output_type": "execute_result",
          "data": {
            "text/plain": [
              "46"
            ]
          },
          "metadata": {},
          "execution_count": 8
        }
      ]
    },
    {
      "cell_type": "code",
      "source": [
        "math.floor(x)"
      ],
      "metadata": {
        "id": "OgWGUpRfdGOD",
        "colab": {
          "base_uri": "https://localhost:8080/"
        },
        "outputId": "fd150b76-4cfc-4669-a735-93f7d32ef1ce"
      },
      "execution_count": 9,
      "outputs": [
        {
          "output_type": "execute_result",
          "data": {
            "text/plain": [
              "45"
            ]
          },
          "metadata": {},
          "execution_count": 9
        }
      ]
    },
    {
      "cell_type": "code",
      "source": [
        "math.trunc(x)"
      ],
      "metadata": {
        "id": "MwfPF9FUdJhE",
        "colab": {
          "base_uri": "https://localhost:8080/"
        },
        "outputId": "764fece6-ee41-4cd4-d456-46cab1554d5d"
      },
      "execution_count": 10,
      "outputs": [
        {
          "output_type": "execute_result",
          "data": {
            "text/plain": [
              "45"
            ]
          },
          "metadata": {},
          "execution_count": 10
        }
      ]
    },
    {
      "cell_type": "code",
      "source": [
        "z = 6.138376159608762\n",
        "round(z,5)"
      ],
      "metadata": {
        "id": "F8-rq-zedWK0",
        "colab": {
          "base_uri": "https://localhost:8080/"
        },
        "outputId": "1e252de6-6ce9-49d2-bfa2-11e2aa6b1392"
      },
      "execution_count": 16,
      "outputs": [
        {
          "output_type": "execute_result",
          "data": {
            "text/plain": [
              "6.13838"
            ]
          },
          "metadata": {},
          "execution_count": 16
        }
      ]
    },
    {
      "cell_type": "code",
      "source": [
        "y = -46.65548"
      ],
      "metadata": {
        "id": "wyId7kevdjhX"
      },
      "execution_count": 17,
      "outputs": []
    },
    {
      "cell_type": "code",
      "source": [
        "math.ceil(y)"
      ],
      "metadata": {
        "id": "dcRwPae7drht",
        "colab": {
          "base_uri": "https://localhost:8080/"
        },
        "outputId": "ca5b4c0e-dddb-4ab8-eac9-9f8e40ffb746"
      },
      "execution_count": 18,
      "outputs": [
        {
          "output_type": "execute_result",
          "data": {
            "text/plain": [
              "-46"
            ]
          },
          "metadata": {},
          "execution_count": 18
        }
      ]
    },
    {
      "cell_type": "code",
      "source": [
        "math.floor(y)"
      ],
      "metadata": {
        "id": "WGdt6PJsdwMh",
        "colab": {
          "base_uri": "https://localhost:8080/"
        },
        "outputId": "f3c9bf1a-f2ed-4da4-bb26-8bb76fda1136"
      },
      "execution_count": 19,
      "outputs": [
        {
          "output_type": "execute_result",
          "data": {
            "text/plain": [
              "-47"
            ]
          },
          "metadata": {},
          "execution_count": 19
        }
      ]
    },
    {
      "cell_type": "code",
      "source": [
        "math.trunc(y)"
      ],
      "metadata": {
        "id": "VaB8BrJad07F",
        "colab": {
          "base_uri": "https://localhost:8080/"
        },
        "outputId": "13af55fc-c299-44df-a4ce-f089ad703d0c"
      },
      "execution_count": 20,
      "outputs": [
        {
          "output_type": "execute_result",
          "data": {
            "text/plain": [
              "-46"
            ]
          },
          "metadata": {},
          "execution_count": 20
        }
      ]
    },
    {
      "cell_type": "code",
      "source": [
        "math.pi"
      ],
      "metadata": {
        "id": "cqaF01fQd3Mp",
        "colab": {
          "base_uri": "https://localhost:8080/"
        },
        "outputId": "09a8d35b-d187-47e5-e7a2-56069ae57cd4"
      },
      "execution_count": 21,
      "outputs": [
        {
          "output_type": "execute_result",
          "data": {
            "text/plain": [
              "3.141592653589793"
            ]
          },
          "metadata": {},
          "execution_count": 21
        }
      ]
    },
    {
      "cell_type": "code",
      "source": [
        "# factorial 5! = 5*4*3*2*1= 120\n",
        "math.factorial(12)"
      ],
      "metadata": {
        "id": "UVM_lSvEd_GH",
        "colab": {
          "base_uri": "https://localhost:8080/"
        },
        "outputId": "2ef9779c-8241-42b4-b763-7d846ad47e6c"
      },
      "execution_count": 22,
      "outputs": [
        {
          "output_type": "execute_result",
          "data": {
            "text/plain": [
              "479001600"
            ]
          },
          "metadata": {},
          "execution_count": 22
        }
      ]
    },
    {
      "cell_type": "code",
      "source": [
        "# random\n",
        "import random"
      ],
      "metadata": {
        "id": "p9o9BWGLeUM4"
      },
      "execution_count": 23,
      "outputs": []
    },
    {
      "cell_type": "code",
      "source": [
        "math.trunc(round(random.random()*100))"
      ],
      "metadata": {
        "id": "6qYpUj2iehuq",
        "colab": {
          "base_uri": "https://localhost:8080/"
        },
        "outputId": "46037786-75b4-456a-ed7a-57ebbcd640f9"
      },
      "execution_count": 60,
      "outputs": [
        {
          "output_type": "execute_result",
          "data": {
            "text/plain": [
              "85"
            ]
          },
          "metadata": {},
          "execution_count": 60
        }
      ]
    },
    {
      "cell_type": "code",
      "source": [],
      "metadata": {
        "id": "qEaYt_vpekG3"
      },
      "execution_count": null,
      "outputs": []
    },
    {
      "cell_type": "code",
      "source": [
        "random.randint(1,6)"
      ],
      "metadata": {
        "id": "p7TbaP-zfUEl",
        "colab": {
          "base_uri": "https://localhost:8080/"
        },
        "outputId": "8f86dfe9-2d50-4b65-aa9d-186e305ae5c1"
      },
      "execution_count": 76,
      "outputs": [
        {
          "output_type": "execute_result",
          "data": {
            "text/plain": [
              "5"
            ]
          },
          "metadata": {},
          "execution_count": 76
        }
      ]
    },
    {
      "cell_type": "code",
      "source": [
        "random.choice([1,43,56,78,2,3,90])"
      ],
      "metadata": {
        "id": "TNvItUfNfoGF",
        "colab": {
          "base_uri": "https://localhost:8080/"
        },
        "outputId": "cb5d68fb-3408-4a4d-dd0e-2d168048dc4e"
      },
      "execution_count": 83,
      "outputs": [
        {
          "output_type": "execute_result",
          "data": {
            "text/plain": [
              "2"
            ]
          },
          "metadata": {},
          "execution_count": 83
        }
      ]
    },
    {
      "cell_type": "code",
      "source": [
        "random.sample([1,43,56,78,2,3,90],5)"
      ],
      "metadata": {
        "id": "Zb1WF9JUga4b",
        "colab": {
          "base_uri": "https://localhost:8080/"
        },
        "outputId": "deae3d71-e60e-436d-865e-e1600dadfe8f"
      },
      "execution_count": 92,
      "outputs": [
        {
          "output_type": "execute_result",
          "data": {
            "text/plain": [
              "[90, 43, 78, 56, 2]"
            ]
          },
          "metadata": {},
          "execution_count": 92
        }
      ]
    },
    {
      "cell_type": "code",
      "source": [
        "# write a function to calculate the compound interest - principle , rate , time\n",
        "\n",
        "# math.pow(a,b)"
      ],
      "metadata": {
        "id": "Na2p5WyXgsMB"
      },
      "execution_count": null,
      "outputs": []
    },
    {
      "cell_type": "code",
      "source": [
        "math.pow(5,4)"
      ],
      "metadata": {
        "id": "T6QlP5TUj_k8",
        "colab": {
          "base_uri": "https://localhost:8080/"
        },
        "outputId": "78418c14-7315-468d-c829-c5598941413e"
      },
      "execution_count": 93,
      "outputs": [
        {
          "output_type": "execute_result",
          "data": {
            "text/plain": [
              "625.0"
            ]
          },
          "metadata": {},
          "execution_count": 93
        }
      ]
    },
    {
      "cell_type": "code",
      "source": [
        "# datetime\n",
        "import datetime"
      ],
      "metadata": {
        "id": "uZiF2x_VkT2E"
      },
      "execution_count": 94,
      "outputs": []
    },
    {
      "cell_type": "code",
      "source": [
        "print(datetime.datetime.now())"
      ],
      "metadata": {
        "id": "sfVm6s7ulaHB",
        "colab": {
          "base_uri": "https://localhost:8080/"
        },
        "outputId": "c9dc1f42-a647-49d9-8070-094108e72c12"
      },
      "execution_count": 95,
      "outputs": [
        {
          "output_type": "stream",
          "name": "stdout",
          "text": [
            "2025-10-01 05:28:07.092215\n"
          ]
        }
      ]
    },
    {
      "cell_type": "code",
      "source": [
        "print(datetime.datetime(2020,10,22,10,20,00))  # YY,MM,DD HH:MM:SS"
      ],
      "metadata": {
        "id": "i9oOnATbldgu",
        "colab": {
          "base_uri": "https://localhost:8080/"
        },
        "outputId": "7f2f79b0-2e42-4cc5-f28b-57a75a64861b"
      },
      "execution_count": 96,
      "outputs": [
        {
          "output_type": "stream",
          "name": "stdout",
          "text": [
            "2020-10-22 10:20:00\n"
          ]
        }
      ]
    },
    {
      "cell_type": "code",
      "source": [
        "#strftime\n",
        "print(datetime.datetime.now().strftime(\"%d/%m/%y %H:%M:%S\")) # formatting"
      ],
      "metadata": {
        "id": "SaGpKE5Vl_dl",
        "colab": {
          "base_uri": "https://localhost:8080/"
        },
        "outputId": "465c7382-74a5-45c5-eba1-59c1c81de2cd"
      },
      "execution_count": 97,
      "outputs": [
        {
          "output_type": "stream",
          "name": "stdout",
          "text": [
            "01/10/25 05:31:29\n"
          ]
        }
      ]
    },
    {
      "cell_type": "code",
      "source": [
        "import pytz"
      ],
      "metadata": {
        "id": "p9ZcJAusmpUy"
      },
      "execution_count": 98,
      "outputs": []
    },
    {
      "cell_type": "code",
      "source": [
        "timezone = pytz.timezone(\"Asia/Kolkata\")\n",
        "current_india_time = datetime.datetime.now(timezone)\n",
        "print(current_india_time)"
      ],
      "metadata": {
        "id": "eLx1LbXhm4gR",
        "colab": {
          "base_uri": "https://localhost:8080/"
        },
        "outputId": "604c76b8-522f-42e0-dffc-efd38ac2e3aa"
      },
      "execution_count": 99,
      "outputs": [
        {
          "output_type": "stream",
          "name": "stdout",
          "text": [
            "2025-10-01 11:02:22.040634+05:30\n"
          ]
        }
      ]
    },
    {
      "cell_type": "code",
      "source": [
        "# string functions\n",
        "import string"
      ],
      "metadata": {
        "id": "b3VwP1Z6nLNC"
      },
      "execution_count": 100,
      "outputs": []
    },
    {
      "cell_type": "code",
      "source": [
        "print(string.digits)"
      ],
      "metadata": {
        "id": "iphndKiOnhpB",
        "colab": {
          "base_uri": "https://localhost:8080/"
        },
        "outputId": "05d25c84-24ab-4872-f751-dac1a093e794"
      },
      "execution_count": 101,
      "outputs": [
        {
          "output_type": "stream",
          "name": "stdout",
          "text": [
            "0123456789\n"
          ]
        }
      ]
    },
    {
      "cell_type": "code",
      "source": [
        "x = \"data science\"\n",
        "type(x)"
      ],
      "metadata": {
        "id": "YKQFfVWonlt6",
        "colab": {
          "base_uri": "https://localhost:8080/"
        },
        "outputId": "cc911258-a88d-4713-8075-c2411edca4cf"
      },
      "execution_count": 102,
      "outputs": [
        {
          "output_type": "execute_result",
          "data": {
            "text/plain": [
              "str"
            ]
          },
          "metadata": {},
          "execution_count": 102
        }
      ]
    },
    {
      "cell_type": "code",
      "source": [
        "print(x.upper())"
      ],
      "metadata": {
        "id": "vTY0SPGUnsOS",
        "colab": {
          "base_uri": "https://localhost:8080/"
        },
        "outputId": "07b73e23-3a4d-4148-fce9-be73456cb5ff"
      },
      "execution_count": 103,
      "outputs": [
        {
          "output_type": "stream",
          "name": "stdout",
          "text": [
            "DATA SCIENCE\n"
          ]
        }
      ]
    },
    {
      "cell_type": "code",
      "source": [
        "print(x.lower())\n",
        "print(x.title())\n",
        "print(x.capitalize())"
      ],
      "metadata": {
        "id": "JiPD_2W-nx0R",
        "colab": {
          "base_uri": "https://localhost:8080/"
        },
        "outputId": "12256103-801a-49a8-e520-35407cd05904"
      },
      "execution_count": 104,
      "outputs": [
        {
          "output_type": "stream",
          "name": "stdout",
          "text": [
            "data science\n",
            "Data Science\n",
            "Data science\n"
          ]
        }
      ]
    },
    {
      "cell_type": "code",
      "source": [
        "y = \"233\"\n",
        "print(y.isdigit())\n",
        "print(x.isdigit())"
      ],
      "metadata": {
        "id": "zJbZCbApn4Xf",
        "colab": {
          "base_uri": "https://localhost:8080/"
        },
        "outputId": "cb072d20-5c5c-42e5-e71e-fd72206d8bf5"
      },
      "execution_count": 105,
      "outputs": [
        {
          "output_type": "stream",
          "name": "stdout",
          "text": [
            "True\n",
            "False\n"
          ]
        }
      ]
    },
    {
      "cell_type": "code",
      "source": [
        "txt = ' '\n",
        "print(txt.isspace())"
      ],
      "metadata": {
        "id": "5s-mZNwQoNQC",
        "colab": {
          "base_uri": "https://localhost:8080/"
        },
        "outputId": "5a14212b-340d-4ebc-f3f0-ba8a13e0b71b"
      },
      "execution_count": 106,
      "outputs": [
        {
          "output_type": "stream",
          "name": "stdout",
          "text": [
            "True\n"
          ]
        }
      ]
    },
    {
      "cell_type": "code",
      "source": [
        "len(x)"
      ],
      "metadata": {
        "id": "g5y1ZPX8oWzC",
        "colab": {
          "base_uri": "https://localhost:8080/"
        },
        "outputId": "7444cb1c-6d7d-47ca-d6c4-f8e5142c4cc7"
      },
      "execution_count": 107,
      "outputs": [
        {
          "output_type": "execute_result",
          "data": {
            "text/plain": [
              "12"
            ]
          },
          "metadata": {},
          "execution_count": 107
        }
      ]
    },
    {
      "cell_type": "code",
      "source": [],
      "metadata": {
        "id": "7JzrYRsExvVT"
      },
      "execution_count": null,
      "outputs": []
    }
  ]
}
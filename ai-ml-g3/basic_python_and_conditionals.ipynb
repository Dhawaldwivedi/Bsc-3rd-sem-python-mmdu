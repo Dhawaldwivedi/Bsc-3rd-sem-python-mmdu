{
  "nbformat": 4,
  "nbformat_minor": 0,
  "metadata": {
    "colab": {
      "provenance": [],
      "authorship_tag": "ABX9TyMHZRx1Su6/rqiKgckDrshC",
      "include_colab_link": true
    },
    "kernelspec": {
      "name": "python3",
      "display_name": "Python 3"
    },
    "language_info": {
      "name": "python"
    }
  },
  "cells": [
    {
      "cell_type": "markdown",
      "metadata": {
        "id": "view-in-github",
        "colab_type": "text"
      },
      "source": [
        "<a href=\"https://colab.research.google.com/github/Dhawaldwivedi/Bsc-3rd-sem-python-mmdu/blob/main/ai-ml-g3/basic_python_and_conditionals.ipynb\" target=\"_parent\"><img src=\"https://colab.research.google.com/assets/colab-badge.svg\" alt=\"Open In Colab\"/></a>"
      ]
    },
    {
      "cell_type": "code",
      "execution_count": 86,
      "metadata": {
        "id": "iccp_E2PtQo1",
        "colab": {
          "base_uri": "https://localhost:8080/"
        },
        "outputId": "f3904622-c420-4974-9677-eafca493ac0c"
      },
      "outputs": [
        {
          "output_type": "stream",
          "name": "stdout",
          "text": [
            "hey\n"
          ]
        }
      ],
      "source": [
        "print(\"hey\")"
      ]
    },
    {
      "cell_type": "markdown",
      "source": [
        "# Comments"
      ],
      "metadata": {
        "id": "11C1H0lXk1gZ"
      }
    },
    {
      "cell_type": "code",
      "source": [
        "# single line comment\n",
        "# This is a single line comment"
      ],
      "metadata": {
        "id": "J31lX0TsD8wM"
      },
      "execution_count": 87,
      "outputs": []
    },
    {
      "cell_type": "code",
      "source": [
        "\n",
        "# multi line comment\n",
        "''' this is a\n",
        "     multiline\n",
        "     comment '''\n",
        "print(\"hey\")\n",
        "\n"
      ],
      "metadata": {
        "id": "ixCaflRLD83l",
        "colab": {
          "base_uri": "https://localhost:8080/"
        },
        "outputId": "0755daea-00b7-4e50-a5ed-2d024c67f1bb"
      },
      "execution_count": 89,
      "outputs": [
        {
          "output_type": "stream",
          "name": "stdout",
          "text": [
            "hey\n"
          ]
        }
      ]
    },
    {
      "cell_type": "markdown",
      "source": [
        "# Variables"
      ],
      "metadata": {
        "id": "a_Hka5D5lr4k"
      }
    },
    {
      "cell_type": "code",
      "source": [
        "# declaring and assigning variables\n",
        "a = 23\n",
        "a\n",
        "\n",
        "\n"
      ],
      "metadata": {
        "id": "p6W20HHTlvDD",
        "colab": {
          "base_uri": "https://localhost:8080/"
        },
        "outputId": "635abcad-2696-4a0f-e511-ddd0b3729618"
      },
      "execution_count": 91,
      "outputs": [
        {
          "output_type": "execute_result",
          "data": {
            "text/plain": [
              "23"
            ]
          },
          "metadata": {},
          "execution_count": 91
        }
      ]
    },
    {
      "cell_type": "code",
      "source": [
        "b = 2.45\n",
        "print(b)"
      ],
      "metadata": {
        "colab": {
          "base_uri": "https://localhost:8080/"
        },
        "id": "ANhuQAmsOt4y",
        "outputId": "032b9b06-3304-46a3-ab6f-b5ab07fbef7d"
      },
      "execution_count": 92,
      "outputs": [
        {
          "output_type": "stream",
          "name": "stdout",
          "text": [
            "2.45\n"
          ]
        }
      ]
    },
    {
      "cell_type": "code",
      "source": [
        "c = \"hey\"\n",
        "print(c)"
      ],
      "metadata": {
        "colab": {
          "base_uri": "https://localhost:8080/"
        },
        "id": "Ntg16CxjPAm9",
        "outputId": "bdca781b-8ee1-4072-fd4e-6c1d85ee991d"
      },
      "execution_count": 93,
      "outputs": [
        {
          "output_type": "stream",
          "name": "stdout",
          "text": [
            "hey\n"
          ]
        }
      ]
    },
    {
      "cell_type": "code",
      "source": [
        "d = True\n",
        "print(d)"
      ],
      "metadata": {
        "colab": {
          "base_uri": "https://localhost:8080/"
        },
        "id": "_U2OU-X3PDSO",
        "outputId": "188fe018-b6c0-4dfe-f445-ea31eb08f9b2"
      },
      "execution_count": 94,
      "outputs": [
        {
          "output_type": "stream",
          "name": "stdout",
          "text": [
            "True\n"
          ]
        }
      ]
    },
    {
      "cell_type": "code",
      "source": [
        "print(type(a))\n",
        "print(type(b))\n",
        "print(type(c))\n",
        "print(type(d))"
      ],
      "metadata": {
        "colab": {
          "base_uri": "https://localhost:8080/"
        },
        "id": "2WZG4ti9PD27",
        "outputId": "25571599-e0ef-4294-ab68-9fe2aaab081b"
      },
      "execution_count": 96,
      "outputs": [
        {
          "output_type": "stream",
          "name": "stdout",
          "text": [
            "<class 'int'>\n",
            "<class 'float'>\n",
            "<class 'str'>\n",
            "<class 'bool'>\n"
          ]
        }
      ]
    },
    {
      "cell_type": "code",
      "source": [
        "# valid invalid variable names\n",
        "2ab = 10\n",
        "a@b\n",
        "a-b\n"
      ],
      "metadata": {
        "id": "X06VG0KrmVhq"
      },
      "execution_count": 67,
      "outputs": []
    },
    {
      "cell_type": "code",
      "source": [
        "# case sensitivity in python\n",
        "Name = \"Dhawal\"\n",
        "name = \"dwivedi\"\n",
        "print(Name)\n",
        "print(name)\n"
      ],
      "metadata": {
        "id": "XdoJ6seymbFl",
        "colab": {
          "base_uri": "https://localhost:8080/"
        },
        "outputId": "f6fe137b-a8fb-4d93-e140-69c13fa8f125"
      },
      "execution_count": 97,
      "outputs": [
        {
          "output_type": "stream",
          "name": "stdout",
          "text": [
            "Dhawal\n",
            "dwivedi\n"
          ]
        }
      ]
    },
    {
      "cell_type": "code",
      "source": [
        "## Understanding Variable types\n",
        "## Python is dynamically typed,type of a variable is determined at runtime\n",
        "\n"
      ],
      "metadata": {
        "id": "wfRnJP1fmvx8"
      },
      "execution_count": 69,
      "outputs": []
    },
    {
      "cell_type": "code",
      "source": [
        "# Type Conversion\n",
        "a = 10\n",
        "print(type(a))\n",
        "b = float(a)\n",
        "print(type(b))\n",
        "c = str(a)\n",
        "print(type(c))\n",
        "\n"
      ],
      "metadata": {
        "id": "duKYA6kWmzZu",
        "colab": {
          "base_uri": "https://localhost:8080/"
        },
        "outputId": "2eb3f0ef-4bc4-427b-8f0b-c39db8e1fa77"
      },
      "execution_count": 100,
      "outputs": [
        {
          "output_type": "stream",
          "name": "stdout",
          "text": [
            "<class 'int'>\n",
            "<class 'float'>\n",
            "<class 'str'>\n"
          ]
        }
      ]
    },
    {
      "cell_type": "code",
      "source": [
        "d = \"hello\"\n",
        "v = int(d)\n",
        "print(v)"
      ],
      "metadata": {
        "colab": {
          "base_uri": "https://localhost:8080/",
          "height": 185
        },
        "id": "_REZXvhOSPCh",
        "outputId": "3ee769fc-9e80-482d-e05d-e096b0211277"
      },
      "execution_count": 101,
      "outputs": [
        {
          "output_type": "error",
          "ename": "ValueError",
          "evalue": "invalid literal for int() with base 10: 'hello'",
          "traceback": [
            "\u001b[0;31m---------------------------------------------------------------------------\u001b[0m",
            "\u001b[0;31mValueError\u001b[0m                                Traceback (most recent call last)",
            "\u001b[0;32m/tmp/ipython-input-780243286.py\u001b[0m in \u001b[0;36m<cell line: 0>\u001b[0;34m()\u001b[0m\n\u001b[1;32m      1\u001b[0m \u001b[0md\u001b[0m \u001b[0;34m=\u001b[0m \u001b[0;34m\"hello\"\u001b[0m\u001b[0;34m\u001b[0m\u001b[0;34m\u001b[0m\u001b[0m\n\u001b[0;32m----> 2\u001b[0;31m \u001b[0mv\u001b[0m \u001b[0;34m=\u001b[0m \u001b[0mint\u001b[0m\u001b[0;34m(\u001b[0m\u001b[0md\u001b[0m\u001b[0;34m)\u001b[0m\u001b[0;34m\u001b[0m\u001b[0;34m\u001b[0m\u001b[0m\n\u001b[0m\u001b[1;32m      3\u001b[0m \u001b[0mprint\u001b[0m\u001b[0;34m(\u001b[0m\u001b[0mv\u001b[0m\u001b[0;34m)\u001b[0m\u001b[0;34m\u001b[0m\u001b[0;34m\u001b[0m\u001b[0m\n",
            "\u001b[0;31mValueError\u001b[0m: invalid literal for int() with base 10: 'hello'"
          ]
        }
      ]
    },
    {
      "cell_type": "code",
      "source": [
        "\n"
      ],
      "metadata": {
        "id": "bHsPHa_iSiSh"
      },
      "execution_count": 70,
      "outputs": []
    },
    {
      "cell_type": "code",
      "source": [],
      "metadata": {
        "id": "qelfTDamTKOm"
      },
      "execution_count": 70,
      "outputs": []
    },
    {
      "cell_type": "code",
      "source": [
        "# variables reinitialization\n",
        "var = 21\n",
        "var = 23.45\n",
        "var = \"hey\"\n",
        "print(var)\n"
      ],
      "metadata": {
        "id": "kW3cCIasm3Nl",
        "colab": {
          "base_uri": "https://localhost:8080/"
        },
        "outputId": "e6fa4ea5-0bce-4339-d054-eb2e47fc6c26"
      },
      "execution_count": 104,
      "outputs": [
        {
          "output_type": "stream",
          "name": "stdout",
          "text": [
            "hey\n"
          ]
        }
      ]
    },
    {
      "cell_type": "code",
      "source": [
        "# input function\n",
        "v = float(input(\"enter a number \"))\n",
        "print(v)\n"
      ],
      "metadata": {
        "id": "HM74a3mwnkVe",
        "colab": {
          "base_uri": "https://localhost:8080/"
        },
        "outputId": "aafbcdf1-3607-420f-855e-65e478225c5f"
      },
      "execution_count": 110,
      "outputs": [
        {
          "output_type": "stream",
          "name": "stdout",
          "text": [
            "enter a number 89.7\n",
            "89.7\n"
          ]
        }
      ]
    },
    {
      "cell_type": "code",
      "source": [
        "type(v)"
      ],
      "metadata": {
        "id": "8fJXuc68npNb",
        "colab": {
          "base_uri": "https://localhost:8080/"
        },
        "outputId": "a68cca91-4a36-4aab-cfca-9be6a5a61bd0"
      },
      "execution_count": 112,
      "outputs": [
        {
          "output_type": "execute_result",
          "data": {
            "text/plain": [
              "float"
            ]
          },
          "metadata": {},
          "execution_count": 112
        }
      ]
    },
    {
      "cell_type": "markdown",
      "source": [
        "# Data Types"
      ],
      "metadata": {
        "id": "QqI8N_gnnrPq"
      }
    },
    {
      "cell_type": "code",
      "source": [
        "# understanding different data types\n",
        "# int\n",
        "# float\n",
        "# bool\n",
        "# string"
      ],
      "metadata": {
        "id": "__l1gvhSoFFA"
      },
      "execution_count": 73,
      "outputs": []
    },
    {
      "cell_type": "code",
      "source": [
        "# adding 2 diff datatype variables\n",
        "a = 10\n",
        "b = 23.5\n",
        "c = a+b\n",
        "print(type(c))\n"
      ],
      "metadata": {
        "id": "Qb5xKslroRQD",
        "colab": {
          "base_uri": "https://localhost:8080/"
        },
        "outputId": "1197fd3a-e96e-4a1e-9be0-d269de3e83ef"
      },
      "execution_count": 113,
      "outputs": [
        {
          "output_type": "stream",
          "name": "stdout",
          "text": [
            "<class 'float'>\n"
          ]
        }
      ]
    },
    {
      "cell_type": "code",
      "source": [
        "a = 2\n",
        "b = \"hey\"\n",
        "c= str(a)+b\n",
        "print(c)"
      ],
      "metadata": {
        "id": "6opHNoPcodpq",
        "colab": {
          "base_uri": "https://localhost:8080/"
        },
        "outputId": "a76f350a-a730-4e42-9878-3983d890c8b0"
      },
      "execution_count": 115,
      "outputs": [
        {
          "output_type": "stream",
          "name": "stdout",
          "text": [
            "2hey\n"
          ]
        }
      ]
    },
    {
      "cell_type": "markdown",
      "source": [
        "# Operators"
      ],
      "metadata": {
        "id": "lP16bpW1pAib"
      }
    },
    {
      "cell_type": "code",
      "source": [
        "# Arithmetic Operators\n",
        "# addition\n",
        "# subtraction\n",
        "# multiplication\n",
        "# division\n",
        "# modulus\n",
        "# floor division\n",
        "# exponential\n",
        "a = 12\n",
        "b = 5\n",
        "print(a/b)\n",
        "print(a//b)\n",
        "print(a**b)\n"
      ],
      "metadata": {
        "id": "o9NjcTYhpD7b",
        "colab": {
          "base_uri": "https://localhost:8080/"
        },
        "outputId": "cb311fd4-7db2-48bc-cb0a-58345439bb44"
      },
      "execution_count": 118,
      "outputs": [
        {
          "output_type": "stream",
          "name": "stdout",
          "text": [
            "2.4\n",
            "2\n",
            "248832\n"
          ]
        }
      ]
    },
    {
      "cell_type": "code",
      "source": [
        "# comparison operators\n",
        "# equals ==\n",
        "# not equals !=\n",
        "# greater than\n",
        "# less than\n",
        "print(a==b)\n",
        "print(a!=b)\n",
        "a>=b\n",
        "a<=b"
      ],
      "metadata": {
        "id": "4RWB0J6ypcC0",
        "colab": {
          "base_uri": "https://localhost:8080/"
        },
        "outputId": "9ef30782-0b31-42d7-d93e-0c54e2cd9bea"
      },
      "execution_count": 120,
      "outputs": [
        {
          "output_type": "stream",
          "name": "stdout",
          "text": [
            "False\n",
            "True\n"
          ]
        }
      ]
    },
    {
      "cell_type": "code",
      "source": [
        "# logical operators\n",
        "# and\n",
        "# or\n",
        "# not\n",
        "a= True\n",
        "b = False\n",
        "print(a and b)\n",
        "print(a or b)\n",
        "print(not b)\n"
      ],
      "metadata": {
        "id": "FZYn3B2RrBe9",
        "colab": {
          "base_uri": "https://localhost:8080/"
        },
        "outputId": "36420828-4576-493f-dc63-dfbbfdb65777"
      },
      "execution_count": 124,
      "outputs": [
        {
          "output_type": "stream",
          "name": "stdout",
          "text": [
            "False\n",
            "True\n",
            "True\n"
          ]
        }
      ]
    },
    {
      "cell_type": "markdown",
      "source": [
        "# simple calculator program"
      ],
      "metadata": {
        "id": "F0p8Pa2Sr7aA"
      }
    },
    {
      "cell_type": "code",
      "source": [
        "# create a simple calculator program taking 2 inputs from user and printing different arithemtic outputs"
      ],
      "metadata": {
        "id": "MqZpGPU3soXS"
      },
      "execution_count": 78,
      "outputs": []
    },
    {
      "cell_type": "markdown",
      "source": [
        "# Conditionals"
      ],
      "metadata": {
        "id": "LEGKanWexkui"
      }
    },
    {
      "cell_type": "code",
      "source": [
        "# basics which enables decision making in python"
      ],
      "metadata": {
        "id": "Z1ysObmpxnyc"
      },
      "execution_count": 79,
      "outputs": []
    },
    {
      "cell_type": "code",
      "source": [
        "a=3\n",
        "if a>5:\n",
        "  print(\"a is greater than 5\")\n",
        "else:\n",
        "  print(\"a is less than 5\")\n",
        "\n",
        "\n"
      ],
      "metadata": {
        "id": "iUsI55RuxteS",
        "colab": {
          "base_uri": "https://localhost:8080/"
        },
        "outputId": "cd624ddf-8e53-4b9d-b98d-8fe74c495242"
      },
      "execution_count": 126,
      "outputs": [
        {
          "output_type": "stream",
          "name": "stdout",
          "text": [
            "a is less than 5\n"
          ]
        }
      ]
    },
    {
      "cell_type": "code",
      "source": [
        "#Q) Find if the number is even\n",
        "if a%2==0:\n",
        "  print(\"even\")\n",
        "else:\n",
        "  print(\"odd\")\n"
      ],
      "metadata": {
        "id": "9_k2il0Sxthp",
        "colab": {
          "base_uri": "https://localhost:8080/"
        },
        "outputId": "02d94b6a-7db7-4306-c54c-dfe98a7faf34"
      },
      "execution_count": 128,
      "outputs": [
        {
          "output_type": "stream",
          "name": "stdout",
          "text": [
            "odd\n"
          ]
        }
      ]
    },
    {
      "cell_type": "code",
      "source": [
        "# elif\n",
        "# if condition:\n",
        "    #print(true)\n",
        "# elif conditon2:\n",
        "#    print(true)\n",
        "# else:\n",
        "# print(true)\n",
        "\n"
      ],
      "metadata": {
        "id": "w4wp3Gkkxvzn"
      },
      "execution_count": 81,
      "outputs": []
    },
    {
      "cell_type": "code",
      "source": [
        "# nested conditonals\n",
        "## number even ,odd,negative\n",
        "num= -9\n",
        "if num>0:\n",
        "  if num%2==0:\n",
        "    print(\"even\")\n",
        "  else:\n",
        "    print(\"odd\")\n",
        "else:\n",
        "  print(\"negative\")"
      ],
      "metadata": {
        "id": "Wsf_xnRYxzLq",
        "colab": {
          "base_uri": "https://localhost:8080/"
        },
        "outputId": "12ee9b18-cb58-4c30-cfee-7a9ef1669c0e"
      },
      "execution_count": 130,
      "outputs": [
        {
          "output_type": "stream",
          "name": "stdout",
          "text": [
            "negative\n"
          ]
        }
      ]
    },
    {
      "cell_type": "code",
      "source": [
        "## Simple Calculator program\n",
        "# Take user input for operation"
      ],
      "metadata": {
        "id": "eYdkWjagx2gr"
      },
      "execution_count": 83,
      "outputs": []
    },
    {
      "cell_type": "code",
      "source": [
        " # A simple user login system that checks the username and password.\n",
        "user = \"admin\"\n",
        "password = \"admin@123\""
      ],
      "metadata": {
        "id": "xmodxKADyGhE"
      },
      "execution_count": 84,
      "outputs": []
    },
    {
      "cell_type": "code",
      "source": [
        "# marks baSED ON grade\n",
        "''' 90+ --> A+\n",
        "    80-89 -->A\n",
        "    70-79 --> B\n",
        "    50-69 --> C\n",
        "    below 50 --> D '''"
      ],
      "metadata": {
        "id": "QFpaZy39yIuF",
        "colab": {
          "base_uri": "https://localhost:8080/",
          "height": 36
        },
        "outputId": "d4701ec0-0854-410d-c6d2-9728b584af8c"
      },
      "execution_count": 85,
      "outputs": [
        {
          "output_type": "execute_result",
          "data": {
            "text/plain": [
              "' 90+ --> A+\\n    80-89 -->A\\n    70-79 --> B\\n    50-69 --> C\\n    below 50 --> D '"
            ],
            "application/vnd.google.colaboratory.intrinsic+json": {
              "type": "string"
            }
          },
          "metadata": {},
          "execution_count": 85
        }
      ]
    },
    {
      "cell_type": "code",
      "source": [],
      "metadata": {
        "id": "A3ZLlHBDX804"
      },
      "execution_count": 85,
      "outputs": []
    }
  ]
}
{
  "nbformat": 4,
  "nbformat_minor": 0,
  "metadata": {
    "colab": {
      "provenance": [],
      "collapsed_sections": [
        "VFTPV5f6qJpA"
      ],
      "authorship_tag": "ABX9TyNvlIviBq80zFKRWh0beG1u",
      "include_colab_link": true
    },
    "kernelspec": {
      "name": "python3",
      "display_name": "Python 3"
    },
    "language_info": {
      "name": "python"
    }
  },
  "cells": [
    {
      "cell_type": "markdown",
      "metadata": {
        "id": "view-in-github",
        "colab_type": "text"
      },
      "source": [
        "<a href=\"https://colab.research.google.com/github/Dhawaldwivedi/Bsc-3rd-sem-python-mmdu/blob/main/ai-ml-g3/List_Tuple_BSc.ipynb\" target=\"_parent\"><img src=\"https://colab.research.google.com/assets/colab-badge.svg\" alt=\"Open In Colab\"/></a>"
      ]
    },
    {
      "cell_type": "code",
      "execution_count": null,
      "metadata": {
        "id": "GHDR6084qIM6"
      },
      "outputs": [],
      "source": []
    },
    {
      "cell_type": "markdown",
      "source": [
        "# List"
      ],
      "metadata": {
        "id": "VFTPV5f6qJpA"
      }
    },
    {
      "cell_type": "code",
      "source": [
        "# empty list\n",
        "lst = []\n",
        "type(lst)\n"
      ],
      "metadata": {
        "id": "w6wPqUrjqLZq",
        "colab": {
          "base_uri": "https://localhost:8080/"
        },
        "outputId": "65cc7920-91a1-4c9d-fa41-02f0f893c3c4"
      },
      "execution_count": 2,
      "outputs": [
        {
          "output_type": "execute_result",
          "data": {
            "text/plain": [
              "list"
            ]
          },
          "metadata": {},
          "execution_count": 2
        }
      ]
    },
    {
      "cell_type": "code",
      "source": [
        "# defining a list\n",
        "lst = [3,4,5,\"gfg\",7.8,True]\n",
        "lst"
      ],
      "metadata": {
        "id": "md5dalxXqPy0",
        "colab": {
          "base_uri": "https://localhost:8080/"
        },
        "outputId": "b0b7297a-ebdc-49ad-b657-a52ffc44b73f"
      },
      "execution_count": 3,
      "outputs": [
        {
          "output_type": "execute_result",
          "data": {
            "text/plain": [
              "[3, 4, 5, 'gfg', 7.8, True]"
            ]
          },
          "metadata": {},
          "execution_count": 3
        }
      ]
    },
    {
      "cell_type": "code",
      "source": [
        "# fruits\n",
        "fruits = ['apple','banana','cherry','mango']\n",
        "fruits"
      ],
      "metadata": {
        "id": "Jrc5a49BqP1h",
        "colab": {
          "base_uri": "https://localhost:8080/"
        },
        "outputId": "e107236a-c3e3-4fe9-9da4-7358944952e2"
      },
      "execution_count": 4,
      "outputs": [
        {
          "output_type": "execute_result",
          "data": {
            "text/plain": [
              "['apple', 'banana', 'cherry', 'mango']"
            ]
          },
          "metadata": {},
          "execution_count": 4
        }
      ]
    },
    {
      "cell_type": "code",
      "source": [
        "# accessing different elements\n",
        "fruits[2]"
      ],
      "metadata": {
        "id": "iroG1Gb3qP4N",
        "colab": {
          "base_uri": "https://localhost:8080/",
          "height": 36
        },
        "outputId": "21fe0410-1ca9-41e6-88eb-321b6737a1c1"
      },
      "execution_count": 5,
      "outputs": [
        {
          "output_type": "execute_result",
          "data": {
            "text/plain": [
              "'cherry'"
            ],
            "application/vnd.google.colaboratory.intrinsic+json": {
              "type": "string"
            }
          },
          "metadata": {},
          "execution_count": 5
        }
      ]
    },
    {
      "cell_type": "code",
      "source": [
        "# changing element\n",
        "fruits[1]= 'Pineapple'\n",
        "fruits"
      ],
      "metadata": {
        "id": "XGz9n5NbqP6-",
        "colab": {
          "base_uri": "https://localhost:8080/"
        },
        "outputId": "dadca713-6cd7-4828-dc45-2c6b3356afbf"
      },
      "execution_count": 6,
      "outputs": [
        {
          "output_type": "execute_result",
          "data": {
            "text/plain": [
              "['apple', 'Pineapple', 'cherry', 'mango']"
            ]
          },
          "metadata": {},
          "execution_count": 6
        }
      ]
    },
    {
      "cell_type": "code",
      "source": [
        "# append\n",
        "fruits.append('orange')\n",
        "fruits\n",
        "\n"
      ],
      "metadata": {
        "id": "TiEnQa8aqP9w",
        "colab": {
          "base_uri": "https://localhost:8080/"
        },
        "outputId": "cf2a4159-6ce2-44fb-da4f-e346734369b0"
      },
      "execution_count": 7,
      "outputs": [
        {
          "output_type": "execute_result",
          "data": {
            "text/plain": [
              "['apple', 'Pineapple', 'cherry', 'mango', 'orange']"
            ]
          },
          "metadata": {},
          "execution_count": 7
        }
      ]
    },
    {
      "cell_type": "code",
      "source": [
        "# insert\n",
        "fruits.insert(1,'kiwi')\n",
        "fruits\n",
        "\n"
      ],
      "metadata": {
        "id": "bwXdW-FlqQAX",
        "colab": {
          "base_uri": "https://localhost:8080/"
        },
        "outputId": "5b5ea234-1db1-4d33-bc2f-6d5f05d5be3c"
      },
      "execution_count": 8,
      "outputs": [
        {
          "output_type": "execute_result",
          "data": {
            "text/plain": [
              "['apple', 'kiwi', 'Pineapple', 'cherry', 'mango', 'orange']"
            ]
          },
          "metadata": {},
          "execution_count": 8
        }
      ]
    },
    {
      "cell_type": "code",
      "source": [
        "# pop\n",
        "fruits.pop(2)\n",
        "fruits"
      ],
      "metadata": {
        "id": "E9UIH-t_qQDz",
        "colab": {
          "base_uri": "https://localhost:8080/"
        },
        "outputId": "90ade4ef-f6d1-408b-985f-5627355cc636"
      },
      "execution_count": 10,
      "outputs": [
        {
          "output_type": "execute_result",
          "data": {
            "text/plain": [
              "['apple', 'kiwi', 'cherry', 'mango']"
            ]
          },
          "metadata": {},
          "execution_count": 10
        }
      ]
    },
    {
      "cell_type": "code",
      "source": [
        "# sort\n",
        "fruits.sort(ascending=False)\n",
        "fruits\n"
      ],
      "metadata": {
        "id": "aOMGUvNzqoOt",
        "colab": {
          "base_uri": "https://localhost:8080/"
        },
        "outputId": "aa0780a1-93d7-437f-9cd2-5dcd88a48d95"
      },
      "execution_count": 11,
      "outputs": [
        {
          "output_type": "execute_result",
          "data": {
            "text/plain": [
              "['apple', 'cherry', 'kiwi', 'mango']"
            ]
          },
          "metadata": {},
          "execution_count": 11
        }
      ]
    },
    {
      "cell_type": "code",
      "source": [
        "# reverse\n",
        "\n",
        "fruits.reverse()\n",
        "fruits"
      ],
      "metadata": {
        "id": "HZSvHop3qoRY",
        "colab": {
          "base_uri": "https://localhost:8080/"
        },
        "outputId": "2aa6aabf-72e6-476a-a96e-7ca7d99ac741"
      },
      "execution_count": 12,
      "outputs": [
        {
          "output_type": "execute_result",
          "data": {
            "text/plain": [
              "['mango', 'kiwi', 'cherry', 'apple']"
            ]
          },
          "metadata": {},
          "execution_count": 12
        }
      ]
    },
    {
      "cell_type": "code",
      "source": [
        "# slicing\n",
        "lst = [1,2,6,3,8,8,3,3,1,0]\n",
        "lst[::-1]\n"
      ],
      "metadata": {
        "id": "oeVsl5rPqoU0",
        "colab": {
          "base_uri": "https://localhost:8080/"
        },
        "outputId": "b14bcbd5-9795-4eca-d451-9d3c0c64e8e4"
      },
      "execution_count": 19,
      "outputs": [
        {
          "output_type": "execute_result",
          "data": {
            "text/plain": [
              "[0, 1, 3, 3, 8, 8, 3, 6, 2, 1]"
            ]
          },
          "metadata": {},
          "execution_count": 19
        }
      ]
    },
    {
      "cell_type": "code",
      "source": [
        "# clear\n",
        "fruits.clear()\n",
        "fruits"
      ],
      "metadata": {
        "id": "T_DlIyjqrU_u",
        "colab": {
          "base_uri": "https://localhost:8080/"
        },
        "outputId": "09047e2c-42c3-4d3d-ae4f-b9a3c56c0a99"
      },
      "execution_count": 21,
      "outputs": [
        {
          "output_type": "execute_result",
          "data": {
            "text/plain": [
              "[]"
            ]
          },
          "metadata": {},
          "execution_count": 21
        }
      ]
    },
    {
      "cell_type": "code",
      "source": [
        "# list comprehension\n",
        "[x**2 for x in range(10) if x%2==0]"
      ],
      "metadata": {
        "id": "EusjeJCirVCp",
        "colab": {
          "base_uri": "https://localhost:8080/"
        },
        "outputId": "2bda4ce1-213c-43d8-b6e2-c6eaf037af01"
      },
      "execution_count": 23,
      "outputs": [
        {
          "output_type": "execute_result",
          "data": {
            "text/plain": [
              "[0, 4, 16, 36, 64]"
            ]
          },
          "metadata": {},
          "execution_count": 23
        }
      ]
    },
    {
      "cell_type": "code",
      "source": [
        "lst = [0,1,2,3,4,5,6,7,8,9]\n",
        "for i in lst:\n",
        "  print(lst[i]**2)\n",
        "\n"
      ],
      "metadata": {
        "id": "ULzgPfLFrVGP"
      },
      "execution_count": null,
      "outputs": []
    },
    {
      "cell_type": "markdown",
      "source": [
        "# Tuples"
      ],
      "metadata": {
        "id": "-4joCisnrn9C"
      }
    },
    {
      "cell_type": "code",
      "source": [
        "# empty tuple\n",
        "t = ()\n",
        "print(type(t))"
      ],
      "metadata": {
        "id": "x2tSVWKfrrvr",
        "colab": {
          "base_uri": "https://localhost:8080/"
        },
        "outputId": "5aa75980-ec86-4024-f8f9-d829d716eae7"
      },
      "execution_count": 24,
      "outputs": [
        {
          "output_type": "stream",
          "name": "stdout",
          "text": [
            "<class 'tuple'>\n"
          ]
        }
      ]
    },
    {
      "cell_type": "code",
      "source": [
        "lst=list()\n",
        "print(type(lst))\n",
        "tpl=tuple()\n",
        "print(type(tpl))"
      ],
      "metadata": {
        "id": "Db5FK60xrvoj",
        "colab": {
          "base_uri": "https://localhost:8080/"
        },
        "outputId": "e9db3a68-0e5c-4f3b-c568-b316a15b3cf2"
      },
      "execution_count": null,
      "outputs": [
        {
          "output_type": "stream",
          "name": "stdout",
          "text": [
            "<class 'list'>\n",
            "<class 'tuple'>\n"
          ]
        }
      ]
    },
    {
      "cell_type": "code",
      "source": [
        "numbers=tuple([1,2,3,4,5,6])\n",
        "numbers[3]"
      ],
      "metadata": {
        "id": "_PtVDgsNrvrS",
        "colab": {
          "base_uri": "https://localhost:8080/"
        },
        "outputId": "d47940ab-2359-49cb-ac73-ecfcbcce1989"
      },
      "execution_count": 25,
      "outputs": [
        {
          "output_type": "execute_result",
          "data": {
            "text/plain": [
              "4"
            ]
          },
          "metadata": {},
          "execution_count": 25
        }
      ]
    },
    {
      "cell_type": "code",
      "source": [
        "mixed_tuple=(1,\"Hello World\",3.14, True)\n",
        "print(mixed_tuple)"
      ],
      "metadata": {
        "id": "vGi4wt6Vrvu6",
        "colab": {
          "base_uri": "https://localhost:8080/"
        },
        "outputId": "8ce768b2-0efb-42d7-c262-a31701a7d124"
      },
      "execution_count": 26,
      "outputs": [
        {
          "output_type": "stream",
          "name": "stdout",
          "text": [
            "(1, 'Hello World', 3.14, True)\n"
          ]
        }
      ]
    },
    {
      "cell_type": "code",
      "source": [
        "## Tuple Operations\n",
        "\n",
        "concatenation_tuple=numbers + mixed_tuple\n",
        "print(concatenation_tuple)"
      ],
      "metadata": {
        "id": "gIVnzxiJr4IH",
        "colab": {
          "base_uri": "https://localhost:8080/"
        },
        "outputId": "ac409037-7933-46a4-e57d-4460be0d1531"
      },
      "execution_count": null,
      "outputs": [
        {
          "output_type": "stream",
          "name": "stdout",
          "text": [
            "(1, 2, 3, 4, 5, 6, 1, 'Hello World', 3.14, True)\n"
          ]
        }
      ]
    },
    {
      "cell_type": "code",
      "source": [
        "mixed_tuple*3"
      ],
      "metadata": {
        "colab": {
          "base_uri": "https://localhost:8080/"
        },
        "id": "dDBBPoQWeVW_",
        "outputId": "2d3155e8-3df5-4ac2-975f-e0e4b004e48d"
      },
      "execution_count": 27,
      "outputs": [
        {
          "output_type": "execute_result",
          "data": {
            "text/plain": [
              "(1,\n",
              " 'Hello World',\n",
              " 3.14,\n",
              " True,\n",
              " 1,\n",
              " 'Hello World',\n",
              " 3.14,\n",
              " True,\n",
              " 1,\n",
              " 'Hello World',\n",
              " 3.14,\n",
              " True)"
            ]
          },
          "metadata": {},
          "execution_count": 27
        }
      ]
    },
    {
      "cell_type": "code",
      "source": [
        "lst=[1,2,3,4,5]\n",
        "print(lst)\n",
        "\n",
        "lst[1]=\"Krish\"\n",
        "print(lst)"
      ],
      "metadata": {
        "id": "zdw0tQbqr4K0",
        "colab": {
          "base_uri": "https://localhost:8080/"
        },
        "outputId": "5d63d1c4-afdb-4383-9832-fe14bbe0e7b6"
      },
      "execution_count": 28,
      "outputs": [
        {
          "output_type": "stream",
          "name": "stdout",
          "text": [
            "[1, 2, 3, 4, 5]\n",
            "[1, 'Krish', 3, 4, 5]\n"
          ]
        }
      ]
    },
    {
      "cell_type": "code",
      "source": [
        "numbers[2]= \"Krish\""
      ],
      "metadata": {
        "colab": {
          "base_uri": "https://localhost:8080/",
          "height": 148
        },
        "id": "xESG0JPmeqxs",
        "outputId": "4720cd07-8138-43ee-c2a8-c10b83ee32cd"
      },
      "execution_count": 29,
      "outputs": [
        {
          "output_type": "error",
          "ename": "TypeError",
          "evalue": "'tuple' object does not support item assignment",
          "traceback": [
            "\u001b[0;31m---------------------------------------------------------------------------\u001b[0m",
            "\u001b[0;31mTypeError\u001b[0m                                 Traceback (most recent call last)",
            "\u001b[0;32m/tmp/ipython-input-181303943.py\u001b[0m in \u001b[0;36m<cell line: 0>\u001b[0;34m()\u001b[0m\n\u001b[0;32m----> 1\u001b[0;31m \u001b[0mnumbers\u001b[0m\u001b[0;34m[\u001b[0m\u001b[0;36m2\u001b[0m\u001b[0;34m]\u001b[0m\u001b[0;34m=\u001b[0m \u001b[0;34m\"Krish\"\u001b[0m\u001b[0;34m\u001b[0m\u001b[0;34m\u001b[0m\u001b[0m\n\u001b[0m",
            "\u001b[0;31mTypeError\u001b[0m: 'tuple' object does not support item assignment"
          ]
        }
      ]
    },
    {
      "cell_type": "code",
      "source": [],
      "metadata": {
        "id": "CMmuPiLGeq1J"
      },
      "execution_count": null,
      "outputs": []
    },
    {
      "cell_type": "code",
      "source": [
        "## Tuple Methods\n",
        "print(numbers.count(1))\n",
        "print(numbers.index(3))"
      ],
      "metadata": {
        "id": "ym2SXBWSr4Nd",
        "colab": {
          "base_uri": "https://localhost:8080/"
        },
        "outputId": "312933b2-1538-4d74-e801-65e159c9d8d8"
      },
      "execution_count": 30,
      "outputs": [
        {
          "output_type": "stream",
          "name": "stdout",
          "text": [
            "1\n",
            "2\n"
          ]
        }
      ]
    },
    {
      "cell_type": "code",
      "source": [
        "## Packing and Unpacking tuple\n",
        "## packing\n",
        "packed_tuple=(1,\"Hello\",3.14)\n",
        "print(packed_tuple)"
      ],
      "metadata": {
        "id": "GSRf7-aMr4QP",
        "colab": {
          "base_uri": "https://localhost:8080/"
        },
        "outputId": "4f4d4755-94a1-4608-ce50-3406b5311d06"
      },
      "execution_count": 31,
      "outputs": [
        {
          "output_type": "stream",
          "name": "stdout",
          "text": [
            "(1, 'Hello', 3.14)\n"
          ]
        }
      ]
    },
    {
      "cell_type": "code",
      "source": [
        "##unpacking a tuple\n",
        "a,b,c=packed_tuple\n",
        "\n",
        "print(a)\n",
        "print(b)\n",
        "print(c)"
      ],
      "metadata": {
        "id": "t-Uysp-zr4Tv",
        "colab": {
          "base_uri": "https://localhost:8080/"
        },
        "outputId": "3aff4892-185e-4b70-d3cb-c438aa907b04"
      },
      "execution_count": 32,
      "outputs": [
        {
          "output_type": "stream",
          "name": "stdout",
          "text": [
            "1\n",
            "Hello\n",
            "3.14\n"
          ]
        }
      ]
    },
    {
      "cell_type": "code",
      "source": [
        "## Unpacking with *\n",
        "numbers=(1,2,3,4,5,6)\n",
        "first,middle,*last=numbers\n",
        "print(first)\n",
        "print(middle)\n",
        "print(last)"
      ],
      "metadata": {
        "id": "U8LkFV7KwJNC",
        "colab": {
          "base_uri": "https://localhost:8080/"
        },
        "outputId": "101598cc-da84-4292-f66f-b50e89d0a516"
      },
      "execution_count": 36,
      "outputs": [
        {
          "output_type": "stream",
          "name": "stdout",
          "text": [
            "1\n",
            "2\n",
            "[3, 4, 5, 6]\n"
          ]
        }
      ]
    },
    {
      "cell_type": "code",
      "source": [
        "## Nested Tuple\n",
        "## Nested List\n",
        "lst=[[1,2,3,4],[6,7,8,9],[1,\"Hello\",3.14,\"c\"]]\n",
        "lst[2][1:3]"
      ],
      "metadata": {
        "id": "JzlYjnJ_wJQR",
        "colab": {
          "base_uri": "https://localhost:8080/"
        },
        "outputId": "4aa4820e-8d9f-4fca-99a9-e4ca4e0bc303"
      },
      "execution_count": 38,
      "outputs": [
        {
          "output_type": "execute_result",
          "data": {
            "text/plain": [
              "['Hello', 3.14]"
            ]
          },
          "metadata": {},
          "execution_count": 38
        }
      ]
    },
    {
      "cell_type": "code",
      "source": [
        "nested_tuple = ((1, 2, 3), (\"a\", \"b\", \"c\"), (True, False))\n",
        "\n",
        "## access the elements inside a tuple\n",
        "print(nested_tuple[0])\n",
        "print(nested_tuple[1][2])"
      ],
      "metadata": {
        "id": "ZAOqh8MOwhsk"
      },
      "execution_count": null,
      "outputs": []
    },
    {
      "cell_type": "code",
      "source": [
        "# write a function to find all duplicate elements in a list\n",
        "lst = [1,1,2,2,3,3,3,4,5,6,6,9]\n",
        "lst1= [1,2,3,6]"
      ],
      "metadata": {
        "id": "d4ixUIxRwhvd"
      },
      "execution_count": null,
      "outputs": []
    },
    {
      "cell_type": "code",
      "source": [],
      "metadata": {
        "id": "r589uJ-vwhy8"
      },
      "execution_count": null,
      "outputs": []
    }
  ]
}
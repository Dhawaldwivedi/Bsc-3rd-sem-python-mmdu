{
  "nbformat": 4,
  "nbformat_minor": 0,
  "metadata": {
    "colab": {
      "provenance": [],
      "authorship_tag": "ABX9TyMHbIqxXcH//+lf8yCRjhxI",
      "include_colab_link": true
    },
    "kernelspec": {
      "name": "python3",
      "display_name": "Python 3"
    },
    "language_info": {
      "name": "python"
    }
  },
  "cells": [
    {
      "cell_type": "markdown",
      "metadata": {
        "id": "view-in-github",
        "colab_type": "text"
      },
      "source": [
        "<a href=\"https://colab.research.google.com/github/Dhawaldwivedi/Bsc-3rd-sem-python-mmdu/blob/main/ai-ml-g3/Loops_and_Functions_Bsc.ipynb\" target=\"_parent\"><img src=\"https://colab.research.google.com/assets/colab-badge.svg\" alt=\"Open In Colab\"/></a>"
      ]
    },
    {
      "cell_type": "code",
      "execution_count": null,
      "metadata": {
        "id": "taKZJqctCw1V"
      },
      "outputs": [],
      "source": [
        "print(\"hey\")\n",
        "print(\"hey\")"
      ]
    },
    {
      "cell_type": "markdown",
      "source": [
        "# Loops"
      ],
      "metadata": {
        "id": "HRyWzRqhD8M_"
      }
    },
    {
      "cell_type": "code",
      "source": [
        "range(4)"
      ],
      "metadata": {
        "id": "Ja2ydEj3D-Sy"
      },
      "execution_count": null,
      "outputs": []
    },
    {
      "cell_type": "code",
      "source": [
        "# for loop\n",
        "for i in range(2,5):\n",
        "  print(i)"
      ],
      "metadata": {
        "id": "uGujBL0rEBbz",
        "colab": {
          "base_uri": "https://localhost:8080/"
        },
        "outputId": "2062342b-5f36-43b1-ac3b-7c5732a06db3"
      },
      "execution_count": 2,
      "outputs": [
        {
          "output_type": "stream",
          "name": "stdout",
          "text": [
            "2\n",
            "3\n",
            "4\n"
          ]
        }
      ]
    },
    {
      "cell_type": "code",
      "source": [
        "# step size  range(start index , end+1 index , step size)\n",
        "for i in range(15,3,-2):\n",
        "  print(i)"
      ],
      "metadata": {
        "id": "fpCp8Xi8EC73",
        "colab": {
          "base_uri": "https://localhost:8080/"
        },
        "outputId": "c4e692a3-a72f-4077-a4af-cf56a60a66db"
      },
      "execution_count": 4,
      "outputs": [
        {
          "output_type": "stream",
          "name": "stdout",
          "text": [
            "15\n",
            "13\n",
            "11\n",
            "9\n",
            "7\n",
            "5\n"
          ]
        }
      ]
    },
    {
      "cell_type": "code",
      "source": [
        "# iterating a string\n",
        "s = \"mmdu\"\n",
        "for i in s:\n",
        "  print(i)"
      ],
      "metadata": {
        "id": "heWs18hdEI85",
        "colab": {
          "base_uri": "https://localhost:8080/"
        },
        "outputId": "8877b6a7-0151-4794-b7ad-5eb8ef259444"
      },
      "execution_count": 5,
      "outputs": [
        {
          "output_type": "stream",
          "name": "stdout",
          "text": [
            "m\n",
            "m\n",
            "d\n",
            "u\n"
          ]
        }
      ]
    },
    {
      "cell_type": "code",
      "source": [
        "# while loop\n",
        "i = 0\n",
        "while i<5:\n",
        "  print(i)\n",
        "  i= i+1"
      ],
      "metadata": {
        "id": "1kH2o-W9EOJm",
        "colab": {
          "base_uri": "https://localhost:8080/"
        },
        "outputId": "4a399376-331d-4529-83c2-da6262e63981"
      },
      "execution_count": 6,
      "outputs": [
        {
          "output_type": "stream",
          "name": "stdout",
          "text": [
            "0\n",
            "1\n",
            "2\n",
            "3\n",
            "4\n"
          ]
        }
      ]
    },
    {
      "cell_type": "code",
      "source": [
        "# break\n",
        "for i in range(10):\n",
        "  print(i)\n",
        "  if i==5:\n",
        "    break\n",
        ""
      ],
      "metadata": {
        "id": "Q3Xv8W4JEP14",
        "colab": {
          "base_uri": "https://localhost:8080/"
        },
        "outputId": "a11c8fa4-0053-487f-98c6-d38cf6e9bf21"
      },
      "execution_count": 7,
      "outputs": [
        {
          "output_type": "stream",
          "name": "stdout",
          "text": [
            "0\n",
            "1\n",
            "2\n",
            "3\n",
            "4\n",
            "5\n"
          ]
        }
      ]
    },
    {
      "cell_type": "code",
      "source": [
        "#continue\n",
        "for i in range(10):\n",
        "  if i ==5:\n",
        "    continue\n",
        "  print(i)"
      ],
      "metadata": {
        "id": "MRuyMKzjEZIA",
        "colab": {
          "base_uri": "https://localhost:8080/"
        },
        "outputId": "273490e5-ce46-4dbd-cf31-f08b7bb426f5"
      },
      "execution_count": 8,
      "outputs": [
        {
          "output_type": "stream",
          "name": "stdout",
          "text": [
            "0\n",
            "1\n",
            "2\n",
            "3\n",
            "4\n",
            "6\n",
            "7\n",
            "8\n",
            "9\n"
          ]
        }
      ]
    },
    {
      "cell_type": "code",
      "source": [
        "# nested loops\n",
        "for i in range(3):\n",
        "    for j in range(2):\n",
        "        print(f\"i:{i} and j:{j}\")"
      ],
      "metadata": {
        "id": "Ehn99GvEEaqS",
        "colab": {
          "base_uri": "https://localhost:8080/"
        },
        "outputId": "4babc357-f701-4cb9-d96c-55084814c47b"
      },
      "execution_count": 9,
      "outputs": [
        {
          "output_type": "stream",
          "name": "stdout",
          "text": [
            "i:0 and j:0\n",
            "i:0 and j:1\n",
            "i:1 and j:0\n",
            "i:1 and j:1\n",
            "i:2 and j:0\n",
            "i:2 and j:1\n"
          ]
        }
      ]
    },
    {
      "cell_type": "code",
      "source": [
        "i = 4\n",
        "j = 5\n",
        "\n",
        "print(f\"value of i is {i} and j is {j}\")\n"
      ],
      "metadata": {
        "colab": {
          "base_uri": "https://localhost:8080/"
        },
        "id": "fIIjZse6-wpn",
        "outputId": "a4944ef8-7328-46d4-8a2c-c7971cb15dbd"
      },
      "execution_count": 10,
      "outputs": [
        {
          "output_type": "stream",
          "name": "stdout",
          "text": [
            "value of i is 4 and j is 5\n"
          ]
        }
      ]
    },
    {
      "cell_type": "code",
      "source": [
        "# calculate sum of first n natural numbers"
      ],
      "metadata": {
        "id": "XdaZfxb_ElZt"
      },
      "execution_count": null,
      "outputs": []
    },
    {
      "cell_type": "code",
      "source": [
        "# pattern printing\n",
        "rows = 4\n",
        "for i in range(4):\n",
        "  for j in range(4):\n",
        "    print(\"*\",end = \"\")\n",
        "  print()"
      ],
      "metadata": {
        "colab": {
          "base_uri": "https://localhost:8080/"
        },
        "id": "dDwtW2crEolb",
        "outputId": "fcf78861-cb5a-438c-dad3-ce7078ebfe94"
      },
      "execution_count": 14,
      "outputs": [
        {
          "output_type": "stream",
          "name": "stdout",
          "text": [
            "****\n",
            "****\n",
            "****\n",
            "****\n"
          ]
        }
      ]
    },
    {
      "cell_type": "code",
      "source": [
        "for i in range(5):\n",
        "  for j in range(i):\n",
        "    print(\"*\",end = \"\")\n",
        "  print()"
      ],
      "metadata": {
        "colab": {
          "base_uri": "https://localhost:8080/"
        },
        "id": "V32r_1P9GIHN",
        "outputId": "3a414a83-6767-46a0-e460-7c2fca0535ed"
      },
      "execution_count": 18,
      "outputs": [
        {
          "output_type": "stream",
          "name": "stdout",
          "text": [
            "\n",
            "*\n",
            "**\n",
            "***\n",
            "****\n"
          ]
        }
      ]
    },
    {
      "cell_type": "code",
      "source": [
        "''' *****\n",
        "    ****\n",
        "    ***\n",
        "    **\n",
        "    *\n",
        "'''"
      ],
      "metadata": {
        "id": "8LoNsYqjHkeL"
      },
      "execution_count": null,
      "outputs": []
    },
    {
      "cell_type": "markdown",
      "source": [
        "# Functions"
      ],
      "metadata": {
        "id": "zJhHKj_dIrMA"
      }
    },
    {
      "cell_type": "code",
      "source": [],
      "metadata": {
        "id": "f3nOfzDuIueS"
      },
      "execution_count": null,
      "outputs": []
    },
    {
      "cell_type": "code",
      "source": [
        "# function definition\n",
        "def greet():\n",
        "  print(\"hello\")"
      ],
      "metadata": {
        "id": "wOidIhLRI4fE"
      },
      "execution_count": 20,
      "outputs": []
    },
    {
      "cell_type": "code",
      "source": [
        "# function call\n",
        "for i in range(5):\n",
        "  greet()"
      ],
      "metadata": {
        "id": "L93eixSBI6T5",
        "colab": {
          "base_uri": "https://localhost:8080/"
        },
        "outputId": "a1d274cf-2113-4ca7-94cf-ecd0e450e1b1"
      },
      "execution_count": 22,
      "outputs": [
        {
          "output_type": "stream",
          "name": "stdout",
          "text": [
            "hello\n",
            "hello\n",
            "hello\n",
            "hello\n",
            "hello\n"
          ]
        }
      ]
    },
    {
      "cell_type": "code",
      "source": [
        "# types of function\n",
        "# print , input , pow , sqrt , len() , sum() , max()"
      ],
      "metadata": {
        "id": "Pj11zQASI7vD"
      },
      "execution_count": null,
      "outputs": []
    },
    {
      "cell_type": "code",
      "source": [
        "# local and globaL values in a function\n",
        "a = 5 # global\n",
        "def fun():\n",
        "  b = 3  # local\n",
        "\n",
        "fun()\n",
        "\n"
      ],
      "metadata": {
        "id": "Dyh_r2xUJAAF"
      },
      "execution_count": 25,
      "outputs": []
    },
    {
      "cell_type": "code",
      "source": [
        "# parameters in a function\n",
        "def add(a,b):\n",
        "  print(a+b)\n",
        "\n",
        "add(3,6)"
      ],
      "metadata": {
        "id": "6tfdM1T9JczK",
        "colab": {
          "base_uri": "https://localhost:8080/"
        },
        "outputId": "0112a65b-bb1d-4b58-82e1-6c8125f0cca1"
      },
      "execution_count": 28,
      "outputs": [
        {
          "output_type": "stream",
          "name": "stdout",
          "text": [
            "9\n"
          ]
        }
      ]
    },
    {
      "cell_type": "code",
      "source": [
        "# return statement\n",
        "def add(a,b):\n",
        "  return a+b\n",
        "\n",
        "add(3,5)"
      ],
      "metadata": {
        "id": "uI6T_4NKJelu",
        "colab": {
          "base_uri": "https://localhost:8080/"
        },
        "outputId": "e8d439a2-c274-449a-fa81-c63beeec38e3"
      },
      "execution_count": 29,
      "outputs": [
        {
          "output_type": "execute_result",
          "data": {
            "text/plain": [
              "8"
            ]
          },
          "metadata": {},
          "execution_count": 29
        }
      ]
    },
    {
      "cell_type": "code",
      "source": [
        "def opr(a,b):\n",
        "  return a+b,a-b,a*b,a%b\n",
        "\n",
        "opr(63,9)"
      ],
      "metadata": {
        "id": "tdwY1wSUJgwu",
        "colab": {
          "base_uri": "https://localhost:8080/"
        },
        "outputId": "f9e1537d-b054-4dea-a6f4-b76a9fb45c23"
      },
      "execution_count": 30,
      "outputs": [
        {
          "output_type": "execute_result",
          "data": {
            "text/plain": [
              "(72, 54, 567, 0)"
            ]
          },
          "metadata": {},
          "execution_count": 30
        }
      ]
    },
    {
      "cell_type": "code",
      "source": [
        "# default parameter\n",
        "def fun(name=\"Dhawal\"):\n",
        "  print(f\"hello,{name}\")\n",
        "\n",
        "fun()"
      ],
      "metadata": {
        "id": "UOMuKXiLKk6e",
        "colab": {
          "base_uri": "https://localhost:8080/"
        },
        "outputId": "662fcce4-e6d5-4cec-d923-082119f48906"
      },
      "execution_count": 34,
      "outputs": [
        {
          "output_type": "stream",
          "name": "stdout",
          "text": [
            "hello,Dhawal\n"
          ]
        }
      ]
    },
    {
      "cell_type": "code",
      "source": [
        "# keyword and positional arguments\n",
        "# positional\n",
        "def student(name,age):\n",
        "  print(f\"{name} is {age} years old\")\n",
        "\n",
        "\n",
        "student(30,\"Amit\")"
      ],
      "metadata": {
        "id": "b8hIWobrLAbF",
        "colab": {
          "base_uri": "https://localhost:8080/"
        },
        "outputId": "07e65daa-4d72-43b1-a37b-5f31bd150ed1"
      },
      "execution_count": 36,
      "outputs": [
        {
          "output_type": "stream",
          "name": "stdout",
          "text": [
            "30 is Amit years old\n"
          ]
        }
      ]
    },
    {
      "cell_type": "code",
      "source": [
        "# keyword\n",
        "student(age=30,name=\"Amit\")"
      ],
      "metadata": {
        "id": "F0eKZ_tiLvjn",
        "colab": {
          "base_uri": "https://localhost:8080/"
        },
        "outputId": "cc1112ec-d320-4500-c407-de25ea11cb9b"
      },
      "execution_count": 37,
      "outputs": [
        {
          "output_type": "stream",
          "name": "stdout",
          "text": [
            "Amit is 30 years old\n"
          ]
        }
      ]
    },
    {
      "cell_type": "code",
      "source": [
        "# wap to find max of 3 numbers"
      ],
      "metadata": {
        "id": "-rH__LVAL0EM"
      },
      "execution_count": null,
      "outputs": []
    },
    {
      "cell_type": "code",
      "source": [
        "# print multiplication table of a number using function"
      ],
      "metadata": {
        "id": "Cxzjfxb5MC_y"
      },
      "execution_count": null,
      "outputs": []
    },
    {
      "cell_type": "code",
      "source": [],
      "metadata": {
        "id": "DbgzpcoPMMr2"
      },
      "execution_count": null,
      "outputs": []
    }
  ]
}
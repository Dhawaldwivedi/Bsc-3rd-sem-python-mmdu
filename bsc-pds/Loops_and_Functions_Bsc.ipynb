{
  "nbformat": 4,
  "nbformat_minor": 0,
  "metadata": {
    "colab": {
      "provenance": [],
      "authorship_tag": "ABX9TyMQtdXpKvaqiXE03D5cGb7X",
      "include_colab_link": true
    },
    "kernelspec": {
      "name": "python3",
      "display_name": "Python 3"
    },
    "language_info": {
      "name": "python"
    }
  },
  "cells": [
    {
      "cell_type": "markdown",
      "metadata": {
        "id": "view-in-github",
        "colab_type": "text"
      },
      "source": [
        "<a href=\"https://colab.research.google.com/github/Dhawaldwivedi/Bsc-3rd-sem-python-mmdu/blob/main/bsc-pds/Loops_and_Functions_Bsc.ipynb\" target=\"_parent\"><img src=\"https://colab.research.google.com/assets/colab-badge.svg\" alt=\"Open In Colab\"/></a>"
      ]
    },
    {
      "cell_type": "code",
      "execution_count": 1,
      "metadata": {
        "id": "taKZJqctCw1V",
        "colab": {
          "base_uri": "https://localhost:8080/"
        },
        "outputId": "ac6c201b-92d6-47af-fe0f-727dfb29e2bb"
      },
      "outputs": [
        {
          "output_type": "stream",
          "name": "stdout",
          "text": [
            "hi\n"
          ]
        }
      ],
      "source": [
        "print('hi')"
      ]
    },
    {
      "cell_type": "markdown",
      "source": [
        "# Loops"
      ],
      "metadata": {
        "id": "HRyWzRqhD8M_"
      }
    },
    {
      "cell_type": "code",
      "source": [
        "range(4)"
      ],
      "metadata": {
        "id": "Ja2ydEj3D-Sy"
      },
      "execution_count": null,
      "outputs": []
    },
    {
      "cell_type": "code",
      "source": [
        "# for loop\n",
        "for i in range(2,9):\n",
        "  print(i)"
      ],
      "metadata": {
        "id": "uGujBL0rEBbz",
        "colab": {
          "base_uri": "https://localhost:8080/"
        },
        "outputId": "9c9cedb4-9498-4406-8b16-1d4bdb1ee336"
      },
      "execution_count": 3,
      "outputs": [
        {
          "output_type": "stream",
          "name": "stdout",
          "text": [
            "2\n",
            "3\n",
            "4\n",
            "5\n",
            "6\n",
            "7\n",
            "8\n"
          ]
        }
      ]
    },
    {
      "cell_type": "code",
      "source": [
        "# step size  range(start index , end+1 index , step size)\n",
        "for i in range(12,2,-3):\n",
        "  print(i)"
      ],
      "metadata": {
        "id": "fpCp8Xi8EC73",
        "colab": {
          "base_uri": "https://localhost:8080/"
        },
        "outputId": "f79755d6-9c8c-4d87-e538-0625b87f4d0b"
      },
      "execution_count": 7,
      "outputs": [
        {
          "output_type": "stream",
          "name": "stdout",
          "text": [
            "12\n",
            "9\n",
            "6\n",
            "3\n"
          ]
        }
      ]
    },
    {
      "cell_type": "code",
      "source": [
        "# iterating a string\n",
        "s = 'mmdu'\n",
        "for i in s:\n",
        "  print(i)"
      ],
      "metadata": {
        "id": "heWs18hdEI85",
        "colab": {
          "base_uri": "https://localhost:8080/"
        },
        "outputId": "9c5e40d6-0e9d-49e6-defb-8d40702c5546"
      },
      "execution_count": 8,
      "outputs": [
        {
          "output_type": "stream",
          "name": "stdout",
          "text": [
            "m\n",
            "m\n",
            "d\n",
            "u\n"
          ]
        }
      ]
    },
    {
      "cell_type": "code",
      "source": [
        "# while loop\n",
        "i = 0\n",
        "while i<5:\n",
        "  print(i)\n",
        "  i= i+1"
      ],
      "metadata": {
        "id": "1kH2o-W9EOJm",
        "colab": {
          "base_uri": "https://localhost:8080/"
        },
        "outputId": "4a399376-331d-4529-83c2-da6262e63981"
      },
      "execution_count": null,
      "outputs": [
        {
          "output_type": "stream",
          "name": "stdout",
          "text": [
            "0\n",
            "1\n",
            "2\n",
            "3\n",
            "4\n"
          ]
        }
      ]
    },
    {
      "cell_type": "code",
      "source": [
        "# break\n",
        "for i in range(10):\n",
        "  print(i)\n",
        "  if i==5:\n",
        "    break\n"
      ],
      "metadata": {
        "id": "Q3Xv8W4JEP14",
        "colab": {
          "base_uri": "https://localhost:8080/"
        },
        "outputId": "c91ed09b-4e55-44c7-ac84-1e58fda278f4"
      },
      "execution_count": 9,
      "outputs": [
        {
          "output_type": "stream",
          "name": "stdout",
          "text": [
            "0\n",
            "1\n",
            "2\n",
            "3\n",
            "4\n",
            "5\n"
          ]
        }
      ]
    },
    {
      "cell_type": "code",
      "source": [
        "#continue\n",
        "for i in range(10):\n",
        "  if i ==5:\n",
        "    continue\n",
        "  print(i)"
      ],
      "metadata": {
        "id": "MRuyMKzjEZIA",
        "colab": {
          "base_uri": "https://localhost:8080/"
        },
        "outputId": "273490e5-ce46-4dbd-cf31-f08b7bb426f5"
      },
      "execution_count": null,
      "outputs": [
        {
          "output_type": "stream",
          "name": "stdout",
          "text": [
            "0\n",
            "1\n",
            "2\n",
            "3\n",
            "4\n",
            "6\n",
            "7\n",
            "8\n",
            "9\n"
          ]
        }
      ]
    },
    {
      "cell_type": "code",
      "source": [
        "# nested loops\n",
        "for i in range(3):\n",
        "    for j in range(2):\n",
        "        print(f\"i:{i} and j:{j}\")"
      ],
      "metadata": {
        "id": "Ehn99GvEEaqS",
        "colab": {
          "base_uri": "https://localhost:8080/"
        },
        "outputId": "4babc357-f701-4cb9-d96c-55084814c47b"
      },
      "execution_count": null,
      "outputs": [
        {
          "output_type": "stream",
          "name": "stdout",
          "text": [
            "i:0 and j:0\n",
            "i:0 and j:1\n",
            "i:1 and j:0\n",
            "i:1 and j:1\n",
            "i:2 and j:0\n",
            "i:2 and j:1\n"
          ]
        }
      ]
    },
    {
      "cell_type": "code",
      "source": [
        "i = 4\n",
        "j = 7\n",
        "\n",
        "print(f\"value of i is {i} and j is {j} \")"
      ],
      "metadata": {
        "colab": {
          "base_uri": "https://localhost:8080/"
        },
        "id": "fIIjZse6-wpn",
        "outputId": "c735fc53-1303-47dd-9794-2e83a66c6eb0"
      },
      "execution_count": 10,
      "outputs": [
        {
          "output_type": "stream",
          "name": "stdout",
          "text": [
            "value of i is 4 and j is 7 \n"
          ]
        }
      ]
    },
    {
      "cell_type": "code",
      "source": [
        "# calculate sum of first n natural numbers"
      ],
      "metadata": {
        "id": "XdaZfxb_ElZt"
      },
      "execution_count": null,
      "outputs": []
    },
    {
      "cell_type": "code",
      "source": [
        "# pattern printing\n",
        "for i in range(4):\n",
        "  for j in range(4):\n",
        "    print(\"*\",end = \"\")\n",
        "  print()\n"
      ],
      "metadata": {
        "colab": {
          "base_uri": "https://localhost:8080/"
        },
        "id": "dDwtW2crEolb",
        "outputId": "ec6d95f7-6ce3-4b95-e008-06fb15bcba7d"
      },
      "execution_count": 13,
      "outputs": [
        {
          "output_type": "stream",
          "name": "stdout",
          "text": [
            "****\n",
            "****\n",
            "****\n",
            "****\n"
          ]
        }
      ]
    },
    {
      "cell_type": "code",
      "source": [
        "for i in range(4):\n",
        "  for j in range(i+1):\n",
        "    print(\"*\",end = \"\")\n",
        "  print()"
      ],
      "metadata": {
        "colab": {
          "base_uri": "https://localhost:8080/"
        },
        "id": "V32r_1P9GIHN",
        "outputId": "7d712d73-5abe-47bb-8118-81921cf11182"
      },
      "execution_count": 16,
      "outputs": [
        {
          "output_type": "stream",
          "name": "stdout",
          "text": [
            "*\n",
            "**\n",
            "***\n",
            "****\n"
          ]
        }
      ]
    },
    {
      "cell_type": "code",
      "source": [
        "''' *****\n",
        "    ****\n",
        "    ***\n",
        "    **\n",
        "    *\n",
        "'''\n"
      ],
      "metadata": {
        "id": "8LoNsYqjHkeL"
      },
      "execution_count": null,
      "outputs": []
    },
    {
      "cell_type": "markdown",
      "source": [
        "# Functions"
      ],
      "metadata": {
        "id": "zJhHKj_dIrMA"
      }
    },
    {
      "cell_type": "code",
      "source": [],
      "metadata": {
        "id": "f3nOfzDuIueS"
      },
      "execution_count": null,
      "outputs": []
    },
    {
      "cell_type": "code",
      "source": [
        "# function definition\n",
        "def greet():\n",
        "  print(\"hello\")\n"
      ],
      "metadata": {
        "id": "wOidIhLRI4fE"
      },
      "execution_count": 17,
      "outputs": []
    },
    {
      "cell_type": "code",
      "source": [
        "# function call\n",
        "for i in range(10):\n",
        "  greet()\n"
      ],
      "metadata": {
        "id": "L93eixSBI6T5",
        "colab": {
          "base_uri": "https://localhost:8080/"
        },
        "outputId": "f54c570e-b18e-447a-9165-fc9f89c53c9b"
      },
      "execution_count": 19,
      "outputs": [
        {
          "output_type": "stream",
          "name": "stdout",
          "text": [
            "hello\n",
            "hello\n",
            "hello\n",
            "hello\n",
            "hello\n",
            "hello\n",
            "hello\n",
            "hello\n",
            "hello\n",
            "hello\n"
          ]
        }
      ]
    },
    {
      "cell_type": "code",
      "source": [
        "# types of function\n",
        "# in build - len() , print() , input , sum , max , min ,\n",
        "# user defined"
      ],
      "metadata": {
        "id": "Pj11zQASI7vD"
      },
      "execution_count": null,
      "outputs": []
    },
    {
      "cell_type": "code",
      "source": [
        "# local and globaL values in a function\n",
        "b = 4  # global\n",
        "def fun():\n",
        "  a = 10 # local\n",
        "  print(a)\n",
        "\n",
        "\n",
        "print(fun())\n",
        "\n"
      ],
      "metadata": {
        "id": "Dyh_r2xUJAAF",
        "colab": {
          "base_uri": "https://localhost:8080/"
        },
        "outputId": "dd239ea5-b050-4f15-8da7-3b0477b7e58c"
      },
      "execution_count": 22,
      "outputs": [
        {
          "output_type": "stream",
          "name": "stdout",
          "text": [
            "10\n",
            "None\n"
          ]
        }
      ]
    },
    {
      "cell_type": "code",
      "source": [
        "# parameters in a function\n",
        "def add(a,b):\n",
        "  print(a+b)\n",
        "\n",
        "add(8,3)"
      ],
      "metadata": {
        "id": "6tfdM1T9JczK",
        "colab": {
          "base_uri": "https://localhost:8080/"
        },
        "outputId": "c122f223-f3d7-4ec6-9f40-3c02bb836228"
      },
      "execution_count": 26,
      "outputs": [
        {
          "output_type": "stream",
          "name": "stdout",
          "text": [
            "11\n"
          ]
        }
      ]
    },
    {
      "cell_type": "code",
      "source": [
        "# return statement\n",
        "def add(a,b):\n",
        "  return a+b,a-b,a*b,a/b\n",
        "\n",
        "add(23,4)\n"
      ],
      "metadata": {
        "id": "uI6T_4NKJelu",
        "colab": {
          "base_uri": "https://localhost:8080/"
        },
        "outputId": "2fe8606d-0a40-4ce4-abf3-112e30e1a0ac"
      },
      "execution_count": 28,
      "outputs": [
        {
          "output_type": "execute_result",
          "data": {
            "text/plain": [
              "(27, 19, 92, 5.75)"
            ]
          },
          "metadata": {},
          "execution_count": 28
        }
      ]
    },
    {
      "cell_type": "code",
      "source": [],
      "metadata": {
        "id": "tdwY1wSUJgwu",
        "colab": {
          "base_uri": "https://localhost:8080/"
        },
        "outputId": "f9e1537d-b054-4dea-a6f4-b76a9fb45c23"
      },
      "execution_count": null,
      "outputs": [
        {
          "output_type": "execute_result",
          "data": {
            "text/plain": [
              "(72, 54, 567, 0)"
            ]
          },
          "metadata": {},
          "execution_count": 30
        }
      ]
    },
    {
      "cell_type": "code",
      "source": [
        "# default parameter\n",
        "def fun(name = \"Dhawal\"):\n",
        "  print(f\"hello {name}\")\n",
        "\n",
        "fun(\"gfg\")"
      ],
      "metadata": {
        "id": "UOMuKXiLKk6e",
        "colab": {
          "base_uri": "https://localhost:8080/"
        },
        "outputId": "e9283852-3643-4259-977d-79764e61a73d"
      },
      "execution_count": 34,
      "outputs": [
        {
          "output_type": "stream",
          "name": "stdout",
          "text": [
            "hello gfg\n"
          ]
        }
      ]
    },
    {
      "cell_type": "code",
      "source": [
        "# keyword and positional arguments\n",
        "# positional\n",
        "def student(name,age):\n",
        "  print(f\"{name} is {age} years old\")\n",
        "\n",
        "\n",
        "student(30,\"Amit\")"
      ],
      "metadata": {
        "id": "b8hIWobrLAbF",
        "colab": {
          "base_uri": "https://localhost:8080/"
        },
        "outputId": "4a59cc0f-a020-46c7-c932-48ed2d7aa99f"
      },
      "execution_count": 36,
      "outputs": [
        {
          "output_type": "stream",
          "name": "stdout",
          "text": [
            "30 is Amit years old\n"
          ]
        }
      ]
    },
    {
      "cell_type": "code",
      "source": [
        "# keyword\n",
        "student(age = 30, name = \"Amit\")\n"
      ],
      "metadata": {
        "id": "F0eKZ_tiLvjn",
        "colab": {
          "base_uri": "https://localhost:8080/"
        },
        "outputId": "6a3cf360-14c2-42a8-b49d-c5da72191c3e"
      },
      "execution_count": 37,
      "outputs": [
        {
          "output_type": "stream",
          "name": "stdout",
          "text": [
            "Amit is 30 years old\n"
          ]
        }
      ]
    },
    {
      "cell_type": "code",
      "source": [
        "# wap to find max of 3 numbers"
      ],
      "metadata": {
        "id": "-rH__LVAL0EM"
      },
      "execution_count": null,
      "outputs": []
    },
    {
      "cell_type": "code",
      "source": [
        "# print multiplication table of a number using function"
      ],
      "metadata": {
        "id": "Cxzjfxb5MC_y"
      },
      "execution_count": null,
      "outputs": []
    },
    {
      "cell_type": "code",
      "source": [],
      "metadata": {
        "id": "DbgzpcoPMMr2"
      },
      "execution_count": null,
      "outputs": []
    }
  ]
}
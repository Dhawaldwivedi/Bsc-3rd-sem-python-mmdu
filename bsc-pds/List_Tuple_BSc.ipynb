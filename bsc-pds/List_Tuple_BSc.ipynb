{
  "nbformat": 4,
  "nbformat_minor": 0,
  "metadata": {
    "colab": {
      "provenance": [],
      "authorship_tag": "ABX9TyMU6jkU9KJrIse9z+H9De+6",
      "include_colab_link": true
    },
    "kernelspec": {
      "name": "python3",
      "display_name": "Python 3"
    },
    "language_info": {
      "name": "python"
    }
  },
  "cells": [
    {
      "cell_type": "markdown",
      "metadata": {
        "id": "view-in-github",
        "colab_type": "text"
      },
      "source": [
        "<a href=\"https://colab.research.google.com/github/Dhawaldwivedi/Bsc-3rd-sem-python-mmdu/blob/main/bsc-pds/List_Tuple_BSc.ipynb\" target=\"_parent\"><img src=\"https://colab.research.google.com/assets/colab-badge.svg\" alt=\"Open In Colab\"/></a>"
      ]
    },
    {
      "cell_type": "code",
      "execution_count": null,
      "metadata": {
        "id": "GHDR6084qIM6"
      },
      "outputs": [],
      "source": []
    },
    {
      "cell_type": "markdown",
      "source": [
        "# List"
      ],
      "metadata": {
        "id": "VFTPV5f6qJpA"
      }
    },
    {
      "cell_type": "code",
      "source": [
        "# empty list\n",
        "lst = []\n",
        "print(lst)"
      ],
      "metadata": {
        "id": "w6wPqUrjqLZq",
        "colab": {
          "base_uri": "https://localhost:8080/"
        },
        "outputId": "a7dc40a1-518f-474d-8e69-4d6c3f10bfaa"
      },
      "execution_count": 1,
      "outputs": [
        {
          "output_type": "stream",
          "name": "stdout",
          "text": [
            "[]\n"
          ]
        }
      ]
    },
    {
      "cell_type": "code",
      "source": [
        "# defining a list\n",
        "lst = [1,2,3,4]\n",
        "lst"
      ],
      "metadata": {
        "id": "md5dalxXqPy0",
        "colab": {
          "base_uri": "https://localhost:8080/"
        },
        "outputId": "ea506c99-c18d-429b-c9ea-13a78d4119c9"
      },
      "execution_count": 2,
      "outputs": [
        {
          "output_type": "execute_result",
          "data": {
            "text/plain": [
              "[1, 2, 3, 4]"
            ]
          },
          "metadata": {},
          "execution_count": 2
        }
      ]
    },
    {
      "cell_type": "code",
      "source": [
        "# fruits\n",
        "fruits = ['apple','banana','cherry','mango']\n",
        "fruits"
      ],
      "metadata": {
        "id": "Jrc5a49BqP1h",
        "colab": {
          "base_uri": "https://localhost:8080/"
        },
        "outputId": "2cf7ebd3-f4f8-4f24-bfb5-cc5c46b5b331"
      },
      "execution_count": 3,
      "outputs": [
        {
          "output_type": "execute_result",
          "data": {
            "text/plain": [
              "['apple', 'banana', 'cherry', 'mango']"
            ]
          },
          "metadata": {},
          "execution_count": 3
        }
      ]
    },
    {
      "cell_type": "code",
      "source": [
        "# accessing different elements\n",
        "print(fruits[2])\n",
        "print(fruits[-1])"
      ],
      "metadata": {
        "id": "iroG1Gb3qP4N",
        "colab": {
          "base_uri": "https://localhost:8080/"
        },
        "outputId": "fe26faec-7144-4b10-9fea-81226091ee3c"
      },
      "execution_count": 4,
      "outputs": [
        {
          "output_type": "stream",
          "name": "stdout",
          "text": [
            "cherry\n",
            "mango\n"
          ]
        }
      ]
    },
    {
      "cell_type": "code",
      "source": [
        "# changing element\n",
        "fruits[1] = 'guava'\n",
        "fruits"
      ],
      "metadata": {
        "id": "XGz9n5NbqP6-",
        "colab": {
          "base_uri": "https://localhost:8080/"
        },
        "outputId": "ef7c3c4a-479e-48ce-e797-3b81ed9dcc7c"
      },
      "execution_count": 5,
      "outputs": [
        {
          "output_type": "execute_result",
          "data": {
            "text/plain": [
              "['apple', 'guava', 'cherry', 'mango']"
            ]
          },
          "metadata": {},
          "execution_count": 5
        }
      ]
    },
    {
      "cell_type": "code",
      "source": [
        "# append\n",
        "fruits.append('orange')\n",
        "fruits"
      ],
      "metadata": {
        "id": "TiEnQa8aqP9w",
        "colab": {
          "base_uri": "https://localhost:8080/"
        },
        "outputId": "d2048b1d-867a-4ad4-dffd-66dce9617402"
      },
      "execution_count": 6,
      "outputs": [
        {
          "output_type": "execute_result",
          "data": {
            "text/plain": [
              "['apple', 'guava', 'cherry', 'mango', 'orange']"
            ]
          },
          "metadata": {},
          "execution_count": 6
        }
      ]
    },
    {
      "cell_type": "code",
      "source": [
        "# insert\n",
        "fruits.insert(1,'banana')\n",
        "fruits\n"
      ],
      "metadata": {
        "id": "bwXdW-FlqQAX",
        "colab": {
          "base_uri": "https://localhost:8080/"
        },
        "outputId": "99e7a2ab-2da6-43d1-b287-ee74edeeaa60"
      },
      "execution_count": 7,
      "outputs": [
        {
          "output_type": "execute_result",
          "data": {
            "text/plain": [
              "['apple', 'banana', 'guava', 'cherry', 'mango', 'orange']"
            ]
          },
          "metadata": {},
          "execution_count": 7
        }
      ]
    },
    {
      "cell_type": "code",
      "source": [
        "# pop\n",
        "fruits.pop(2)\n",
        "fruits"
      ],
      "metadata": {
        "id": "E9UIH-t_qQDz",
        "colab": {
          "base_uri": "https://localhost:8080/"
        },
        "outputId": "938fc420-9d1b-4c51-b830-42f7d5725d3f"
      },
      "execution_count": 9,
      "outputs": [
        {
          "output_type": "execute_result",
          "data": {
            "text/plain": [
              "['apple', 'banana', 'cherry', 'mango']"
            ]
          },
          "metadata": {},
          "execution_count": 9
        }
      ]
    },
    {
      "cell_type": "code",
      "source": [
        "# sort\n",
        "fruits.sort(ascending = False)\n",
        "fruits"
      ],
      "metadata": {
        "id": "aOMGUvNzqoOt",
        "colab": {
          "base_uri": "https://localhost:8080/"
        },
        "outputId": "8352b7b7-5b2e-44a9-c34c-c9d6ce7e4a6c"
      },
      "execution_count": 10,
      "outputs": [
        {
          "output_type": "execute_result",
          "data": {
            "text/plain": [
              "['apple', 'banana', 'cherry', 'mango']"
            ]
          },
          "metadata": {},
          "execution_count": 10
        }
      ]
    },
    {
      "cell_type": "code",
      "source": [
        "# reverse\n",
        "fruits.reverse()\n",
        "fruits"
      ],
      "metadata": {
        "id": "HZSvHop3qoRY",
        "colab": {
          "base_uri": "https://localhost:8080/"
        },
        "outputId": "a5b8f005-85e2-45a4-cebd-af9fe2176cf8"
      },
      "execution_count": 11,
      "outputs": [
        {
          "output_type": "execute_result",
          "data": {
            "text/plain": [
              "['mango', 'cherry', 'banana', 'apple']"
            ]
          },
          "metadata": {},
          "execution_count": 11
        }
      ]
    },
    {
      "cell_type": "code",
      "source": [
        "# slicing\n",
        "lst = [1,2,6,3,8,8,3,3,1,0]\n",
        "lst[::-1]\n"
      ],
      "metadata": {
        "id": "oeVsl5rPqoU0",
        "colab": {
          "base_uri": "https://localhost:8080/"
        },
        "outputId": "3cbd39e8-cb1f-446c-b4d7-e9e0db1f7ca6"
      },
      "execution_count": 20,
      "outputs": [
        {
          "output_type": "execute_result",
          "data": {
            "text/plain": [
              "[0, 1, 3, 3, 8, 8, 3, 6, 2, 1]"
            ]
          },
          "metadata": {},
          "execution_count": 20
        }
      ]
    },
    {
      "cell_type": "code",
      "source": [
        "# clear\n",
        "lst.clear()\n",
        "lst"
      ],
      "metadata": {
        "id": "T_DlIyjqrU_u",
        "colab": {
          "base_uri": "https://localhost:8080/"
        },
        "outputId": "4a42460a-1339-4cb6-d901-19c7bcbd996d"
      },
      "execution_count": 21,
      "outputs": [
        {
          "output_type": "execute_result",
          "data": {
            "text/plain": [
              "[]"
            ]
          },
          "metadata": {},
          "execution_count": 21
        }
      ]
    },
    {
      "cell_type": "code",
      "source": [
        "# list comprehension\n",
        "[x**2 for x in range(10) if x%2==0]"
      ],
      "metadata": {
        "id": "EusjeJCirVCp",
        "colab": {
          "base_uri": "https://localhost:8080/"
        },
        "outputId": "349c17dc-260e-4306-ee45-43a15e48e565"
      },
      "execution_count": 23,
      "outputs": [
        {
          "output_type": "execute_result",
          "data": {
            "text/plain": [
              "[0, 4, 16, 36, 64]"
            ]
          },
          "metadata": {},
          "execution_count": 23
        }
      ]
    },
    {
      "cell_type": "code",
      "source": [
        "lst = [0,1,2,3,4,5,6,7]\n",
        "for i in lst:\n",
        "  print(i**2)\n"
      ],
      "metadata": {
        "id": "ULzgPfLFrVGP"
      },
      "execution_count": null,
      "outputs": []
    },
    {
      "cell_type": "markdown",
      "source": [
        "# Tuples"
      ],
      "metadata": {
        "id": "-4joCisnrn9C"
      }
    },
    {
      "cell_type": "code",
      "source": [
        "# empty tuple\n",
        "t = ()\n",
        "print(type(t))"
      ],
      "metadata": {
        "id": "x2tSVWKfrrvr",
        "colab": {
          "base_uri": "https://localhost:8080/"
        },
        "outputId": "0f44c4aa-e2c1-4da8-e346-d601f953b15c"
      },
      "execution_count": 24,
      "outputs": [
        {
          "output_type": "stream",
          "name": "stdout",
          "text": [
            "<class 'tuple'>\n"
          ]
        }
      ]
    },
    {
      "cell_type": "code",
      "source": [
        "lst=list()\n",
        "print(type(lst))\n",
        "tpl=tuple()\n",
        "print(type(tpl))"
      ],
      "metadata": {
        "id": "Db5FK60xrvoj",
        "colab": {
          "base_uri": "https://localhost:8080/"
        },
        "outputId": "e9db3a68-0e5c-4f3b-c568-b316a15b3cf2"
      },
      "execution_count": 25,
      "outputs": [
        {
          "output_type": "stream",
          "name": "stdout",
          "text": [
            "<class 'list'>\n",
            "<class 'tuple'>\n"
          ]
        }
      ]
    },
    {
      "cell_type": "code",
      "source": [
        "numbers=tuple([1,2,3,4,5,6])\n",
        "numbers[4]"
      ],
      "metadata": {
        "id": "_PtVDgsNrvrS",
        "colab": {
          "base_uri": "https://localhost:8080/"
        },
        "outputId": "e943052a-9213-4b90-a960-0709d3e230b6"
      },
      "execution_count": 28,
      "outputs": [
        {
          "output_type": "execute_result",
          "data": {
            "text/plain": [
              "5"
            ]
          },
          "metadata": {},
          "execution_count": 28
        }
      ]
    },
    {
      "cell_type": "code",
      "source": [
        "mixed_tuple=(1,\"Hello World\",3.14, True)\n",
        "print(mixed_tuple)"
      ],
      "metadata": {
        "id": "vGi4wt6Vrvu6",
        "colab": {
          "base_uri": "https://localhost:8080/"
        },
        "outputId": "08514b2f-3268-4bdb-9c43-5400d0de9a23"
      },
      "execution_count": 27,
      "outputs": [
        {
          "output_type": "stream",
          "name": "stdout",
          "text": [
            "(1, 'Hello World', 3.14, True)\n"
          ]
        }
      ]
    },
    {
      "cell_type": "code",
      "source": [
        "## Tuple Operations\n",
        "\n",
        "concatenation_tuple=numbers + mixed_tuple\n",
        "print(concatenation_tuple)"
      ],
      "metadata": {
        "id": "gIVnzxiJr4IH",
        "colab": {
          "base_uri": "https://localhost:8080/"
        },
        "outputId": "5e8286d3-a015-4623-f060-e434948c01f4"
      },
      "execution_count": 29,
      "outputs": [
        {
          "output_type": "stream",
          "name": "stdout",
          "text": [
            "(1, 2, 3, 4, 5, 6, 1, 'Hello World', 3.14, True)\n"
          ]
        }
      ]
    },
    {
      "cell_type": "code",
      "source": [
        "mixed_tuple*3"
      ],
      "metadata": {
        "colab": {
          "base_uri": "https://localhost:8080/"
        },
        "id": "dDBBPoQWeVW_",
        "outputId": "e0bfb4b6-1b7f-4fa8-9c75-b5ced5ce0849"
      },
      "execution_count": 30,
      "outputs": [
        {
          "output_type": "execute_result",
          "data": {
            "text/plain": [
              "(1,\n",
              " 'Hello World',\n",
              " 3.14,\n",
              " True,\n",
              " 1,\n",
              " 'Hello World',\n",
              " 3.14,\n",
              " True,\n",
              " 1,\n",
              " 'Hello World',\n",
              " 3.14,\n",
              " True)"
            ]
          },
          "metadata": {},
          "execution_count": 30
        }
      ]
    },
    {
      "cell_type": "code",
      "source": [
        "lst=[1,2,3,4,5]\n",
        "print(lst)\n",
        "\n",
        "lst[1]=\"Krish\"\n",
        "print(lst)"
      ],
      "metadata": {
        "id": "zdw0tQbqr4K0",
        "colab": {
          "base_uri": "https://localhost:8080/"
        },
        "outputId": "e154059c-f8b1-466b-e181-99ab3b0daf5b"
      },
      "execution_count": 31,
      "outputs": [
        {
          "output_type": "stream",
          "name": "stdout",
          "text": [
            "[1, 2, 3, 4, 5]\n",
            "[1, 'Krish', 3, 4, 5]\n"
          ]
        }
      ]
    },
    {
      "cell_type": "code",
      "source": [
        "numbers[2]= \"Krish\""
      ],
      "metadata": {
        "colab": {
          "base_uri": "https://localhost:8080/",
          "height": 148
        },
        "id": "xESG0JPmeqxs",
        "outputId": "2f29041d-bbe4-4e82-ea56-a20afb4e1987"
      },
      "execution_count": 32,
      "outputs": [
        {
          "output_type": "error",
          "ename": "TypeError",
          "evalue": "'tuple' object does not support item assignment",
          "traceback": [
            "\u001b[0;31m---------------------------------------------------------------------------\u001b[0m",
            "\u001b[0;31mTypeError\u001b[0m                                 Traceback (most recent call last)",
            "\u001b[0;32m/tmp/ipython-input-181303943.py\u001b[0m in \u001b[0;36m<cell line: 0>\u001b[0;34m()\u001b[0m\n\u001b[0;32m----> 1\u001b[0;31m \u001b[0mnumbers\u001b[0m\u001b[0;34m[\u001b[0m\u001b[0;36m2\u001b[0m\u001b[0;34m]\u001b[0m\u001b[0;34m=\u001b[0m \u001b[0;34m\"Krish\"\u001b[0m\u001b[0;34m\u001b[0m\u001b[0;34m\u001b[0m\u001b[0m\n\u001b[0m",
            "\u001b[0;31mTypeError\u001b[0m: 'tuple' object does not support item assignment"
          ]
        }
      ]
    },
    {
      "cell_type": "code",
      "source": [],
      "metadata": {
        "id": "CMmuPiLGeq1J"
      },
      "execution_count": null,
      "outputs": []
    },
    {
      "cell_type": "code",
      "source": [
        "## Tuple Methods\n",
        "print(numbers.count(1))\n",
        "print(numbers.index(3))"
      ],
      "metadata": {
        "id": "ym2SXBWSr4Nd",
        "colab": {
          "base_uri": "https://localhost:8080/"
        },
        "outputId": "14ce0482-5f5e-41c4-c949-5e2c52a0b1ab"
      },
      "execution_count": 33,
      "outputs": [
        {
          "output_type": "stream",
          "name": "stdout",
          "text": [
            "1\n",
            "2\n"
          ]
        }
      ]
    },
    {
      "cell_type": "code",
      "source": [
        "## Packing and Unpacking tuple\n",
        "## packing\n",
        "packed_tuple=(1,\"Hello\",3.14)\n",
        "print(packed_tuple)"
      ],
      "metadata": {
        "id": "GSRf7-aMr4QP",
        "colab": {
          "base_uri": "https://localhost:8080/"
        },
        "outputId": "1e389681-9a59-498f-9be3-8ac293973d42"
      },
      "execution_count": 34,
      "outputs": [
        {
          "output_type": "stream",
          "name": "stdout",
          "text": [
            "(1, 'Hello', 3.14)\n"
          ]
        }
      ]
    },
    {
      "cell_type": "code",
      "source": [
        "##unpacking a tuple\n",
        "a,b,c=packed_tuple\n",
        "\n",
        "print(a)\n",
        "print(b)\n",
        "print(c)"
      ],
      "metadata": {
        "id": "t-Uysp-zr4Tv",
        "colab": {
          "base_uri": "https://localhost:8080/"
        },
        "outputId": "c4facbec-a262-4284-e24c-b322a2c45f9e"
      },
      "execution_count": 35,
      "outputs": [
        {
          "output_type": "stream",
          "name": "stdout",
          "text": [
            "1\n",
            "Hello\n",
            "3.14\n"
          ]
        }
      ]
    },
    {
      "cell_type": "code",
      "source": [
        "## Unpacking with *\n",
        "numbers=(1,2,3,4,5,6)\n",
        "first,middle,*last=numbers\n",
        "print(first)\n",
        "print(middle)\n",
        "print(last)"
      ],
      "metadata": {
        "id": "U8LkFV7KwJNC",
        "colab": {
          "base_uri": "https://localhost:8080/"
        },
        "outputId": "ae8400a5-9ca8-476d-9c05-d13748e49c69"
      },
      "execution_count": 38,
      "outputs": [
        {
          "output_type": "stream",
          "name": "stdout",
          "text": [
            "1\n",
            "2\n",
            "[3, 4, 5, 6]\n"
          ]
        }
      ]
    },
    {
      "cell_type": "code",
      "source": [
        "## Nested Tuple\n",
        "## Nested List\n",
        "lst=[[1,2,3,4],[6,7,8,9],[1,\"Hello\",3.14,\"c\"]]\n",
        "lst[1][1:4]"
      ],
      "metadata": {
        "id": "JzlYjnJ_wJQR",
        "colab": {
          "base_uri": "https://localhost:8080/"
        },
        "outputId": "456de9cb-3d2b-4493-aaef-c6616e04d8bd"
      },
      "execution_count": 40,
      "outputs": [
        {
          "output_type": "execute_result",
          "data": {
            "text/plain": [
              "[7, 8, 9]"
            ]
          },
          "metadata": {},
          "execution_count": 40
        }
      ]
    },
    {
      "cell_type": "code",
      "source": [
        "nested_tuple = ((1, 2, 3), (\"a\", \"b\", \"c\"), (True, False))\n",
        "\n",
        "## access the elements inside a tuple\n",
        "print(nested_tuple[0])\n",
        "print(nested_tuple[1][2])"
      ],
      "metadata": {
        "id": "ZAOqh8MOwhsk"
      },
      "execution_count": null,
      "outputs": []
    },
    {
      "cell_type": "code",
      "source": [
        "# write a function to find all duplicate elements in a list\n",
        "lst = [1,1,2,2,3,3,3,4,5,6,6,9]"
      ],
      "metadata": {
        "id": "d4ixUIxRwhvd"
      },
      "execution_count": null,
      "outputs": []
    },
    {
      "cell_type": "code",
      "source": [],
      "metadata": {
        "id": "r589uJ-vwhy8"
      },
      "execution_count": null,
      "outputs": []
    }
  ]
}
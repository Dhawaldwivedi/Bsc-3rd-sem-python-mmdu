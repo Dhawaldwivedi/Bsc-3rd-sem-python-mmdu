{
  "nbformat": 4,
  "nbformat_minor": 0,
  "metadata": {
    "colab": {
      "provenance": [],
      "authorship_tag": "ABX9TyP8DeBdp5wadwy80w5H6BhO",
      "include_colab_link": true
    },
    "kernelspec": {
      "name": "python3",
      "display_name": "Python 3"
    },
    "language_info": {
      "name": "python"
    }
  },
  "cells": [
    {
      "cell_type": "markdown",
      "metadata": {
        "id": "view-in-github",
        "colab_type": "text"
      },
      "source": [
        "<a href=\"https://colab.research.google.com/github/Dhawaldwivedi/Bsc-3rd-sem-python-mmdu/blob/main/bsc-pds/Python_Dictionaries.ipynb\" target=\"_parent\"><img src=\"https://colab.research.google.com/assets/colab-badge.svg\" alt=\"Open In Colab\"/></a>"
      ]
    },
    {
      "cell_type": "code",
      "execution_count": null,
      "metadata": {
        "id": "T-xF3pdpf1Gc"
      },
      "outputs": [],
      "source": [
        "#python data structures\n",
        "# List  - students= [stu1, stu2, stu3]\n",
        "#         students_roll_no = [1,2,3]\n",
        "#         student_address = [\"Noida\",\"Delhi\",\"Mumbai\"]"
      ]
    },
    {
      "cell_type": "code",
      "source": [
        "st = {\"name\":\"Dhawal\",\"Roll_no\":2,\"Age\":43}"
      ],
      "metadata": {
        "id": "aapQfWl-2O7L"
      },
      "execution_count": 1,
      "outputs": []
    },
    {
      "cell_type": "code",
      "source": [
        "# dictionary - key - value pair\n",
        "# 1:stu1 ,2:stu2"
      ],
      "metadata": {
        "id": "_8qV05F4f6UT"
      },
      "execution_count": null,
      "outputs": []
    },
    {
      "cell_type": "code",
      "source": [
        "empty_dict = {}\n",
        "print(type(empty_dict))"
      ],
      "metadata": {
        "colab": {
          "base_uri": "https://localhost:8080/"
        },
        "id": "D0LtJv1rf6cu",
        "outputId": "b3868f79-5eab-444f-c493-8fcf173e3168"
      },
      "execution_count": 2,
      "outputs": [
        {
          "output_type": "stream",
          "name": "stdout",
          "text": [
            "<class 'dict'>\n"
          ]
        }
      ]
    },
    {
      "cell_type": "code",
      "source": [
        "empty_dict = dict()\n",
        "print(type(empty_dict))"
      ],
      "metadata": {
        "id": "vI-WuGgXf6fb"
      },
      "execution_count": null,
      "outputs": []
    },
    {
      "cell_type": "code",
      "source": [
        "student = {\"name\":\"Dhawal\",\"age\":30,\"grade\":\"A\"}\n",
        "print(student)"
      ],
      "metadata": {
        "colab": {
          "base_uri": "https://localhost:8080/"
        },
        "id": "YNumac5Jf6iU",
        "outputId": "881184b5-17ad-4d8f-ce06-0d0ab2dd12d4"
      },
      "execution_count": 3,
      "outputs": [
        {
          "output_type": "stream",
          "name": "stdout",
          "text": [
            "{'name': 'Dhawal', 'age': 30, 'grade': 'A'}\n"
          ]
        }
      ]
    },
    {
      "cell_type": "code",
      "source": [
        "students = {\"Dhawal\":\"name\",22:\"age\",\"A\":\"grade\"}\n",
        "print(students)"
      ],
      "metadata": {
        "colab": {
          "base_uri": "https://localhost:8080/"
        },
        "id": "kxuuihj7f6lV",
        "outputId": "0be8967d-5322-4a0d-d534-0fa96cb68608"
      },
      "execution_count": 4,
      "outputs": [
        {
          "output_type": "stream",
          "name": "stdout",
          "text": [
            "{'Dhawal': 'name', 22: 'age', 'A': 'grade'}\n"
          ]
        }
      ]
    },
    {
      "cell_type": "code",
      "source": [
        "student = {\"name\":\"Dhawal\",\"age\":24,\"grade\":\"A\",\"name\":\"gfg\"}\n",
        "student"
      ],
      "metadata": {
        "colab": {
          "base_uri": "https://localhost:8080/"
        },
        "id": "yP4aKm7mf6oV",
        "outputId": "cde8fbcc-6e46-4363-f3d1-44d6246cc295"
      },
      "execution_count": 5,
      "outputs": [
        {
          "output_type": "execute_result",
          "data": {
            "text/plain": [
              "{'name': 'gfg', 'age': 24, 'grade': 'A'}"
            ]
          },
          "metadata": {},
          "execution_count": 5
        }
      ]
    },
    {
      "cell_type": "code",
      "source": [
        "student[\"gfg\"]"
      ],
      "metadata": {
        "colab": {
          "base_uri": "https://localhost:8080/",
          "height": 148
        },
        "id": "pqz6C_Qcf6rO",
        "outputId": "cabdfe39-7516-4ee1-dc82-4dabedb557c6"
      },
      "execution_count": 8,
      "outputs": [
        {
          "output_type": "error",
          "ename": "KeyError",
          "evalue": "'gfg'",
          "traceback": [
            "\u001b[0;31m---------------------------------------------------------------------------\u001b[0m",
            "\u001b[0;31mKeyError\u001b[0m                                  Traceback (most recent call last)",
            "\u001b[0;32m/tmp/ipython-input-2636870146.py\u001b[0m in \u001b[0;36m<cell line: 0>\u001b[0;34m()\u001b[0m\n\u001b[0;32m----> 1\u001b[0;31m \u001b[0mstudent\u001b[0m\u001b[0;34m[\u001b[0m\u001b[0;34m\"gfg\"\u001b[0m\u001b[0;34m]\u001b[0m\u001b[0;34m\u001b[0m\u001b[0;34m\u001b[0m\u001b[0m\n\u001b[0m",
            "\u001b[0;31mKeyError\u001b[0m: 'gfg'"
          ]
        }
      ]
    },
    {
      "cell_type": "code",
      "source": [
        "student['age']"
      ],
      "metadata": {
        "id": "UY_iY8s_f6uc",
        "colab": {
          "base_uri": "https://localhost:8080/"
        },
        "outputId": "f10769e2-3a8a-4bc9-fa82-6760a78f7b83"
      },
      "execution_count": 7,
      "outputs": [
        {
          "output_type": "execute_result",
          "data": {
            "text/plain": [
              "24"
            ]
          },
          "metadata": {},
          "execution_count": 7
        }
      ]
    },
    {
      "cell_type": "code",
      "source": [
        "student[\"marks\"]"
      ],
      "metadata": {
        "colab": {
          "base_uri": "https://localhost:8080/",
          "height": 148
        },
        "id": "rbciJNjnf6xY",
        "outputId": "66fb8c67-9a2b-463c-e7fd-9ce55cf3ef43"
      },
      "execution_count": 9,
      "outputs": [
        {
          "output_type": "error",
          "ename": "KeyError",
          "evalue": "'marks'",
          "traceback": [
            "\u001b[0;31m---------------------------------------------------------------------------\u001b[0m",
            "\u001b[0;31mKeyError\u001b[0m                                  Traceback (most recent call last)",
            "\u001b[0;32m/tmp/ipython-input-3475560266.py\u001b[0m in \u001b[0;36m<cell line: 0>\u001b[0;34m()\u001b[0m\n\u001b[0;32m----> 1\u001b[0;31m \u001b[0mstudent\u001b[0m\u001b[0;34m[\u001b[0m\u001b[0;34m\"marks\"\u001b[0m\u001b[0;34m]\u001b[0m\u001b[0;34m\u001b[0m\u001b[0;34m\u001b[0m\u001b[0m\n\u001b[0m",
            "\u001b[0;31mKeyError\u001b[0m: 'marks'"
          ]
        }
      ]
    },
    {
      "cell_type": "code",
      "source": [
        "# get method\n",
        "student.get(\"mark\",\"not present\")"
      ],
      "metadata": {
        "colab": {
          "base_uri": "https://localhost:8080/",
          "height": 36
        },
        "id": "MTtJS1edf60S",
        "outputId": "935c6e18-37f1-4553-d526-1288ec34fea7"
      },
      "execution_count": 16,
      "outputs": [
        {
          "output_type": "execute_result",
          "data": {
            "text/plain": [
              "'not present'"
            ],
            "application/vnd.google.colaboratory.intrinsic+json": {
              "type": "string"
            }
          },
          "metadata": {},
          "execution_count": 16
        }
      ]
    },
    {
      "cell_type": "code",
      "source": [],
      "metadata": {
        "id": "TQN1fFQef63e"
      },
      "execution_count": null,
      "outputs": []
    },
    {
      "cell_type": "code",
      "source": [],
      "metadata": {
        "id": "fiz6TTO5f66m"
      },
      "execution_count": null,
      "outputs": []
    },
    {
      "cell_type": "code",
      "source": [
        "student.get(\"name\",\"Not Available\")  # default value"
      ],
      "metadata": {
        "id": "xD161CZKf69n"
      },
      "execution_count": null,
      "outputs": []
    },
    {
      "cell_type": "code",
      "source": [
        "student"
      ],
      "metadata": {
        "id": "jj5HLb99f7Az"
      },
      "execution_count": null,
      "outputs": []
    },
    {
      "cell_type": "code",
      "source": [
        "# alter values\n",
        "student['name']= \"Dhawal\"\n",
        "student[\"age\"]= 26"
      ],
      "metadata": {
        "id": "RDe71zp3f7EC"
      },
      "execution_count": 17,
      "outputs": []
    },
    {
      "cell_type": "code",
      "source": [
        "student[\"address\"]= \"Noida\"\n",
        "student"
      ],
      "metadata": {
        "colab": {
          "base_uri": "https://localhost:8080/"
        },
        "id": "vOv460-ef7HC",
        "outputId": "546729dc-9366-4390-92ec-adb6a99f921a"
      },
      "execution_count": 18,
      "outputs": [
        {
          "output_type": "execute_result",
          "data": {
            "text/plain": [
              "{'name': 'Dhawal', 'age': 26, 'grade': 'A', 'address': 'Noida'}"
            ]
          },
          "metadata": {},
          "execution_count": 18
        }
      ]
    },
    {
      "cell_type": "code",
      "source": [
        "del student[\"grade\"]"
      ],
      "metadata": {
        "id": "XN_cDpA9f7KQ"
      },
      "execution_count": 19,
      "outputs": []
    },
    {
      "cell_type": "code",
      "source": [
        "student"
      ],
      "metadata": {
        "colab": {
          "base_uri": "https://localhost:8080/"
        },
        "id": "a7HV0RtJf7NK",
        "outputId": "e4c3ec41-f0ea-4b1b-d411-a56b55c6aaf8"
      },
      "execution_count": 20,
      "outputs": [
        {
          "output_type": "execute_result",
          "data": {
            "text/plain": [
              "{'name': 'Dhawal', 'age': 26, 'address': 'Noida'}"
            ]
          },
          "metadata": {},
          "execution_count": 20
        }
      ]
    },
    {
      "cell_type": "code",
      "source": [
        "student.keys()"
      ],
      "metadata": {
        "colab": {
          "base_uri": "https://localhost:8080/"
        },
        "id": "mnBHWA0Jf7QR",
        "outputId": "51e49037-79ae-4a8c-d896-97e189aeff82"
      },
      "execution_count": 21,
      "outputs": [
        {
          "output_type": "execute_result",
          "data": {
            "text/plain": [
              "dict_keys(['name', 'age', 'address'])"
            ]
          },
          "metadata": {},
          "execution_count": 21
        }
      ]
    },
    {
      "cell_type": "code",
      "source": [
        "student.values()"
      ],
      "metadata": {
        "colab": {
          "base_uri": "https://localhost:8080/"
        },
        "id": "F_N7u0Vff7TS",
        "outputId": "a6babbdc-c2fc-4b1d-85cf-7913998e7a28"
      },
      "execution_count": 22,
      "outputs": [
        {
          "output_type": "execute_result",
          "data": {
            "text/plain": [
              "dict_values(['Dhawal', 26, 'Noida'])"
            ]
          },
          "metadata": {},
          "execution_count": 22
        }
      ]
    },
    {
      "cell_type": "code",
      "source": [
        "student.items()"
      ],
      "metadata": {
        "colab": {
          "base_uri": "https://localhost:8080/"
        },
        "id": "ppVdfjUhf7WR",
        "outputId": "0945bfe0-2afb-413c-b500-dbfe7176f41a"
      },
      "execution_count": 23,
      "outputs": [
        {
          "output_type": "execute_result",
          "data": {
            "text/plain": [
              "dict_items([('name', 'Dhawal'), ('age', 26), ('address', 'Noida')])"
            ]
          },
          "metadata": {},
          "execution_count": 23
        }
      ]
    },
    {
      "cell_type": "code",
      "source": [
        "# concept of shallow copy\n",
        "student_copy = student\n",
        "student_copy"
      ],
      "metadata": {
        "colab": {
          "base_uri": "https://localhost:8080/"
        },
        "id": "uJEbP6kRf7bB",
        "outputId": "8e714bcb-4600-443e-bfbc-ae79b5c0775f"
      },
      "execution_count": 24,
      "outputs": [
        {
          "output_type": "execute_result",
          "data": {
            "text/plain": [
              "{'name': 'Dhawal', 'age': 26, 'address': 'Noida'}"
            ]
          },
          "metadata": {},
          "execution_count": 24
        }
      ]
    },
    {
      "cell_type": "code",
      "source": [
        "student[\"name\"]= \"Dhawal2.0\""
      ],
      "metadata": {
        "id": "5AInvSCHf7ej"
      },
      "execution_count": 25,
      "outputs": []
    },
    {
      "cell_type": "code",
      "source": [
        "print(student)\n",
        "print(student_copy)"
      ],
      "metadata": {
        "colab": {
          "base_uri": "https://localhost:8080/"
        },
        "id": "mUd3UKXpf7hc",
        "outputId": "ad322c63-7b97-495f-91cb-6ff656a94a3b"
      },
      "execution_count": 26,
      "outputs": [
        {
          "output_type": "stream",
          "name": "stdout",
          "text": [
            "{'name': 'Dhawal2.0', 'age': 26, 'address': 'Noida'}\n",
            "{'name': 'Dhawal2.0', 'age': 26, 'address': 'Noida'}\n"
          ]
        }
      ]
    },
    {
      "cell_type": "code",
      "source": [
        "student_copy1 = student.copy()\n",
        "student_copy1"
      ],
      "metadata": {
        "colab": {
          "base_uri": "https://localhost:8080/"
        },
        "id": "PQj-M1jAf7kk",
        "outputId": "6b9fe1a0-b2cf-42f1-c758-f53686d856a1"
      },
      "execution_count": 27,
      "outputs": [
        {
          "output_type": "execute_result",
          "data": {
            "text/plain": [
              "{'name': 'Dhawal2.0', 'age': 26, 'address': 'Noida'}"
            ]
          },
          "metadata": {},
          "execution_count": 27
        }
      ]
    },
    {
      "cell_type": "code",
      "source": [
        "student[\"name\"]= \"Dhawal3.0\""
      ],
      "metadata": {
        "id": "FWrST9iwn_9i"
      },
      "execution_count": 28,
      "outputs": []
    },
    {
      "cell_type": "code",
      "source": [
        "student"
      ],
      "metadata": {
        "colab": {
          "base_uri": "https://localhost:8080/"
        },
        "id": "XtNAboifHGQT",
        "outputId": "044135ba-28f4-4a45-f6a5-44e871a06170"
      },
      "execution_count": 29,
      "outputs": [
        {
          "output_type": "execute_result",
          "data": {
            "text/plain": [
              "{'name': 'Dhawal3.0', 'age': 26, 'address': 'Noida'}"
            ]
          },
          "metadata": {},
          "execution_count": 29
        }
      ]
    },
    {
      "cell_type": "code",
      "source": [
        "student_copy1"
      ],
      "metadata": {
        "id": "kX_pQGP9o_x4",
        "colab": {
          "base_uri": "https://localhost:8080/"
        },
        "outputId": "bfb97884-70f3-40d0-e32a-bc15b498d023"
      },
      "execution_count": 30,
      "outputs": [
        {
          "output_type": "execute_result",
          "data": {
            "text/plain": [
              "{'name': 'Dhawal2.0', 'age': 26, 'address': 'Noida'}"
            ]
          },
          "metadata": {},
          "execution_count": 30
        }
      ]
    },
    {
      "cell_type": "code",
      "source": [
        "student_copy"
      ],
      "metadata": {
        "id": "AynC5CQDo_1U",
        "colab": {
          "base_uri": "https://localhost:8080/"
        },
        "outputId": "3ee7c082-11ac-49c9-cc46-4be256e26e7f"
      },
      "execution_count": 31,
      "outputs": [
        {
          "output_type": "execute_result",
          "data": {
            "text/plain": [
              "{'name': 'Dhawal3.0', 'age': 26, 'address': 'Noida'}"
            ]
          },
          "metadata": {},
          "execution_count": 31
        }
      ]
    },
    {
      "cell_type": "code",
      "source": [],
      "metadata": {
        "id": "IGxGO2pho_6o"
      },
      "execution_count": null,
      "outputs": []
    },
    {
      "cell_type": "code",
      "source": [
        "print(student)"
      ],
      "metadata": {
        "id": "Q4Ual3gRoADk"
      },
      "execution_count": null,
      "outputs": []
    },
    {
      "cell_type": "code",
      "source": [
        "print(student_copy1)"
      ],
      "metadata": {
        "id": "J3X4lfljoAGS"
      },
      "execution_count": null,
      "outputs": []
    },
    {
      "cell_type": "code",
      "source": [
        "print(student_copy)"
      ],
      "metadata": {
        "id": "D4iX-3xKoAI0"
      },
      "execution_count": null,
      "outputs": []
    },
    {
      "cell_type": "code",
      "source": [
        "# iteration\n",
        "for i in student.keys():\n",
        "  print(i)\n"
      ],
      "metadata": {
        "colab": {
          "base_uri": "https://localhost:8080/"
        },
        "id": "N_RhnfeSpBlq",
        "outputId": "3bffe2d7-64c5-4aea-8c17-4097147db218"
      },
      "execution_count": 32,
      "outputs": [
        {
          "output_type": "stream",
          "name": "stdout",
          "text": [
            "name\n",
            "age\n",
            "address\n"
          ]
        }
      ]
    },
    {
      "cell_type": "code",
      "source": [
        "for j in student.values():\n",
        "  print(j)"
      ],
      "metadata": {
        "colab": {
          "base_uri": "https://localhost:8080/"
        },
        "id": "2bMYCry6pBor",
        "outputId": "4f5da8ae-e061-45aa-a996-59cfbab16447"
      },
      "execution_count": 33,
      "outputs": [
        {
          "output_type": "stream",
          "name": "stdout",
          "text": [
            "Dhawal3.0\n",
            "26\n",
            "Noida\n"
          ]
        }
      ]
    },
    {
      "cell_type": "code",
      "source": [
        "for i,j in student.items():\n",
        "  print(f\"{i}:{j}\")"
      ],
      "metadata": {
        "colab": {
          "base_uri": "https://localhost:8080/"
        },
        "id": "EWdW64BQpBrf",
        "outputId": "50776879-ed4e-47a2-fa88-412771550f5f"
      },
      "execution_count": 34,
      "outputs": [
        {
          "output_type": "stream",
          "name": "stdout",
          "text": [
            "name:Dhawal3.0\n",
            "age:26\n",
            "address:Noida\n"
          ]
        }
      ]
    },
    {
      "cell_type": "code",
      "source": [
        "# nested dictionaries\n",
        "student = {\"student1\":{\"name\":\"Dhawal\",\"age\":24},\n",
        "           \"student2\":{\"name\":\"Harsh\",\"age\":25}}\n"
      ],
      "metadata": {
        "id": "YSJlqAHupBvB"
      },
      "execution_count": 36,
      "outputs": []
    },
    {
      "cell_type": "code",
      "source": [
        "student"
      ],
      "metadata": {
        "colab": {
          "base_uri": "https://localhost:8080/"
        },
        "id": "e3cdHZR6oALY",
        "outputId": "87200800-cd25-4bc0-a273-7d53eedbd93b"
      },
      "execution_count": 37,
      "outputs": [
        {
          "output_type": "execute_result",
          "data": {
            "text/plain": [
              "{'student1': {'name': 'Dhawal', 'age': 24},\n",
              " 'student2': {'name': 'Harsh', 'age': 25}}"
            ]
          },
          "metadata": {},
          "execution_count": 37
        }
      ]
    },
    {
      "cell_type": "code",
      "source": [
        "print(student[\"student1\"][\"name\"])"
      ],
      "metadata": {
        "colab": {
          "base_uri": "https://localhost:8080/"
        },
        "id": "uYW1wGkQqJsK",
        "outputId": "e42450c0-86c8-40b3-f1af-b1e224cc40a9"
      },
      "execution_count": 38,
      "outputs": [
        {
          "output_type": "stream",
          "name": "stdout",
          "text": [
            "Dhawal\n"
          ]
        }
      ]
    },
    {
      "cell_type": "code",
      "source": [
        "student[\"student2\"][\"age\"]"
      ],
      "metadata": {
        "colab": {
          "base_uri": "https://localhost:8080/"
        },
        "id": "QB1I7ZzRqJvm",
        "outputId": "df21058c-88df-481e-90c7-7c27cfb22f72"
      },
      "execution_count": 39,
      "outputs": [
        {
          "output_type": "execute_result",
          "data": {
            "text/plain": [
              "25"
            ]
          },
          "metadata": {},
          "execution_count": 39
        }
      ]
    },
    {
      "cell_type": "code",
      "source": [
        "# iterate in nested dictionary\n",
        "for i ,j in student.items():  # outer dict\n",
        "  print(f\"{i}:{j}\")\n",
        "  for key,value in j.items():          # inner dict\n",
        "    print(f\"{key}:{value}\")"
      ],
      "metadata": {
        "id": "U9jENpO3qJzN",
        "colab": {
          "base_uri": "https://localhost:8080/"
        },
        "outputId": "8cdc9f53-1cd3-472e-8685-e227984661e9"
      },
      "execution_count": 44,
      "outputs": [
        {
          "output_type": "stream",
          "name": "stdout",
          "text": [
            "student1:{'name': 'Dhawal', 'age': 24}\n",
            "name:Dhawal\n",
            "age:24\n",
            "student2:{'name': 'Harsh', 'age': 25}\n",
            "name:Harsh\n",
            "age:25\n"
          ]
        }
      ]
    },
    {
      "cell_type": "code",
      "source": [
        "{x:x**2 for x in range(5)}\n"
      ],
      "metadata": {
        "colab": {
          "base_uri": "https://localhost:8080/"
        },
        "id": "tsTpJ6jjITHy",
        "outputId": "c6b4cb7a-03af-46b7-ba72-cf146b5952d2"
      },
      "execution_count": 41,
      "outputs": [
        {
          "output_type": "execute_result",
          "data": {
            "text/plain": [
              "{0: 0, 1: 1, 2: 4, 3: 9, 4: 16}"
            ]
          },
          "metadata": {},
          "execution_count": 41
        }
      ]
    },
    {
      "cell_type": "code",
      "source": [
        "# dictionary comprehension\n"
      ],
      "metadata": {
        "id": "h2PAK-06r93y"
      },
      "execution_count": null,
      "outputs": []
    },
    {
      "cell_type": "code",
      "source": [
        "even = {x:x**2 for x in range(10) if x%2==0}\n",
        "even"
      ],
      "metadata": {
        "colab": {
          "base_uri": "https://localhost:8080/"
        },
        "id": "-0lO-Ogkr97A",
        "outputId": "39fa465d-fe29-44f4-af76-e9c3dc9675fb"
      },
      "execution_count": 42,
      "outputs": [
        {
          "output_type": "execute_result",
          "data": {
            "text/plain": [
              "{0: 0, 2: 4, 4: 16, 6: 36, 8: 64}"
            ]
          },
          "metadata": {},
          "execution_count": 42
        }
      ]
    },
    {
      "cell_type": "code",
      "source": [
        "# count of elements using a dictionary\n",
        "numbers = [1,1,1,2,2,2,2,2,3,3,4,4,4,4,4,4,4,5]\n",
        "freq={}\n",
        "for i in numbers:    # freq = {1:3,2:1}\n",
        "  if i in freq:\n",
        "    freq[i]+=1\n",
        "  else:\n",
        "    freq[i]=1\n",
        "\n",
        "freq\n",
        "\n",
        "\n",
        "\n",
        "\n",
        "\n",
        "\n"
      ],
      "metadata": {
        "colab": {
          "base_uri": "https://localhost:8080/"
        },
        "id": "PAivPA6br9-k",
        "outputId": "51c04fb9-badc-4aee-ef95-0494b1929598"
      },
      "execution_count": 43,
      "outputs": [
        {
          "output_type": "execute_result",
          "data": {
            "text/plain": [
              "{1: 3, 2: 5, 3: 2, 4: 7, 5: 1}"
            ]
          },
          "metadata": {},
          "execution_count": 43
        }
      ]
    },
    {
      "cell_type": "code",
      "source": [],
      "metadata": {
        "id": "BHkIXJdzoAOq"
      },
      "execution_count": null,
      "outputs": []
    },
    {
      "cell_type": "code",
      "source": [],
      "metadata": {
        "id": "KOT7l9IIoASK"
      },
      "execution_count": null,
      "outputs": []
    },
    {
      "cell_type": "code",
      "source": [],
      "metadata": {
        "id": "G0BjDBXqf7oA"
      },
      "execution_count": null,
      "outputs": []
    },
    {
      "cell_type": "markdown",
      "source": [
        "Question :\n",
        "You are given a list of integers representing the IDs of students who have signed up for an event, but some students have signed up multiple times by mistake. Your task is to:\n",
        "\n",
        "Remove duplicates to get the unique IDs of students who signed up. Identify students who have both signed up and attended the event (IDs are given in a separate list of attendees). Classify each student as: \"Attended\" if they signed up and attended. \"No-show\" if they signed up but did not attend. Finally, print a summary showing the count of \"Attended\" and \"No-show\" students. Input:\n",
        "\n",
        "A list of integers signups, where each element represents a student ID who signed up for the event. (It may contain duplicates.) A list of integers attendees, where each element represents a student ID who attended the event. Output: Print each unique student ID along with its status (\"Attended\" or \"No-show\") and a summary like the example below."
      ],
      "metadata": {
        "id": "pRKXEys_f82d"
      }
    },
    {
      "cell_type": "code",
      "source": [
        "signups = [101,102,103,104,102,105,103,106,107]\n",
        "attendees = [101,102,103,103,105,106]"
      ],
      "metadata": {
        "id": "M76Hfe4_gECS"
      },
      "execution_count": null,
      "outputs": []
    },
    {
      "cell_type": "code",
      "source": [
        "\"\"\" 101 : attended\n",
        "102 : attended\n",
        "103 : attended\n",
        "104 : no show\n",
        "\n",
        "Summary\n",
        "no of attendees =\n",
        "no shows = \"\"\""
      ],
      "metadata": {
        "id": "Hz-sjWKKgHcY"
      },
      "execution_count": null,
      "outputs": []
    },
    {
      "cell_type": "code",
      "source": [
        "signups = [101,102,103,104,102,105,103,106,107]\n",
        "attendees = [101,102,103,103,105,106]\n",
        "\n",
        "unique_signups = set(signups)\n",
        "unique_attendees = set(attendees)\n",
        "\n",
        "attendees_count =0\n",
        "no_show_count =0\n",
        "\n",
        "for i in unique_signups:\n",
        "  if i in unique_attendees:\n",
        "    print(f\"{i}:Attended\")\n",
        "    attendees_count+=1\n",
        "  else:\n",
        "    print(f\"{i}:No show\")\n",
        "    no_show_count+=1\n",
        "\n",
        "print(\"\\nsummary\")\n",
        "print(f\"attended: {attendees_count}\")\n",
        "print(f\"no show: {no_show_count}\")\n"
      ],
      "metadata": {
        "id": "E5_2su4ZgHff"
      },
      "execution_count": null,
      "outputs": []
    },
    {
      "cell_type": "code",
      "source": [],
      "metadata": {
        "id": "ag24k2KngHiZ"
      },
      "execution_count": null,
      "outputs": []
    },
    {
      "cell_type": "code",
      "source": [],
      "metadata": {
        "id": "qZJy-VBugHlS"
      },
      "execution_count": null,
      "outputs": []
    },
    {
      "cell_type": "code",
      "source": [],
      "metadata": {
        "id": "fTUImccXgHoE"
      },
      "execution_count": null,
      "outputs": []
    },
    {
      "cell_type": "code",
      "source": [],
      "metadata": {
        "id": "muxVk5SKgHrc"
      },
      "execution_count": null,
      "outputs": []
    },
    {
      "cell_type": "markdown",
      "source": [
        "Unique Common Elements\n",
        "Problem: You are given two lists of integers. Write a program to:\n",
        "\n",
        "Find the unique common elements between the two lists. Print these common elements in sorted order. If there are no common elements, print \"No common elements\"."
      ],
      "metadata": {
        "id": "z8mI40qPgIXO"
      }
    },
    {
      "cell_type": "code",
      "source": [
        "list1 = [1,2,3,4,5,6,6,3,4,7,8]\n",
        "list2 =[0,10,12,12,0,4,2]\n",
        "\n"
      ],
      "metadata": {
        "id": "-buvxPu7gLw9"
      },
      "execution_count": null,
      "outputs": []
    },
    {
      "cell_type": "code",
      "source": [],
      "metadata": {
        "id": "GqbMreHT1hox"
      },
      "execution_count": null,
      "outputs": []
    },
    {
      "cell_type": "code",
      "source": [],
      "metadata": {
        "id": "KGqBDjuR1hrj"
      },
      "execution_count": null,
      "outputs": []
    },
    {
      "cell_type": "code",
      "source": [
        "text = \"hello world\"\n",
        "# find character count and return a dictionary"
      ],
      "metadata": {
        "id": "wmR6fcST1hud"
      },
      "execution_count": null,
      "outputs": []
    },
    {
      "cell_type": "code",
      "source": [],
      "metadata": {
        "id": "9au9qx7P1hxv"
      },
      "execution_count": null,
      "outputs": []
    },
    {
      "cell_type": "code",
      "source": [],
      "metadata": {
        "id": "gb19byvP3s_x"
      },
      "execution_count": null,
      "outputs": []
    }
  ]
}
{
  "nbformat": 4,
  "nbformat_minor": 0,
  "metadata": {
    "colab": {
      "provenance": [],
      "authorship_tag": "ABX9TyMeQyY2m6UHBnnmy99WC0JP",
      "include_colab_link": true
    },
    "kernelspec": {
      "name": "python3",
      "display_name": "Python 3"
    },
    "language_info": {
      "name": "python"
    }
  },
  "cells": [
    {
      "cell_type": "markdown",
      "metadata": {
        "id": "view-in-github",
        "colab_type": "text"
      },
      "source": [
        "<a href=\"https://colab.research.google.com/github/Dhawaldwivedi/Bsc-3rd-sem-python-mmdu/blob/main/ai-ml-g2/Loops_and_Functions_Bsc.ipynb\" target=\"_parent\"><img src=\"https://colab.research.google.com/assets/colab-badge.svg\" alt=\"Open In Colab\"/></a>"
      ]
    },
    {
      "cell_type": "code",
      "execution_count": 38,
      "metadata": {
        "id": "taKZJqctCw1V",
        "colab": {
          "base_uri": "https://localhost:8080/"
        },
        "outputId": "98f86e27-b995-4ecb-9577-bce9fd92d832"
      },
      "outputs": [
        {
          "output_type": "stream",
          "name": "stdout",
          "text": [
            "hi\n"
          ]
        }
      ],
      "source": [
        "print('hi')"
      ]
    },
    {
      "cell_type": "markdown",
      "source": [
        "# Loops"
      ],
      "metadata": {
        "id": "HRyWzRqhD8M_"
      }
    },
    {
      "cell_type": "code",
      "source": [
        "range(4)"
      ],
      "metadata": {
        "id": "Ja2ydEj3D-Sy"
      },
      "execution_count": null,
      "outputs": []
    },
    {
      "cell_type": "code",
      "source": [
        "# for loop\n",
        "for i in range(3,9):\n",
        "  print(i)"
      ],
      "metadata": {
        "id": "uGujBL0rEBbz",
        "colab": {
          "base_uri": "https://localhost:8080/"
        },
        "outputId": "4fd23738-a6ae-4d81-e422-18c339284e66"
      },
      "execution_count": 41,
      "outputs": [
        {
          "output_type": "stream",
          "name": "stdout",
          "text": [
            "3\n",
            "4\n",
            "5\n",
            "6\n",
            "7\n",
            "8\n"
          ]
        }
      ]
    },
    {
      "cell_type": "code",
      "source": [
        "# step size  range(start index , end+1 index , step size)\n",
        "for i in range(7,71,7):\n",
        "  print(i)"
      ],
      "metadata": {
        "id": "fpCp8Xi8EC73",
        "colab": {
          "base_uri": "https://localhost:8080/"
        },
        "outputId": "6cebaf2d-eda5-4078-8aae-7edf426175ee"
      },
      "execution_count": 46,
      "outputs": [
        {
          "output_type": "stream",
          "name": "stdout",
          "text": [
            "7\n",
            "14\n",
            "21\n",
            "28\n",
            "35\n",
            "42\n",
            "49\n",
            "56\n",
            "63\n",
            "70\n"
          ]
        }
      ]
    },
    {
      "cell_type": "code",
      "source": [
        "# iterating a string\n",
        "s = \"mmdu\"\n",
        "for i in s:\n",
        "  print(i)\n"
      ],
      "metadata": {
        "id": "heWs18hdEI85",
        "colab": {
          "base_uri": "https://localhost:8080/"
        },
        "outputId": "cf3419b7-774b-42d7-ef6d-18c1b398a7ae"
      },
      "execution_count": 47,
      "outputs": [
        {
          "output_type": "stream",
          "name": "stdout",
          "text": [
            "m\n",
            "m\n",
            "d\n",
            "u\n"
          ]
        }
      ]
    },
    {
      "cell_type": "code",
      "source": [
        "# while loop\n",
        "i = 0\n",
        "while i<5:\n",
        "  print(i)\n",
        "  i= i+1"
      ],
      "metadata": {
        "id": "1kH2o-W9EOJm",
        "colab": {
          "base_uri": "https://localhost:8080/"
        },
        "outputId": "4a399376-331d-4529-83c2-da6262e63981"
      },
      "execution_count": null,
      "outputs": [
        {
          "output_type": "stream",
          "name": "stdout",
          "text": [
            "0\n",
            "1\n",
            "2\n",
            "3\n",
            "4\n"
          ]
        }
      ]
    },
    {
      "cell_type": "code",
      "source": [
        "# break\n",
        "for i in range(10):\n",
        "\n",
        "  if i==5:\n",
        "    break\n",
        "  print(i)\n"
      ],
      "metadata": {
        "id": "Q3Xv8W4JEP14",
        "colab": {
          "base_uri": "https://localhost:8080/"
        },
        "outputId": "bb25d740-ddf5-4a85-bde2-98925030cf05"
      },
      "execution_count": 50,
      "outputs": [
        {
          "output_type": "stream",
          "name": "stdout",
          "text": [
            "0\n",
            "1\n",
            "2\n",
            "3\n",
            "4\n"
          ]
        }
      ]
    },
    {
      "cell_type": "code",
      "source": [
        "#continue\n",
        "for i in range(10):\n",
        "  if i ==5:\n",
        "    continue\n",
        "  print(i)"
      ],
      "metadata": {
        "id": "MRuyMKzjEZIA",
        "colab": {
          "base_uri": "https://localhost:8080/"
        },
        "outputId": "7df57f3b-d652-46c3-be23-f2c4f560ffff"
      },
      "execution_count": 49,
      "outputs": [
        {
          "output_type": "stream",
          "name": "stdout",
          "text": [
            "0\n",
            "1\n",
            "2\n",
            "3\n",
            "4\n",
            "5\n",
            "6\n",
            "7\n",
            "8\n",
            "9\n"
          ]
        }
      ]
    },
    {
      "cell_type": "code",
      "source": [
        "# nested loops\n",
        "for i in range(3):\n",
        "    for j in range(2):\n",
        "        print(f\"i:{i} and j:{j}\")"
      ],
      "metadata": {
        "id": "Ehn99GvEEaqS",
        "colab": {
          "base_uri": "https://localhost:8080/"
        },
        "outputId": "4babc357-f701-4cb9-d96c-55084814c47b"
      },
      "execution_count": null,
      "outputs": [
        {
          "output_type": "stream",
          "name": "stdout",
          "text": [
            "i:0 and j:0\n",
            "i:0 and j:1\n",
            "i:1 and j:0\n",
            "i:1 and j:1\n",
            "i:2 and j:0\n",
            "i:2 and j:1\n"
          ]
        }
      ]
    },
    {
      "cell_type": "code",
      "source": [
        "i = 0\n",
        "j = 6\n",
        "print(f\"value of i is {i} and j is {j}\")"
      ],
      "metadata": {
        "colab": {
          "base_uri": "https://localhost:8080/"
        },
        "id": "fIIjZse6-wpn",
        "outputId": "e9606400-cf4d-4190-a618-52a5dfe34729"
      },
      "execution_count": 51,
      "outputs": [
        {
          "output_type": "stream",
          "name": "stdout",
          "text": [
            "value of i is 0 and j is 6\n"
          ]
        }
      ]
    },
    {
      "cell_type": "code",
      "source": [
        "# calculate sum of first n natural numbers"
      ],
      "metadata": {
        "id": "XdaZfxb_ElZt"
      },
      "execution_count": null,
      "outputs": []
    },
    {
      "cell_type": "code",
      "source": [
        "# pattern printing\n",
        "for i in range(4):\n",
        "  for j in range(4):\n",
        "    print(\"*\",end = \"\")\n",
        "  print()"
      ],
      "metadata": {
        "colab": {
          "base_uri": "https://localhost:8080/"
        },
        "id": "dDwtW2crEolb",
        "outputId": "2063b7d8-8941-4a23-cb4e-ee473f590697"
      },
      "execution_count": 54,
      "outputs": [
        {
          "output_type": "stream",
          "name": "stdout",
          "text": [
            "****\n",
            "****\n",
            "****\n",
            "****\n"
          ]
        }
      ]
    },
    {
      "cell_type": "code",
      "source": [
        "for i in range(4):\n",
        "  for j in range(i+1):\n",
        "    print(\"*\",end = \"\")\n",
        "  print()"
      ],
      "metadata": {
        "colab": {
          "base_uri": "https://localhost:8080/"
        },
        "id": "V32r_1P9GIHN",
        "outputId": "8e41f065-4f0b-4998-e6e6-0abb9402c064"
      },
      "execution_count": 57,
      "outputs": [
        {
          "output_type": "stream",
          "name": "stdout",
          "text": [
            "*\n",
            "**\n",
            "***\n",
            "****\n"
          ]
        }
      ]
    },
    {
      "cell_type": "code",
      "source": [
        "''' *****\n",
        "    ****\n",
        "    ***\n",
        "    **\n",
        "    *\n",
        "'''\n"
      ],
      "metadata": {
        "id": "8LoNsYqjHkeL"
      },
      "execution_count": null,
      "outputs": []
    },
    {
      "cell_type": "markdown",
      "source": [
        "# Functions"
      ],
      "metadata": {
        "id": "zJhHKj_dIrMA"
      }
    },
    {
      "cell_type": "code",
      "source": [],
      "metadata": {
        "id": "f3nOfzDuIueS"
      },
      "execution_count": null,
      "outputs": []
    },
    {
      "cell_type": "code",
      "source": [
        "# function definition\n",
        "def greet():\n",
        "  print(\"hello\")"
      ],
      "metadata": {
        "id": "wOidIhLRI4fE"
      },
      "execution_count": 58,
      "outputs": []
    },
    {
      "cell_type": "code",
      "source": [
        "# function call\n",
        "for i in range(10):\n",
        "  greet()"
      ],
      "metadata": {
        "id": "L93eixSBI6T5",
        "colab": {
          "base_uri": "https://localhost:8080/"
        },
        "outputId": "bc386a06-e094-4789-e9b6-15dc0770f53d"
      },
      "execution_count": 60,
      "outputs": [
        {
          "output_type": "stream",
          "name": "stdout",
          "text": [
            "hello\n",
            "hello\n",
            "hello\n",
            "hello\n",
            "hello\n",
            "hello\n",
            "hello\n",
            "hello\n",
            "hello\n",
            "hello\n"
          ]
        }
      ]
    },
    {
      "cell_type": "code",
      "source": [
        "# types of function"
      ],
      "metadata": {
        "id": "Pj11zQASI7vD"
      },
      "execution_count": null,
      "outputs": []
    },
    {
      "cell_type": "code",
      "source": [
        "# local and globaL values in a function\n",
        "a = 5\n",
        "def fun():\n",
        "  d = 3\n",
        "\n",
        "print(fun())"
      ],
      "metadata": {
        "id": "Dyh_r2xUJAAF",
        "colab": {
          "base_uri": "https://localhost:8080/"
        },
        "outputId": "94fa735b-1ed0-4b95-8ac7-39529617f6ce"
      },
      "execution_count": 64,
      "outputs": [
        {
          "output_type": "stream",
          "name": "stdout",
          "text": [
            "None\n"
          ]
        }
      ]
    },
    {
      "cell_type": "code",
      "source": [
        "# parameters in a function\n",
        "def add(a,b):\n",
        "  print(a+b)\n",
        "\n",
        "add(3,6,7)"
      ],
      "metadata": {
        "id": "6tfdM1T9JczK",
        "colab": {
          "base_uri": "https://localhost:8080/",
          "height": 185
        },
        "outputId": "6ec01696-5191-430a-cfdd-507c24e93f0e"
      },
      "execution_count": 67,
      "outputs": [
        {
          "output_type": "error",
          "ename": "TypeError",
          "evalue": "add() takes 2 positional arguments but 3 were given",
          "traceback": [
            "\u001b[0;31m---------------------------------------------------------------------------\u001b[0m",
            "\u001b[0;31mTypeError\u001b[0m                                 Traceback (most recent call last)",
            "\u001b[0;32m/tmp/ipython-input-263499465.py\u001b[0m in \u001b[0;36m<cell line: 0>\u001b[0;34m()\u001b[0m\n\u001b[1;32m      3\u001b[0m   \u001b[0mprint\u001b[0m\u001b[0;34m(\u001b[0m\u001b[0ma\u001b[0m\u001b[0;34m+\u001b[0m\u001b[0mb\u001b[0m\u001b[0;34m)\u001b[0m\u001b[0;34m\u001b[0m\u001b[0;34m\u001b[0m\u001b[0m\n\u001b[1;32m      4\u001b[0m \u001b[0;34m\u001b[0m\u001b[0m\n\u001b[0;32m----> 5\u001b[0;31m \u001b[0madd\u001b[0m\u001b[0;34m(\u001b[0m\u001b[0;36m3\u001b[0m\u001b[0;34m,\u001b[0m\u001b[0;36m6\u001b[0m\u001b[0;34m,\u001b[0m\u001b[0;36m7\u001b[0m\u001b[0;34m)\u001b[0m\u001b[0;34m\u001b[0m\u001b[0;34m\u001b[0m\u001b[0m\n\u001b[0m",
            "\u001b[0;31mTypeError\u001b[0m: add() takes 2 positional arguments but 3 were given"
          ]
        }
      ]
    },
    {
      "cell_type": "code",
      "source": [
        "# return statement\n",
        "def fun1(a,b):\n",
        "  return a+b,a-b,a*b,a/b\n",
        "\n",
        "fun1(3,5)\n"
      ],
      "metadata": {
        "id": "uI6T_4NKJelu",
        "colab": {
          "base_uri": "https://localhost:8080/"
        },
        "outputId": "be7bfad4-34f8-476c-f1a3-1f1899b7fae9"
      },
      "execution_count": 69,
      "outputs": [
        {
          "output_type": "execute_result",
          "data": {
            "text/plain": [
              "(8, -2, 15, 0.6)"
            ]
          },
          "metadata": {},
          "execution_count": 69
        }
      ]
    },
    {
      "cell_type": "code",
      "source": [],
      "metadata": {
        "id": "tdwY1wSUJgwu",
        "colab": {
          "base_uri": "https://localhost:8080/"
        },
        "outputId": "f9e1537d-b054-4dea-a6f4-b76a9fb45c23"
      },
      "execution_count": null,
      "outputs": [
        {
          "output_type": "execute_result",
          "data": {
            "text/plain": [
              "(72, 54, 567, 0)"
            ]
          },
          "metadata": {},
          "execution_count": 30
        }
      ]
    },
    {
      "cell_type": "code",
      "source": [
        "# default parameter\n",
        "def fun(name= \"gfg\"):\n",
        "  print(f\"hello {name}\")\n",
        "\n",
        "fun(\"dhawal\")"
      ],
      "metadata": {
        "id": "UOMuKXiLKk6e",
        "colab": {
          "base_uri": "https://localhost:8080/"
        },
        "outputId": "100b3084-dca7-4982-99a5-0bdf156671dc"
      },
      "execution_count": 73,
      "outputs": [
        {
          "output_type": "stream",
          "name": "stdout",
          "text": [
            "hello dhawal\n"
          ]
        }
      ]
    },
    {
      "cell_type": "code",
      "source": [
        "# keyword and positional arguments\n",
        "# positional\n",
        "def student(name,age):\n",
        "  print(f\"{name} is {age} years old\")\n",
        "\n",
        "\n",
        "student(30,\"Amit\")"
      ],
      "metadata": {
        "id": "b8hIWobrLAbF",
        "colab": {
          "base_uri": "https://localhost:8080/"
        },
        "outputId": "efd2b4c7-1cde-4560-c1a3-26b9b2ef8a62"
      },
      "execution_count": 75,
      "outputs": [
        {
          "output_type": "stream",
          "name": "stdout",
          "text": [
            "30 is Amit years old\n"
          ]
        }
      ]
    },
    {
      "cell_type": "code",
      "source": [
        "# keyword\n",
        "student(age = 30,name=\"Amit\")\n"
      ],
      "metadata": {
        "id": "F0eKZ_tiLvjn",
        "colab": {
          "base_uri": "https://localhost:8080/"
        },
        "outputId": "baab9bad-e542-4315-c718-3abc414cedec"
      },
      "execution_count": 76,
      "outputs": [
        {
          "output_type": "stream",
          "name": "stdout",
          "text": [
            "Amit is 30 years old\n"
          ]
        }
      ]
    },
    {
      "cell_type": "code",
      "source": [
        "# wap to find max of 3 numbers"
      ],
      "metadata": {
        "id": "-rH__LVAL0EM"
      },
      "execution_count": null,
      "outputs": []
    },
    {
      "cell_type": "code",
      "source": [
        "# print multiplication table of a number using function"
      ],
      "metadata": {
        "id": "Cxzjfxb5MC_y"
      },
      "execution_count": null,
      "outputs": []
    },
    {
      "cell_type": "code",
      "source": [],
      "metadata": {
        "id": "DbgzpcoPMMr2"
      },
      "execution_count": null,
      "outputs": []
    }
  ]
}
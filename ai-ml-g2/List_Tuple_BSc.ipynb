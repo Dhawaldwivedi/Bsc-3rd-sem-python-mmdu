{
  "nbformat": 4,
  "nbformat_minor": 0,
  "metadata": {
    "colab": {
      "provenance": [],
      "collapsed_sections": [
        "VFTPV5f6qJpA"
      ],
      "authorship_tag": "ABX9TyNWTmzfdymz2G6CcwP97Y/4",
      "include_colab_link": true
    },
    "kernelspec": {
      "name": "python3",
      "display_name": "Python 3"
    },
    "language_info": {
      "name": "python"
    }
  },
  "cells": [
    {
      "cell_type": "markdown",
      "metadata": {
        "id": "view-in-github",
        "colab_type": "text"
      },
      "source": [
        "<a href=\"https://colab.research.google.com/github/Dhawaldwivedi/Bsc-3rd-sem-python-mmdu/blob/main/ai-ml-g2/List_Tuple_BSc.ipynb\" target=\"_parent\"><img src=\"https://colab.research.google.com/assets/colab-badge.svg\" alt=\"Open In Colab\"/></a>"
      ]
    },
    {
      "cell_type": "code",
      "execution_count": null,
      "metadata": {
        "id": "GHDR6084qIM6"
      },
      "outputs": [],
      "source": []
    },
    {
      "cell_type": "markdown",
      "source": [
        "# List"
      ],
      "metadata": {
        "id": "VFTPV5f6qJpA"
      }
    },
    {
      "cell_type": "code",
      "source": [
        "# empty list\n",
        "lst = []\n",
        "lst\n"
      ],
      "metadata": {
        "id": "w6wPqUrjqLZq",
        "colab": {
          "base_uri": "https://localhost:8080/"
        },
        "outputId": "ed32d708-4be5-40ca-8e5e-6112cbaa5043"
      },
      "execution_count": 53,
      "outputs": [
        {
          "output_type": "execute_result",
          "data": {
            "text/plain": [
              "[]"
            ]
          },
          "metadata": {},
          "execution_count": 53
        }
      ]
    },
    {
      "cell_type": "code",
      "source": [
        "# defining a list\n",
        "lst = [3,4,5,\"gfg\"]\n",
        "lst"
      ],
      "metadata": {
        "id": "md5dalxXqPy0",
        "colab": {
          "base_uri": "https://localhost:8080/"
        },
        "outputId": "0b6cda91-eaa4-49cb-9f22-2cc5aafb5ff3"
      },
      "execution_count": 54,
      "outputs": [
        {
          "output_type": "execute_result",
          "data": {
            "text/plain": [
              "[3, 4, 5, 'gfg']"
            ]
          },
          "metadata": {},
          "execution_count": 54
        }
      ]
    },
    {
      "cell_type": "code",
      "source": [
        "# fruits\n",
        "fruits = ['apple','banana','cherry','mango']\n",
        "fruits"
      ],
      "metadata": {
        "id": "Jrc5a49BqP1h",
        "colab": {
          "base_uri": "https://localhost:8080/"
        },
        "outputId": "a6b2b5f5-f67e-4f73-af80-96a33d863d9a"
      },
      "execution_count": 55,
      "outputs": [
        {
          "output_type": "execute_result",
          "data": {
            "text/plain": [
              "['apple', 'banana', 'cherry', 'mango']"
            ]
          },
          "metadata": {},
          "execution_count": 55
        }
      ]
    },
    {
      "cell_type": "code",
      "source": [
        "# accessing different elements\n",
        "fruits[-1]"
      ],
      "metadata": {
        "id": "iroG1Gb3qP4N",
        "colab": {
          "base_uri": "https://localhost:8080/",
          "height": 36
        },
        "outputId": "0352481a-ab4c-4b12-9ebd-de463873f6c2"
      },
      "execution_count": 57,
      "outputs": [
        {
          "output_type": "execute_result",
          "data": {
            "text/plain": [
              "'mango'"
            ],
            "application/vnd.google.colaboratory.intrinsic+json": {
              "type": "string"
            }
          },
          "metadata": {},
          "execution_count": 57
        }
      ]
    },
    {
      "cell_type": "code",
      "source": [
        "# changing element\n",
        "fruits[1]= 'apple'\n",
        "fruits"
      ],
      "metadata": {
        "id": "XGz9n5NbqP6-",
        "colab": {
          "base_uri": "https://localhost:8080/"
        },
        "outputId": "7b5eac3d-b804-44ee-867a-84d6b9766b3b"
      },
      "execution_count": 58,
      "outputs": [
        {
          "output_type": "execute_result",
          "data": {
            "text/plain": [
              "['apple', 'apple', 'cherry', 'mango']"
            ]
          },
          "metadata": {},
          "execution_count": 58
        }
      ]
    },
    {
      "cell_type": "code",
      "source": [
        "# append\n",
        "fruits.append('orange')\n",
        "fruits\n"
      ],
      "metadata": {
        "id": "TiEnQa8aqP9w",
        "colab": {
          "base_uri": "https://localhost:8080/"
        },
        "outputId": "8b616266-3dad-407c-bfb3-43632850b798"
      },
      "execution_count": 59,
      "outputs": [
        {
          "output_type": "execute_result",
          "data": {
            "text/plain": [
              "['apple', 'apple', 'cherry', 'mango', 'orange']"
            ]
          },
          "metadata": {},
          "execution_count": 59
        }
      ]
    },
    {
      "cell_type": "code",
      "source": [
        "# insert\n",
        "fruits.insert(1,'kiwi')\n",
        "fruits\n"
      ],
      "metadata": {
        "id": "bwXdW-FlqQAX",
        "colab": {
          "base_uri": "https://localhost:8080/"
        },
        "outputId": "b5a531d2-d8b0-414b-e180-2ca19bc24cde"
      },
      "execution_count": 60,
      "outputs": [
        {
          "output_type": "execute_result",
          "data": {
            "text/plain": [
              "['apple', 'kiwi', 'apple', 'cherry', 'mango', 'orange']"
            ]
          },
          "metadata": {},
          "execution_count": 60
        }
      ]
    },
    {
      "cell_type": "code",
      "source": [
        "# pop\n",
        "fruits.pop(2)\n",
        "fruits"
      ],
      "metadata": {
        "id": "E9UIH-t_qQDz",
        "colab": {
          "base_uri": "https://localhost:8080/"
        },
        "outputId": "356d9059-5970-4d80-da33-732002a7c586"
      },
      "execution_count": 62,
      "outputs": [
        {
          "output_type": "execute_result",
          "data": {
            "text/plain": [
              "['apple', 'kiwi', 'cherry', 'mango']"
            ]
          },
          "metadata": {},
          "execution_count": 62
        }
      ]
    },
    {
      "cell_type": "code",
      "source": [
        "# sort\n",
        "fruits.sort()\n",
        "fruits"
      ],
      "metadata": {
        "id": "aOMGUvNzqoOt",
        "colab": {
          "base_uri": "https://localhost:8080/"
        },
        "outputId": "c1940b8f-c292-49a5-dbe6-e2405a7aa7f4"
      },
      "execution_count": 63,
      "outputs": [
        {
          "output_type": "execute_result",
          "data": {
            "text/plain": [
              "['apple', 'cherry', 'kiwi', 'mango']"
            ]
          },
          "metadata": {},
          "execution_count": 63
        }
      ]
    },
    {
      "cell_type": "code",
      "source": [
        "# reverse\n",
        "fruits.reverse()\n",
        "fruits\n"
      ],
      "metadata": {
        "id": "HZSvHop3qoRY",
        "colab": {
          "base_uri": "https://localhost:8080/"
        },
        "outputId": "09fa0ada-cb65-4453-f4ea-d9d0ff5681fe"
      },
      "execution_count": 64,
      "outputs": [
        {
          "output_type": "execute_result",
          "data": {
            "text/plain": [
              "['mango', 'kiwi', 'cherry', 'apple']"
            ]
          },
          "metadata": {},
          "execution_count": 64
        }
      ]
    },
    {
      "cell_type": "code",
      "source": [
        "# slicing\n",
        "lst = [1,2,6,3,8,8,3,3,1,0]\n",
        "lst[::-1]\n"
      ],
      "metadata": {
        "id": "oeVsl5rPqoU0",
        "colab": {
          "base_uri": "https://localhost:8080/"
        },
        "outputId": "d6ab3f65-90cb-4c15-a2c9-1997ab08410f"
      },
      "execution_count": 72,
      "outputs": [
        {
          "output_type": "execute_result",
          "data": {
            "text/plain": [
              "[0, 1, 3, 3, 8, 8, 3, 6, 2, 1]"
            ]
          },
          "metadata": {},
          "execution_count": 72
        }
      ]
    },
    {
      "cell_type": "code",
      "source": [
        "# clear\n",
        "lst.clear()\n",
        "lst"
      ],
      "metadata": {
        "id": "T_DlIyjqrU_u",
        "colab": {
          "base_uri": "https://localhost:8080/"
        },
        "outputId": "1d28b49b-91c9-4f88-ae50-ee9ca8eb825d"
      },
      "execution_count": 73,
      "outputs": [
        {
          "output_type": "execute_result",
          "data": {
            "text/plain": [
              "[]"
            ]
          },
          "metadata": {},
          "execution_count": 73
        }
      ]
    },
    {
      "cell_type": "code",
      "source": [
        "# list comprehension\n",
        "[x**2 for x in range(10) if x%2==0]"
      ],
      "metadata": {
        "id": "EusjeJCirVCp",
        "colab": {
          "base_uri": "https://localhost:8080/"
        },
        "outputId": "9e5ea427-7418-42e4-cac8-de5944bbd50a"
      },
      "execution_count": 79,
      "outputs": [
        {
          "output_type": "execute_result",
          "data": {
            "text/plain": [
              "[0, 4, 16, 36, 64]"
            ]
          },
          "metadata": {},
          "execution_count": 79
        }
      ]
    },
    {
      "cell_type": "code",
      "source": [
        "lst = [0,1,2,3,4,5,6,7,8,9]\n",
        "for i in lst:\n",
        "  print(lst[i]**2)\n",
        "\n",
        "\n"
      ],
      "metadata": {
        "id": "ULzgPfLFrVGP"
      },
      "execution_count": null,
      "outputs": []
    },
    {
      "cell_type": "markdown",
      "source": [
        "# Tuples"
      ],
      "metadata": {
        "id": "-4joCisnrn9C"
      }
    },
    {
      "cell_type": "code",
      "source": [
        "# empty tuple\n",
        "t = ()\n",
        "print(type(t))"
      ],
      "metadata": {
        "id": "x2tSVWKfrrvr",
        "colab": {
          "base_uri": "https://localhost:8080/"
        },
        "outputId": "b8614f4b-e612-4038-8c53-ebf3155dca17"
      },
      "execution_count": 80,
      "outputs": [
        {
          "output_type": "stream",
          "name": "stdout",
          "text": [
            "<class 'tuple'>\n"
          ]
        }
      ]
    },
    {
      "cell_type": "code",
      "source": [
        "lst=list()\n",
        "print(type(lst))\n",
        "tpl=tuple()\n",
        "print(type(tpl))"
      ],
      "metadata": {
        "id": "Db5FK60xrvoj",
        "colab": {
          "base_uri": "https://localhost:8080/"
        },
        "outputId": "e9db3a68-0e5c-4f3b-c568-b316a15b3cf2"
      },
      "execution_count": null,
      "outputs": [
        {
          "output_type": "stream",
          "name": "stdout",
          "text": [
            "<class 'list'>\n",
            "<class 'tuple'>\n"
          ]
        }
      ]
    },
    {
      "cell_type": "code",
      "source": [
        "numbers=tuple([1,2,3,4,5,6])\n",
        "numbers[3]"
      ],
      "metadata": {
        "id": "_PtVDgsNrvrS",
        "colab": {
          "base_uri": "https://localhost:8080/"
        },
        "outputId": "f0494bb3-bab5-4f8c-e746-b6ab4d1fe136"
      },
      "execution_count": 82,
      "outputs": [
        {
          "output_type": "execute_result",
          "data": {
            "text/plain": [
              "4"
            ]
          },
          "metadata": {},
          "execution_count": 82
        }
      ]
    },
    {
      "cell_type": "code",
      "source": [
        "mixed_tuple=(1,\"Hello World\",3.14, True)\n",
        "print(mixed_tuple)"
      ],
      "metadata": {
        "id": "vGi4wt6Vrvu6",
        "colab": {
          "base_uri": "https://localhost:8080/"
        },
        "outputId": "c77b0726-40d2-41b3-a78e-44b39f6434a8"
      },
      "execution_count": 83,
      "outputs": [
        {
          "output_type": "stream",
          "name": "stdout",
          "text": [
            "(1, 'Hello World', 3.14, True)\n"
          ]
        }
      ]
    },
    {
      "cell_type": "code",
      "source": [
        "## Tuple Operations\n",
        "\n",
        "concatenation_tuple=numbers + mixed_tuple\n",
        "print(concatenation_tuple)"
      ],
      "metadata": {
        "id": "gIVnzxiJr4IH",
        "colab": {
          "base_uri": "https://localhost:8080/"
        },
        "outputId": "ac409037-7933-46a4-e57d-4460be0d1531"
      },
      "execution_count": 84,
      "outputs": [
        {
          "output_type": "stream",
          "name": "stdout",
          "text": [
            "(1, 2, 3, 4, 5, 6, 1, 'Hello World', 3.14, True)\n"
          ]
        }
      ]
    },
    {
      "cell_type": "code",
      "source": [
        "mixed_tuple*3"
      ],
      "metadata": {
        "colab": {
          "base_uri": "https://localhost:8080/"
        },
        "id": "dDBBPoQWeVW_",
        "outputId": "455ed6ef-c76e-4343-da9c-5d78387bebf7"
      },
      "execution_count": 85,
      "outputs": [
        {
          "output_type": "execute_result",
          "data": {
            "text/plain": [
              "(1,\n",
              " 'Hello World',\n",
              " 3.14,\n",
              " True,\n",
              " 1,\n",
              " 'Hello World',\n",
              " 3.14,\n",
              " True,\n",
              " 1,\n",
              " 'Hello World',\n",
              " 3.14,\n",
              " True)"
            ]
          },
          "metadata": {},
          "execution_count": 85
        }
      ]
    },
    {
      "cell_type": "code",
      "source": [
        "lst=[1,2,3,4,5]\n",
        "print(lst)\n",
        "\n",
        "lst[1]=\"Krish\"\n",
        "print(lst)"
      ],
      "metadata": {
        "id": "zdw0tQbqr4K0",
        "colab": {
          "base_uri": "https://localhost:8080/"
        },
        "outputId": "240ae1c3-f17f-4f4f-d26a-3a12d233ebe5"
      },
      "execution_count": 86,
      "outputs": [
        {
          "output_type": "stream",
          "name": "stdout",
          "text": [
            "[1, 2, 3, 4, 5]\n",
            "[1, 'Krish', 3, 4, 5]\n"
          ]
        }
      ]
    },
    {
      "cell_type": "code",
      "source": [
        "numbers[2]= \"Krish\""
      ],
      "metadata": {
        "colab": {
          "base_uri": "https://localhost:8080/",
          "height": 148
        },
        "id": "xESG0JPmeqxs",
        "outputId": "2f29041d-bbe4-4e82-ea56-a20afb4e1987"
      },
      "execution_count": null,
      "outputs": [
        {
          "output_type": "error",
          "ename": "TypeError",
          "evalue": "'tuple' object does not support item assignment",
          "traceback": [
            "\u001b[0;31m---------------------------------------------------------------------------\u001b[0m",
            "\u001b[0;31mTypeError\u001b[0m                                 Traceback (most recent call last)",
            "\u001b[0;32m/tmp/ipython-input-181303943.py\u001b[0m in \u001b[0;36m<cell line: 0>\u001b[0;34m()\u001b[0m\n\u001b[0;32m----> 1\u001b[0;31m \u001b[0mnumbers\u001b[0m\u001b[0;34m[\u001b[0m\u001b[0;36m2\u001b[0m\u001b[0;34m]\u001b[0m\u001b[0;34m=\u001b[0m \u001b[0;34m\"Krish\"\u001b[0m\u001b[0;34m\u001b[0m\u001b[0;34m\u001b[0m\u001b[0m\n\u001b[0m",
            "\u001b[0;31mTypeError\u001b[0m: 'tuple' object does not support item assignment"
          ]
        }
      ]
    },
    {
      "cell_type": "code",
      "source": [],
      "metadata": {
        "id": "CMmuPiLGeq1J"
      },
      "execution_count": null,
      "outputs": []
    },
    {
      "cell_type": "code",
      "source": [
        "## Tuple Methods\n",
        "print(numbers.count(1))\n",
        "print(numbers.index(3))"
      ],
      "metadata": {
        "id": "ym2SXBWSr4Nd",
        "colab": {
          "base_uri": "https://localhost:8080/"
        },
        "outputId": "8f34c0fd-4e70-4a24-b2a3-29c7141f183b"
      },
      "execution_count": 87,
      "outputs": [
        {
          "output_type": "stream",
          "name": "stdout",
          "text": [
            "1\n",
            "2\n"
          ]
        }
      ]
    },
    {
      "cell_type": "code",
      "source": [
        "## Packing and Unpacking tuple\n",
        "## packing\n",
        "packed_tuple=(1,\"Hello\",3.14)\n",
        "print(packed_tuple)"
      ],
      "metadata": {
        "id": "GSRf7-aMr4QP",
        "colab": {
          "base_uri": "https://localhost:8080/"
        },
        "outputId": "1e389681-9a59-498f-9be3-8ac293973d42"
      },
      "execution_count": null,
      "outputs": [
        {
          "output_type": "stream",
          "name": "stdout",
          "text": [
            "(1, 'Hello', 3.14)\n"
          ]
        }
      ]
    },
    {
      "cell_type": "code",
      "source": [
        "##unpacking a tuple\n",
        "a,b,c=packed_tuple\n",
        "\n",
        "print(a)\n",
        "print(b)\n",
        "print(c)"
      ],
      "metadata": {
        "id": "t-Uysp-zr4Tv",
        "colab": {
          "base_uri": "https://localhost:8080/"
        },
        "outputId": "1f195e88-b8ac-40d0-86f7-17939340afe4"
      },
      "execution_count": 90,
      "outputs": [
        {
          "output_type": "stream",
          "name": "stdout",
          "text": [
            "1\n",
            "Hello\n",
            "3.14\n"
          ]
        }
      ]
    },
    {
      "cell_type": "code",
      "source": [
        "## Unpacking with *\n",
        "numbers=(1,2,3,4,5,6)\n",
        "first,*middle,last=numbers\n",
        "print(first)\n",
        "print(middle)\n",
        "print(last)"
      ],
      "metadata": {
        "id": "U8LkFV7KwJNC",
        "colab": {
          "base_uri": "https://localhost:8080/"
        },
        "outputId": "c3418e80-88d5-4663-dfd9-16155d38b819"
      },
      "execution_count": 92,
      "outputs": [
        {
          "output_type": "stream",
          "name": "stdout",
          "text": [
            "1\n",
            "[2, 3, 4, 5]\n",
            "6\n"
          ]
        }
      ]
    },
    {
      "cell_type": "code",
      "source": [
        "## Nested Tuple\n",
        "## Nested List\n",
        "lst=[[1,2,3,4],[6,7,8,9],[1,\"Hello\",3.14,\"c\"]]\n",
        "lst[2][1:3]"
      ],
      "metadata": {
        "id": "JzlYjnJ_wJQR",
        "colab": {
          "base_uri": "https://localhost:8080/"
        },
        "outputId": "6c631918-e116-43f5-96b7-a0c8d51718fc"
      },
      "execution_count": 95,
      "outputs": [
        {
          "output_type": "execute_result",
          "data": {
            "text/plain": [
              "['Hello', 3.14]"
            ]
          },
          "metadata": {},
          "execution_count": 95
        }
      ]
    },
    {
      "cell_type": "code",
      "source": [
        "nested_tuple = ((1, 2, 3), (\"a\", \"b\", \"c\"), (True, False))\n",
        "\n",
        "## access the elements inside a tuple\n",
        "print(nested_tuple[0])\n",
        "print(nested_tuple[1][2])"
      ],
      "metadata": {
        "id": "ZAOqh8MOwhsk"
      },
      "execution_count": null,
      "outputs": []
    },
    {
      "cell_type": "code",
      "source": [
        "# write a function to find all duplicate elements in a list\n",
        "lst = [1,1,2,2,3,3,3,4,5,6,6,9]"
      ],
      "metadata": {
        "id": "d4ixUIxRwhvd"
      },
      "execution_count": null,
      "outputs": []
    },
    {
      "cell_type": "code",
      "source": [],
      "metadata": {
        "id": "r589uJ-vwhy8"
      },
      "execution_count": null,
      "outputs": []
    }
  ]
}
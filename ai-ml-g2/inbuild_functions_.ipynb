{
  "nbformat": 4,
  "nbformat_minor": 0,
  "metadata": {
    "colab": {
      "provenance": [],
      "authorship_tag": "ABX9TyNu2wGSwOoY5eLNREDZaIDU",
      "include_colab_link": true
    },
    "kernelspec": {
      "name": "python3",
      "display_name": "Python 3"
    },
    "language_info": {
      "name": "python"
    }
  },
  "cells": [
    {
      "cell_type": "markdown",
      "metadata": {
        "id": "view-in-github",
        "colab_type": "text"
      },
      "source": [
        "<a href=\"https://colab.research.google.com/github/Dhawaldwivedi/Bsc-3rd-sem-python-mmdu/blob/main/ai-ml-g2/inbuild_functions_.ipynb\" target=\"_parent\"><img src=\"https://colab.research.google.com/assets/colab-badge.svg\" alt=\"Open In Colab\"/></a>"
      ]
    },
    {
      "cell_type": "code",
      "source": [
        "# math\n",
        "import math"
      ],
      "metadata": {
        "id": "_EjA5DNnO_2m"
      },
      "execution_count": 1,
      "outputs": []
    },
    {
      "cell_type": "code",
      "source": [
        "x = 45.677"
      ],
      "metadata": {
        "id": "t8Sgtgxwb0t1"
      },
      "execution_count": 2,
      "outputs": []
    },
    {
      "cell_type": "code",
      "source": [
        "math.exp(x)"
      ],
      "metadata": {
        "id": "uTkB25iib4Fj",
        "colab": {
          "base_uri": "https://localhost:8080/"
        },
        "outputId": "d575a8bb-0a42-41b4-b4d9-d86292f3229c"
      },
      "execution_count": 3,
      "outputs": [
        {
          "output_type": "execute_result",
          "data": {
            "text/plain": [
              "6.8749421784715665e+19"
            ]
          },
          "metadata": {},
          "execution_count": 3
        }
      ]
    },
    {
      "cell_type": "code",
      "source": [
        "math.log10(x)"
      ],
      "metadata": {
        "id": "USg7h6sXb7qO",
        "colab": {
          "base_uri": "https://localhost:8080/"
        },
        "outputId": "82fd9cad-fc8a-4633-e373-abcdf851da13"
      },
      "execution_count": 4,
      "outputs": [
        {
          "output_type": "execute_result",
          "data": {
            "text/plain": [
              "1.659697572334321"
            ]
          },
          "metadata": {},
          "execution_count": 4
        }
      ]
    },
    {
      "cell_type": "code",
      "source": [
        "math.sin(x)"
      ],
      "metadata": {
        "id": "NTEH-Juxb-mi",
        "colab": {
          "base_uri": "https://localhost:8080/"
        },
        "outputId": "24f68744-01e1-4e3a-e1de-e19ace16d96e"
      },
      "execution_count": 5,
      "outputs": [
        {
          "output_type": "execute_result",
          "data": {
            "text/plain": [
              "0.9923334029807036"
            ]
          },
          "metadata": {},
          "execution_count": 5
        }
      ]
    },
    {
      "cell_type": "code",
      "source": [
        "math.sqrt(x)"
      ],
      "metadata": {
        "id": "P5_qBfEBcEKW",
        "colab": {
          "base_uri": "https://localhost:8080/"
        },
        "outputId": "a1e22730-c9ff-4736-99f8-7372848aa7a1"
      },
      "execution_count": 6,
      "outputs": [
        {
          "output_type": "execute_result",
          "data": {
            "text/plain": [
              "6.758476159608762"
            ]
          },
          "metadata": {},
          "execution_count": 6
        }
      ]
    },
    {
      "cell_type": "code",
      "source": [
        "# ceil and floor functions\n",
        "math.ceil(x)"
      ],
      "metadata": {
        "id": "O1IpmewmcG8u",
        "colab": {
          "base_uri": "https://localhost:8080/"
        },
        "outputId": "1cb3a368-6277-43b6-e896-882f893fc4c3"
      },
      "execution_count": 7,
      "outputs": [
        {
          "output_type": "execute_result",
          "data": {
            "text/plain": [
              "46"
            ]
          },
          "metadata": {},
          "execution_count": 7
        }
      ]
    },
    {
      "cell_type": "code",
      "source": [
        "math.floor(x)"
      ],
      "metadata": {
        "id": "OgWGUpRfdGOD",
        "colab": {
          "base_uri": "https://localhost:8080/"
        },
        "outputId": "6d5de827-f5e6-4fb1-e422-63015b49bd5f"
      },
      "execution_count": 8,
      "outputs": [
        {
          "output_type": "execute_result",
          "data": {
            "text/plain": [
              "45"
            ]
          },
          "metadata": {},
          "execution_count": 8
        }
      ]
    },
    {
      "cell_type": "code",
      "source": [
        "math.trunc(x)"
      ],
      "metadata": {
        "id": "MwfPF9FUdJhE",
        "colab": {
          "base_uri": "https://localhost:8080/"
        },
        "outputId": "5909839a-5262-479d-ccab-1dc3c367bf70"
      },
      "execution_count": 9,
      "outputs": [
        {
          "output_type": "execute_result",
          "data": {
            "text/plain": [
              "45"
            ]
          },
          "metadata": {},
          "execution_count": 9
        }
      ]
    },
    {
      "cell_type": "code",
      "source": [
        "z = 6.138476159608762\n",
        "round(z,2)"
      ],
      "metadata": {
        "id": "F8-rq-zedWK0",
        "colab": {
          "base_uri": "https://localhost:8080/"
        },
        "outputId": "44bd7b36-6304-4f97-f74c-5b9268652d90"
      },
      "execution_count": 14,
      "outputs": [
        {
          "output_type": "execute_result",
          "data": {
            "text/plain": [
              "6.14"
            ]
          },
          "metadata": {},
          "execution_count": 14
        }
      ]
    },
    {
      "cell_type": "code",
      "source": [
        "y = -46.65548"
      ],
      "metadata": {
        "id": "wyId7kevdjhX"
      },
      "execution_count": 15,
      "outputs": []
    },
    {
      "cell_type": "code",
      "source": [
        "math.ceil(y)"
      ],
      "metadata": {
        "id": "dcRwPae7drht",
        "colab": {
          "base_uri": "https://localhost:8080/"
        },
        "outputId": "30cfcf76-93fb-4e8c-a2ff-46b2663f9db9"
      },
      "execution_count": 16,
      "outputs": [
        {
          "output_type": "execute_result",
          "data": {
            "text/plain": [
              "-46"
            ]
          },
          "metadata": {},
          "execution_count": 16
        }
      ]
    },
    {
      "cell_type": "code",
      "source": [
        "math.floor(y)"
      ],
      "metadata": {
        "id": "WGdt6PJsdwMh",
        "colab": {
          "base_uri": "https://localhost:8080/"
        },
        "outputId": "a958cc93-3db3-4e5e-f3cb-17dc3d1f53b1"
      },
      "execution_count": 17,
      "outputs": [
        {
          "output_type": "execute_result",
          "data": {
            "text/plain": [
              "-47"
            ]
          },
          "metadata": {},
          "execution_count": 17
        }
      ]
    },
    {
      "cell_type": "code",
      "source": [
        "math.trunc(y)"
      ],
      "metadata": {
        "id": "VaB8BrJad07F",
        "colab": {
          "base_uri": "https://localhost:8080/"
        },
        "outputId": "f2835a0f-a8f9-4a1b-f2bd-0c582dea6101"
      },
      "execution_count": 18,
      "outputs": [
        {
          "output_type": "execute_result",
          "data": {
            "text/plain": [
              "-46"
            ]
          },
          "metadata": {},
          "execution_count": 18
        }
      ]
    },
    {
      "cell_type": "code",
      "source": [
        "math.pi"
      ],
      "metadata": {
        "id": "cqaF01fQd3Mp",
        "colab": {
          "base_uri": "https://localhost:8080/"
        },
        "outputId": "a4b284bb-d5d1-4f5d-b488-11609976f81e"
      },
      "execution_count": 19,
      "outputs": [
        {
          "output_type": "execute_result",
          "data": {
            "text/plain": [
              "3.141592653589793"
            ]
          },
          "metadata": {},
          "execution_count": 19
        }
      ]
    },
    {
      "cell_type": "code",
      "source": [
        "# factorial 5! = 5*4*3*2*1= 120\n",
        "math.factorial(12)"
      ],
      "metadata": {
        "id": "UVM_lSvEd_GH",
        "colab": {
          "base_uri": "https://localhost:8080/"
        },
        "outputId": "5a1253d6-3ce0-4fa5-e100-1cf552b0f8bd"
      },
      "execution_count": 20,
      "outputs": [
        {
          "output_type": "execute_result",
          "data": {
            "text/plain": [
              "479001600"
            ]
          },
          "metadata": {},
          "execution_count": 20
        }
      ]
    },
    {
      "cell_type": "code",
      "source": [
        "# random\n",
        "import random"
      ],
      "metadata": {
        "id": "p9o9BWGLeUM4"
      },
      "execution_count": 21,
      "outputs": []
    },
    {
      "cell_type": "code",
      "source": [
        "math.trunc(random.random()*100)"
      ],
      "metadata": {
        "id": "6qYpUj2iehuq",
        "colab": {
          "base_uri": "https://localhost:8080/"
        },
        "outputId": "b3d5176f-8448-4086-f7c6-b20d4a149f82"
      },
      "execution_count": 37,
      "outputs": [
        {
          "output_type": "execute_result",
          "data": {
            "text/plain": [
              "11"
            ]
          },
          "metadata": {},
          "execution_count": 37
        }
      ]
    },
    {
      "cell_type": "code",
      "source": [],
      "metadata": {
        "id": "qEaYt_vpekG3"
      },
      "execution_count": null,
      "outputs": []
    },
    {
      "cell_type": "code",
      "source": [
        "random.randint(1,6)"
      ],
      "metadata": {
        "id": "p7TbaP-zfUEl",
        "colab": {
          "base_uri": "https://localhost:8080/"
        },
        "outputId": "fa31c8cd-1646-464a-fb5b-cc033372b0e5"
      },
      "execution_count": 48,
      "outputs": [
        {
          "output_type": "execute_result",
          "data": {
            "text/plain": [
              "5"
            ]
          },
          "metadata": {},
          "execution_count": 48
        }
      ]
    },
    {
      "cell_type": "code",
      "source": [
        "random.choice([1,43,56,78,2,3,90])"
      ],
      "metadata": {
        "id": "TNvItUfNfoGF",
        "colab": {
          "base_uri": "https://localhost:8080/"
        },
        "outputId": "6f47c39d-22f3-43e4-dbee-3f58e8565a7f"
      },
      "execution_count": 53,
      "outputs": [
        {
          "output_type": "execute_result",
          "data": {
            "text/plain": [
              "56"
            ]
          },
          "metadata": {},
          "execution_count": 53
        }
      ]
    },
    {
      "cell_type": "code",
      "source": [
        "random.sample([1,43,56,78,2,3,90],3)"
      ],
      "metadata": {
        "id": "Zb1WF9JUga4b",
        "colab": {
          "base_uri": "https://localhost:8080/"
        },
        "outputId": "f79db623-6b41-4608-f16b-0d25c5450294"
      },
      "execution_count": 59,
      "outputs": [
        {
          "output_type": "execute_result",
          "data": {
            "text/plain": [
              "[1, 2, 90]"
            ]
          },
          "metadata": {},
          "execution_count": 59
        }
      ]
    },
    {
      "cell_type": "code",
      "source": [
        "# write a function to calculate the compound interest - principle , rate , time\n",
        "\n",
        "# math.pow(a,b)"
      ],
      "metadata": {
        "id": "Na2p5WyXgsMB"
      },
      "execution_count": null,
      "outputs": []
    },
    {
      "cell_type": "code",
      "source": [
        "math.pow(5,4)"
      ],
      "metadata": {
        "id": "T6QlP5TUj_k8",
        "colab": {
          "base_uri": "https://localhost:8080/"
        },
        "outputId": "e3c009da-15db-47b2-a8e2-40891f8b2162"
      },
      "execution_count": 60,
      "outputs": [
        {
          "output_type": "execute_result",
          "data": {
            "text/plain": [
              "625.0"
            ]
          },
          "metadata": {},
          "execution_count": 60
        }
      ]
    },
    {
      "cell_type": "code",
      "source": [
        "# datetime\n",
        "import datetime"
      ],
      "metadata": {
        "id": "uZiF2x_VkT2E"
      },
      "execution_count": 61,
      "outputs": []
    },
    {
      "cell_type": "code",
      "source": [
        "print(datetime.datetime.now())"
      ],
      "metadata": {
        "id": "sfVm6s7ulaHB",
        "colab": {
          "base_uri": "https://localhost:8080/"
        },
        "outputId": "88c3eeeb-3170-46e0-9e34-457a8ba652cc"
      },
      "execution_count": 62,
      "outputs": [
        {
          "output_type": "stream",
          "name": "stdout",
          "text": [
            "2025-09-29 05:49:42.744798\n"
          ]
        }
      ]
    },
    {
      "cell_type": "code",
      "source": [
        "print(datetime.datetime(2020,10,22,10,20,00))  # YY,MM,DD HH:MM:SS"
      ],
      "metadata": {
        "id": "i9oOnATbldgu",
        "colab": {
          "base_uri": "https://localhost:8080/"
        },
        "outputId": "3dc5c8f0-cbfe-46ba-f45e-a714333a102f"
      },
      "execution_count": 63,
      "outputs": [
        {
          "output_type": "stream",
          "name": "stdout",
          "text": [
            "2020-10-22 10:20:00\n"
          ]
        }
      ]
    },
    {
      "cell_type": "code",
      "source": [
        "#strftime\n",
        "print(datetime.datetime.now().strftime(\"%d/%m/%y %H:%M:%S\")) # formatting"
      ],
      "metadata": {
        "id": "SaGpKE5Vl_dl",
        "colab": {
          "base_uri": "https://localhost:8080/"
        },
        "outputId": "96f32e87-0ea5-4f3e-d7c7-f888356364ca"
      },
      "execution_count": 64,
      "outputs": [
        {
          "output_type": "stream",
          "name": "stdout",
          "text": [
            "29/09/25 05:54:25\n"
          ]
        }
      ]
    },
    {
      "cell_type": "code",
      "source": [
        "import pytz"
      ],
      "metadata": {
        "id": "p9ZcJAusmpUy"
      },
      "execution_count": 65,
      "outputs": []
    },
    {
      "cell_type": "code",
      "source": [
        "timezone = pytz.timezone(\"Asia/Kolkata\")\n",
        "current_india_time = datetime.datetime.now(timezone)\n",
        "print(current_india_time)"
      ],
      "metadata": {
        "id": "eLx1LbXhm4gR",
        "colab": {
          "base_uri": "https://localhost:8080/"
        },
        "outputId": "e3a65f63-a61b-4731-ecbe-874ca25dfc3f"
      },
      "execution_count": 66,
      "outputs": [
        {
          "output_type": "stream",
          "name": "stdout",
          "text": [
            "2025-09-29 11:25:19.351077+05:30\n"
          ]
        }
      ]
    },
    {
      "cell_type": "code",
      "source": [
        "# string functions\n",
        "import string"
      ],
      "metadata": {
        "id": "b3VwP1Z6nLNC"
      },
      "execution_count": 67,
      "outputs": []
    },
    {
      "cell_type": "code",
      "source": [
        "print(string.digits)"
      ],
      "metadata": {
        "id": "iphndKiOnhpB",
        "colab": {
          "base_uri": "https://localhost:8080/"
        },
        "outputId": "47597bdb-f7ef-4b7d-b93f-e8fd3193ac35"
      },
      "execution_count": 68,
      "outputs": [
        {
          "output_type": "stream",
          "name": "stdout",
          "text": [
            "0123456789\n"
          ]
        }
      ]
    },
    {
      "cell_type": "code",
      "source": [
        "x = \"data science\"\n",
        "type(x)"
      ],
      "metadata": {
        "id": "YKQFfVWonlt6",
        "colab": {
          "base_uri": "https://localhost:8080/"
        },
        "outputId": "c5d11295-9168-4969-a580-e944f62f1c0b"
      },
      "execution_count": 69,
      "outputs": [
        {
          "output_type": "execute_result",
          "data": {
            "text/plain": [
              "str"
            ]
          },
          "metadata": {},
          "execution_count": 69
        }
      ]
    },
    {
      "cell_type": "code",
      "source": [
        "print(x.upper())"
      ],
      "metadata": {
        "id": "vTY0SPGUnsOS",
        "colab": {
          "base_uri": "https://localhost:8080/"
        },
        "outputId": "d5d380fd-4870-4040-def4-ab08f7f63b23"
      },
      "execution_count": 70,
      "outputs": [
        {
          "output_type": "stream",
          "name": "stdout",
          "text": [
            "DATA SCIENCE\n"
          ]
        }
      ]
    },
    {
      "cell_type": "code",
      "source": [
        "print(x.lower())\n",
        "print(x.title())\n",
        "print(x.capitalize())"
      ],
      "metadata": {
        "id": "JiPD_2W-nx0R",
        "colab": {
          "base_uri": "https://localhost:8080/"
        },
        "outputId": "69552431-9794-4ba2-8d88-1dab9e8f0976"
      },
      "execution_count": 71,
      "outputs": [
        {
          "output_type": "stream",
          "name": "stdout",
          "text": [
            "data science\n",
            "Data Science\n",
            "Data science\n"
          ]
        }
      ]
    },
    {
      "cell_type": "code",
      "source": [
        "y = \"233\"\n",
        "print(y.isdigit())\n",
        "print(x.isdigit())"
      ],
      "metadata": {
        "id": "zJbZCbApn4Xf",
        "colab": {
          "base_uri": "https://localhost:8080/"
        },
        "outputId": "50e8aeab-74d0-4b84-d3ba-714d98740b71"
      },
      "execution_count": 72,
      "outputs": [
        {
          "output_type": "stream",
          "name": "stdout",
          "text": [
            "True\n",
            "False\n"
          ]
        }
      ]
    },
    {
      "cell_type": "code",
      "source": [
        "txt = ' '\n",
        "print(txt.isspace())"
      ],
      "metadata": {
        "id": "5s-mZNwQoNQC",
        "colab": {
          "base_uri": "https://localhost:8080/"
        },
        "outputId": "aef3b07b-c375-4eb5-ac91-8a3d362cc313"
      },
      "execution_count": 73,
      "outputs": [
        {
          "output_type": "stream",
          "name": "stdout",
          "text": [
            "True\n"
          ]
        }
      ]
    },
    {
      "cell_type": "code",
      "source": [
        "len(x)"
      ],
      "metadata": {
        "id": "g5y1ZPX8oWzC",
        "colab": {
          "base_uri": "https://localhost:8080/"
        },
        "outputId": "793854c3-4df2-464a-cccd-6b6481b1b7cc"
      },
      "execution_count": 74,
      "outputs": [
        {
          "output_type": "execute_result",
          "data": {
            "text/plain": [
              "12"
            ]
          },
          "metadata": {},
          "execution_count": 74
        }
      ]
    },
    {
      "cell_type": "code",
      "source": [],
      "metadata": {
        "id": "7JzrYRsExvVT"
      },
      "execution_count": null,
      "outputs": []
    }
  ]
}
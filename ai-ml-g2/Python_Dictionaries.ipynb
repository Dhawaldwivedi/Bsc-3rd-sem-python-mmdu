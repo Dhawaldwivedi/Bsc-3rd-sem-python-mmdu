{
  "nbformat": 4,
  "nbformat_minor": 0,
  "metadata": {
    "colab": {
      "provenance": [],
      "authorship_tag": "ABX9TyPeWfi+saeDviCE/1fdTL0g",
      "include_colab_link": true
    },
    "kernelspec": {
      "name": "python3",
      "display_name": "Python 3"
    },
    "language_info": {
      "name": "python"
    }
  },
  "cells": [
    {
      "cell_type": "markdown",
      "metadata": {
        "id": "view-in-github",
        "colab_type": "text"
      },
      "source": [
        "<a href=\"https://colab.research.google.com/github/Dhawaldwivedi/Bsc-3rd-sem-python-mmdu/blob/main/ai-ml-g2/Python_Dictionaries.ipynb\" target=\"_parent\"><img src=\"https://colab.research.google.com/assets/colab-badge.svg\" alt=\"Open In Colab\"/></a>"
      ]
    },
    {
      "cell_type": "code",
      "execution_count": null,
      "metadata": {
        "id": "T-xF3pdpf1Gc"
      },
      "outputs": [],
      "source": [
        "#python data structures\n",
        "# List  - students= [stu1, stu2, stu3]\n",
        "#         students_roll_no = [1,2,3]\n",
        "#         student_address = [\"Noida\",\"Delhi\",\"Mumbai\"]"
      ]
    },
    {
      "cell_type": "code",
      "source": [
        "student1 = {\"name\":\"Vanshika\",\"course\":\"bsc-aiml\",\"sem\":3,\"event1\":\"yes\",\"event2\":\"yes\"}"
      ],
      "metadata": {
        "id": "aapQfWl-2O7L"
      },
      "execution_count": null,
      "outputs": []
    },
    {
      "cell_type": "code",
      "source": [
        "# dictionary - key - value pair\n",
        "# 1:stu1 ,2:stu2"
      ],
      "metadata": {
        "id": "_8qV05F4f6UT"
      },
      "execution_count": 1,
      "outputs": []
    },
    {
      "cell_type": "code",
      "source": [
        "empty_dict = {}\n",
        "print(type(empty_dict))"
      ],
      "metadata": {
        "colab": {
          "base_uri": "https://localhost:8080/"
        },
        "id": "D0LtJv1rf6cu",
        "outputId": "a27d003b-95f7-4adb-d865-cb6a0998465d"
      },
      "execution_count": 2,
      "outputs": [
        {
          "output_type": "stream",
          "name": "stdout",
          "text": [
            "<class 'dict'>\n"
          ]
        }
      ]
    },
    {
      "cell_type": "code",
      "source": [
        "empty_dict = dict()\n",
        "print(type(empty_dict))"
      ],
      "metadata": {
        "colab": {
          "base_uri": "https://localhost:8080/"
        },
        "id": "vI-WuGgXf6fb",
        "outputId": "5c902537-0617-4d42-cc13-b73223530966"
      },
      "execution_count": 3,
      "outputs": [
        {
          "output_type": "stream",
          "name": "stdout",
          "text": [
            "<class 'dict'>\n"
          ]
        }
      ]
    },
    {
      "cell_type": "code",
      "source": [
        "student = {\"name\":\"Dhawal\",\"age\":30,\"grade\":\"A\"}\n",
        "print(student)"
      ],
      "metadata": {
        "colab": {
          "base_uri": "https://localhost:8080/"
        },
        "id": "YNumac5Jf6iU",
        "outputId": "500d3ede-4add-42df-d625-dbb3673a7f63"
      },
      "execution_count": 4,
      "outputs": [
        {
          "output_type": "stream",
          "name": "stdout",
          "text": [
            "{'name': 'Dhawal', 'age': 30, 'grade': 'A'}\n"
          ]
        }
      ]
    },
    {
      "cell_type": "code",
      "source": [
        "students = {\"Dhawal\":\"name\",22:\"age\",\"A\":\"grade\"}\n",
        "print(students)"
      ],
      "metadata": {
        "colab": {
          "base_uri": "https://localhost:8080/"
        },
        "id": "kxuuihj7f6lV",
        "outputId": "7dae7eb3-56ea-4cb1-a857-5f9e14997dae"
      },
      "execution_count": 5,
      "outputs": [
        {
          "output_type": "stream",
          "name": "stdout",
          "text": [
            "{'Dhawal': 'name', 22: 'age', 'A': 'grade'}\n"
          ]
        }
      ]
    },
    {
      "cell_type": "code",
      "source": [
        "student = {\"name\":\"Dhawal\",\"age\":24,\"grade\":\"A\",\"name\":\"gfg\"}\n",
        "student"
      ],
      "metadata": {
        "colab": {
          "base_uri": "https://localhost:8080/"
        },
        "id": "yP4aKm7mf6oV",
        "outputId": "84687e00-a921-4611-ca3c-f4ef5f46afb9"
      },
      "execution_count": 6,
      "outputs": [
        {
          "output_type": "execute_result",
          "data": {
            "text/plain": [
              "{'name': 'gfg', 'age': 24, 'grade': 'A'}"
            ]
          },
          "metadata": {},
          "execution_count": 6
        }
      ]
    },
    {
      "cell_type": "code",
      "source": [
        "student[\"gfg\"]"
      ],
      "metadata": {
        "colab": {
          "base_uri": "https://localhost:8080/",
          "height": 148
        },
        "id": "pqz6C_Qcf6rO",
        "outputId": "2703c164-b3f8-4131-fc31-9c6b47a15b91"
      },
      "execution_count": 10,
      "outputs": [
        {
          "output_type": "error",
          "ename": "KeyError",
          "evalue": "'gfg'",
          "traceback": [
            "\u001b[0;31m---------------------------------------------------------------------------\u001b[0m",
            "\u001b[0;31mKeyError\u001b[0m                                  Traceback (most recent call last)",
            "\u001b[0;32m/tmp/ipython-input-2636870146.py\u001b[0m in \u001b[0;36m<cell line: 0>\u001b[0;34m()\u001b[0m\n\u001b[0;32m----> 1\u001b[0;31m \u001b[0mstudent\u001b[0m\u001b[0;34m[\u001b[0m\u001b[0;34m\"gfg\"\u001b[0m\u001b[0;34m]\u001b[0m\u001b[0;34m\u001b[0m\u001b[0;34m\u001b[0m\u001b[0m\n\u001b[0m",
            "\u001b[0;31mKeyError\u001b[0m: 'gfg'"
          ]
        }
      ]
    },
    {
      "cell_type": "code",
      "source": [
        "student['age']"
      ],
      "metadata": {
        "id": "UY_iY8s_f6uc"
      },
      "execution_count": null,
      "outputs": []
    },
    {
      "cell_type": "code",
      "source": [
        "student[\"marks\"]"
      ],
      "metadata": {
        "colab": {
          "base_uri": "https://localhost:8080/",
          "height": 148
        },
        "id": "rbciJNjnf6xY",
        "outputId": "e0f901e4-8280-4ffb-c94f-9ccb0f60ebdc"
      },
      "execution_count": 11,
      "outputs": [
        {
          "output_type": "error",
          "ename": "KeyError",
          "evalue": "'marks'",
          "traceback": [
            "\u001b[0;31m---------------------------------------------------------------------------\u001b[0m",
            "\u001b[0;31mKeyError\u001b[0m                                  Traceback (most recent call last)",
            "\u001b[0;32m/tmp/ipython-input-3475560266.py\u001b[0m in \u001b[0;36m<cell line: 0>\u001b[0;34m()\u001b[0m\n\u001b[0;32m----> 1\u001b[0;31m \u001b[0mstudent\u001b[0m\u001b[0;34m[\u001b[0m\u001b[0;34m\"marks\"\u001b[0m\u001b[0;34m]\u001b[0m\u001b[0;34m\u001b[0m\u001b[0;34m\u001b[0m\u001b[0m\n\u001b[0m",
            "\u001b[0;31mKeyError\u001b[0m: 'marks'"
          ]
        }
      ]
    },
    {
      "cell_type": "code",
      "source": [
        "# get method\n",
        "student.get(\"marks\",\"nahi hai \")"
      ],
      "metadata": {
        "colab": {
          "base_uri": "https://localhost:8080/",
          "height": 36
        },
        "id": "MTtJS1edf60S",
        "outputId": "ef47138b-9c41-416d-ab95-a6bfd04b0406"
      },
      "execution_count": 19,
      "outputs": [
        {
          "output_type": "execute_result",
          "data": {
            "text/plain": [
              "'nahi hai '"
            ],
            "application/vnd.google.colaboratory.intrinsic+json": {
              "type": "string"
            }
          },
          "metadata": {},
          "execution_count": 19
        }
      ]
    },
    {
      "cell_type": "code",
      "source": [
        "student.get('grade','not present')"
      ],
      "metadata": {
        "colab": {
          "base_uri": "https://localhost:8080/",
          "height": 36
        },
        "id": "TQN1fFQef63e",
        "outputId": "a6d5bc65-e057-46d3-9570-a77926a2b05f"
      },
      "execution_count": 18,
      "outputs": [
        {
          "output_type": "execute_result",
          "data": {
            "text/plain": [
              "'A'"
            ],
            "application/vnd.google.colaboratory.intrinsic+json": {
              "type": "string"
            }
          },
          "metadata": {},
          "execution_count": 18
        }
      ]
    },
    {
      "cell_type": "code",
      "source": [
        "student.get(\"lastname\")"
      ],
      "metadata": {
        "id": "fiz6TTO5f66m"
      },
      "execution_count": null,
      "outputs": []
    },
    {
      "cell_type": "code",
      "source": [
        "student.get(\"name\",\"Not Available\")  # default value"
      ],
      "metadata": {
        "colab": {
          "base_uri": "https://localhost:8080/",
          "height": 36
        },
        "id": "xD161CZKf69n",
        "outputId": "ddf4979a-f711-403b-a5b5-14d908756e78"
      },
      "execution_count": 21,
      "outputs": [
        {
          "output_type": "execute_result",
          "data": {
            "text/plain": [
              "'gfg'"
            ],
            "application/vnd.google.colaboratory.intrinsic+json": {
              "type": "string"
            }
          },
          "metadata": {},
          "execution_count": 21
        }
      ]
    },
    {
      "cell_type": "code",
      "source": [
        "student"
      ],
      "metadata": {
        "colab": {
          "base_uri": "https://localhost:8080/"
        },
        "id": "jj5HLb99f7Az",
        "outputId": "9b416d80-2209-45ee-edb0-cf24d3d2324e"
      },
      "execution_count": 22,
      "outputs": [
        {
          "output_type": "execute_result",
          "data": {
            "text/plain": [
              "{'name': 'gfg', 'age': 24, 'grade': 'A'}"
            ]
          },
          "metadata": {},
          "execution_count": 22
        }
      ]
    },
    {
      "cell_type": "code",
      "source": [
        "# alter values\n",
        "student['name']= \"Dhawal\"\n",
        "student[\"age\"]= 26"
      ],
      "metadata": {
        "id": "RDe71zp3f7EC"
      },
      "execution_count": 23,
      "outputs": []
    },
    {
      "cell_type": "code",
      "source": [
        "student[\"address\"]= \"Noida\"\n",
        "student"
      ],
      "metadata": {
        "colab": {
          "base_uri": "https://localhost:8080/"
        },
        "id": "vOv460-ef7HC",
        "outputId": "056556f3-bdb1-4357-8d70-6cbf6195d912"
      },
      "execution_count": 24,
      "outputs": [
        {
          "output_type": "execute_result",
          "data": {
            "text/plain": [
              "{'name': 'Dhawal', 'age': 26, 'grade': 'A', 'address': 'Noida'}"
            ]
          },
          "metadata": {},
          "execution_count": 24
        }
      ]
    },
    {
      "cell_type": "code",
      "source": [
        "del student[\"grade\"]"
      ],
      "metadata": {
        "id": "XN_cDpA9f7KQ"
      },
      "execution_count": 25,
      "outputs": []
    },
    {
      "cell_type": "code",
      "source": [
        "student"
      ],
      "metadata": {
        "colab": {
          "base_uri": "https://localhost:8080/"
        },
        "id": "a7HV0RtJf7NK",
        "outputId": "e575fa28-fad2-4354-a6f8-86ea50c25857"
      },
      "execution_count": 26,
      "outputs": [
        {
          "output_type": "execute_result",
          "data": {
            "text/plain": [
              "{'name': 'Dhawal', 'age': 26, 'address': 'Noida'}"
            ]
          },
          "metadata": {},
          "execution_count": 26
        }
      ]
    },
    {
      "cell_type": "code",
      "source": [
        "student.keys()"
      ],
      "metadata": {
        "colab": {
          "base_uri": "https://localhost:8080/"
        },
        "id": "mnBHWA0Jf7QR",
        "outputId": "785eea55-0f88-4e5d-9eff-d26697af57f0"
      },
      "execution_count": 27,
      "outputs": [
        {
          "output_type": "execute_result",
          "data": {
            "text/plain": [
              "dict_keys(['name', 'age', 'address'])"
            ]
          },
          "metadata": {},
          "execution_count": 27
        }
      ]
    },
    {
      "cell_type": "code",
      "source": [
        "student.values()"
      ],
      "metadata": {
        "colab": {
          "base_uri": "https://localhost:8080/"
        },
        "id": "F_N7u0Vff7TS",
        "outputId": "5ad9501e-fb95-4584-b8fc-f25c3fecbb2b"
      },
      "execution_count": 28,
      "outputs": [
        {
          "output_type": "execute_result",
          "data": {
            "text/plain": [
              "dict_values(['Dhawal', 26, 'Noida'])"
            ]
          },
          "metadata": {},
          "execution_count": 28
        }
      ]
    },
    {
      "cell_type": "code",
      "source": [
        "student.items()"
      ],
      "metadata": {
        "colab": {
          "base_uri": "https://localhost:8080/"
        },
        "id": "ppVdfjUhf7WR",
        "outputId": "f78b88f5-fd0d-4453-fbae-3cd585455e57"
      },
      "execution_count": 29,
      "outputs": [
        {
          "output_type": "execute_result",
          "data": {
            "text/plain": [
              "dict_items([('name', 'Dhawal'), ('age', 26), ('address', 'Noida')])"
            ]
          },
          "metadata": {},
          "execution_count": 29
        }
      ]
    },
    {
      "cell_type": "code",
      "source": [
        "# concept of shallow copy\n",
        "student_copy = student\n",
        "student_copy"
      ],
      "metadata": {
        "colab": {
          "base_uri": "https://localhost:8080/"
        },
        "id": "uJEbP6kRf7bB",
        "outputId": "b82f31e0-e34c-40ae-9d02-de1b62ae9f4f"
      },
      "execution_count": 30,
      "outputs": [
        {
          "output_type": "execute_result",
          "data": {
            "text/plain": [
              "{'name': 'Dhawal', 'age': 26, 'address': 'Noida'}"
            ]
          },
          "metadata": {},
          "execution_count": 30
        }
      ]
    },
    {
      "cell_type": "code",
      "source": [
        "student[\"name\"]= \"Dhawal2.0\""
      ],
      "metadata": {
        "id": "5AInvSCHf7ej"
      },
      "execution_count": 31,
      "outputs": []
    },
    {
      "cell_type": "code",
      "source": [
        "print(student)\n",
        "print(student_copy)"
      ],
      "metadata": {
        "colab": {
          "base_uri": "https://localhost:8080/"
        },
        "id": "mUd3UKXpf7hc",
        "outputId": "3f44df83-b677-4115-a704-933f461cd412"
      },
      "execution_count": 32,
      "outputs": [
        {
          "output_type": "stream",
          "name": "stdout",
          "text": [
            "{'name': 'Dhawal2.0', 'age': 26, 'address': 'Noida'}\n",
            "{'name': 'Dhawal2.0', 'age': 26, 'address': 'Noida'}\n"
          ]
        }
      ]
    },
    {
      "cell_type": "code",
      "source": [
        "student_copy1 = student.copy()\n",
        "student_copy1"
      ],
      "metadata": {
        "colab": {
          "base_uri": "https://localhost:8080/"
        },
        "id": "PQj-M1jAf7kk",
        "outputId": "f93898ae-5725-4dc6-a3e5-51fff5f286a9"
      },
      "execution_count": 33,
      "outputs": [
        {
          "output_type": "execute_result",
          "data": {
            "text/plain": [
              "{'name': 'Dhawal2.0', 'age': 26, 'address': 'Noida'}"
            ]
          },
          "metadata": {},
          "execution_count": 33
        }
      ]
    },
    {
      "cell_type": "code",
      "source": [
        "student[\"name\"]= \"Dhawal3.0\""
      ],
      "metadata": {
        "id": "FWrST9iwn_9i"
      },
      "execution_count": 34,
      "outputs": []
    },
    {
      "cell_type": "code",
      "source": [
        "student"
      ],
      "metadata": {
        "colab": {
          "base_uri": "https://localhost:8080/"
        },
        "id": "XtNAboifHGQT",
        "outputId": "b811d51f-6e01-4b00-a7e0-5717c107bfb0"
      },
      "execution_count": 35,
      "outputs": [
        {
          "output_type": "execute_result",
          "data": {
            "text/plain": [
              "{'name': 'Dhawal3.0', 'age': 26, 'address': 'Noida'}"
            ]
          },
          "metadata": {},
          "execution_count": 35
        }
      ]
    },
    {
      "cell_type": "code",
      "source": [
        "student_copy1"
      ],
      "metadata": {
        "id": "kX_pQGP9o_x4",
        "colab": {
          "base_uri": "https://localhost:8080/"
        },
        "outputId": "15da5dd4-b5d0-4412-a2c3-f0a21b5fc642"
      },
      "execution_count": 36,
      "outputs": [
        {
          "output_type": "execute_result",
          "data": {
            "text/plain": [
              "{'name': 'Dhawal2.0', 'age': 26, 'address': 'Noida'}"
            ]
          },
          "metadata": {},
          "execution_count": 36
        }
      ]
    },
    {
      "cell_type": "code",
      "source": [
        "student_copy"
      ],
      "metadata": {
        "id": "AynC5CQDo_1U",
        "colab": {
          "base_uri": "https://localhost:8080/"
        },
        "outputId": "30932f4b-5ac2-4cc7-9f63-7d5ac3db3090"
      },
      "execution_count": 37,
      "outputs": [
        {
          "output_type": "execute_result",
          "data": {
            "text/plain": [
              "{'name': 'Dhawal3.0', 'age': 26, 'address': 'Noida'}"
            ]
          },
          "metadata": {},
          "execution_count": 37
        }
      ]
    },
    {
      "cell_type": "code",
      "source": [],
      "metadata": {
        "id": "IGxGO2pho_6o"
      },
      "execution_count": null,
      "outputs": []
    },
    {
      "cell_type": "code",
      "source": [
        "print(student)"
      ],
      "metadata": {
        "id": "Q4Ual3gRoADk"
      },
      "execution_count": null,
      "outputs": []
    },
    {
      "cell_type": "code",
      "source": [
        "print(student_copy1)"
      ],
      "metadata": {
        "id": "J3X4lfljoAGS"
      },
      "execution_count": null,
      "outputs": []
    },
    {
      "cell_type": "code",
      "source": [
        "print(student_copy)"
      ],
      "metadata": {
        "id": "D4iX-3xKoAI0"
      },
      "execution_count": null,
      "outputs": []
    },
    {
      "cell_type": "code",
      "source": [
        "# iteration\n",
        "for i in student.keys():\n",
        "  print(i)\n"
      ],
      "metadata": {
        "colab": {
          "base_uri": "https://localhost:8080/"
        },
        "id": "N_RhnfeSpBlq",
        "outputId": "2cb5b2ba-74b4-47cc-9115-dc4f50b90423"
      },
      "execution_count": 38,
      "outputs": [
        {
          "output_type": "stream",
          "name": "stdout",
          "text": [
            "name\n",
            "age\n",
            "address\n"
          ]
        }
      ]
    },
    {
      "cell_type": "code",
      "source": [
        "for j in student.values():\n",
        "  print(j)"
      ],
      "metadata": {
        "colab": {
          "base_uri": "https://localhost:8080/"
        },
        "id": "2bMYCry6pBor",
        "outputId": "edcbbfad-99a9-4545-8433-68d5ae7a8ab0"
      },
      "execution_count": 39,
      "outputs": [
        {
          "output_type": "stream",
          "name": "stdout",
          "text": [
            "Dhawal3.0\n",
            "26\n",
            "Noida\n"
          ]
        }
      ]
    },
    {
      "cell_type": "code",
      "source": [
        "for i,j in student.items():\n",
        "  print(f\"{i}:{j}\")"
      ],
      "metadata": {
        "colab": {
          "base_uri": "https://localhost:8080/"
        },
        "id": "EWdW64BQpBrf",
        "outputId": "2c755dc5-b7b8-4eee-8d02-1b2830d792ff"
      },
      "execution_count": 40,
      "outputs": [
        {
          "output_type": "stream",
          "name": "stdout",
          "text": [
            "name:Dhawal3.0\n",
            "age:26\n",
            "address:Noida\n"
          ]
        }
      ]
    },
    {
      "cell_type": "code",
      "source": [
        "# nested dictionaries\n",
        "student = {\"student1\":{\"name\":\"Dhawal\",\"age\":24},\n",
        "           \"student2\":{\"name\":\"Harsh\",\"age\":25}}\n"
      ],
      "metadata": {
        "id": "YSJlqAHupBvB"
      },
      "execution_count": 42,
      "outputs": []
    },
    {
      "cell_type": "code",
      "source": [
        "student"
      ],
      "metadata": {
        "colab": {
          "base_uri": "https://localhost:8080/"
        },
        "id": "e3cdHZR6oALY",
        "outputId": "dca31ad5-196f-41d0-8c6d-789d6f1f9980"
      },
      "execution_count": 43,
      "outputs": [
        {
          "output_type": "execute_result",
          "data": {
            "text/plain": [
              "{'student1': {'name': 'Dhawal', 'age': 24},\n",
              " 'student2': {'name': 'Harsh', 'age': 25}}"
            ]
          },
          "metadata": {},
          "execution_count": 43
        }
      ]
    },
    {
      "cell_type": "code",
      "source": [
        "print(student[\"student1\"][\"name\"])"
      ],
      "metadata": {
        "colab": {
          "base_uri": "https://localhost:8080/"
        },
        "id": "uYW1wGkQqJsK",
        "outputId": "c675eafa-6ef4-4bf7-c6fc-8eb89b88fe19"
      },
      "execution_count": 44,
      "outputs": [
        {
          "output_type": "stream",
          "name": "stdout",
          "text": [
            "Dhawal\n"
          ]
        }
      ]
    },
    {
      "cell_type": "code",
      "source": [
        "student[\"student2\"][\"age\"]"
      ],
      "metadata": {
        "colab": {
          "base_uri": "https://localhost:8080/"
        },
        "id": "QB1I7ZzRqJvm",
        "outputId": "7dbb2a92-ca54-404a-9dbc-1bb9401ee4a2"
      },
      "execution_count": 45,
      "outputs": [
        {
          "output_type": "execute_result",
          "data": {
            "text/plain": [
              "25"
            ]
          },
          "metadata": {},
          "execution_count": 45
        }
      ]
    },
    {
      "cell_type": "code",
      "source": [
        "# iterate in nested dictionary\n",
        "for i ,j in student.items():  # outer dict\n",
        "  print(f\"{i}:{j}\")\n",
        "  for key,value in j.items():          # inner dict\n",
        "    print(f\"{key}:{value}\")"
      ],
      "metadata": {
        "id": "U9jENpO3qJzN"
      },
      "execution_count": null,
      "outputs": []
    },
    {
      "cell_type": "code",
      "source": [
        "squares={x:x**2 for x in range(10)}\n",
        "squares\n"
      ],
      "metadata": {
        "colab": {
          "base_uri": "https://localhost:8080/"
        },
        "id": "tsTpJ6jjITHy",
        "outputId": "929f998a-dd38-4ee5-e47f-732b8b9f7054"
      },
      "execution_count": 49,
      "outputs": [
        {
          "output_type": "execute_result",
          "data": {
            "text/plain": [
              "{0: 0, 1: 1, 2: 4, 3: 9, 4: 16, 5: 25, 6: 36, 7: 49, 8: 64, 9: 81}"
            ]
          },
          "metadata": {},
          "execution_count": 49
        }
      ]
    },
    {
      "cell_type": "code",
      "source": [
        "# dictionary comprehension\n",
        "squares = {x:x**2 for x in range(5)}\n",
        "squares"
      ],
      "metadata": {
        "id": "h2PAK-06r93y"
      },
      "execution_count": null,
      "outputs": []
    },
    {
      "cell_type": "code",
      "source": [
        "even = {x:x**2 for x in range(10) if x%2==0}\n",
        "even"
      ],
      "metadata": {
        "colab": {
          "base_uri": "https://localhost:8080/"
        },
        "id": "-0lO-Ogkr97A",
        "outputId": "5bee9f31-1673-4f41-86ba-686df93abda0"
      },
      "execution_count": 50,
      "outputs": [
        {
          "output_type": "execute_result",
          "data": {
            "text/plain": [
              "{0: 0, 2: 4, 4: 16, 6: 36, 8: 64}"
            ]
          },
          "metadata": {},
          "execution_count": 50
        }
      ]
    },
    {
      "cell_type": "code",
      "source": [
        "# count of elements using a dictionary\n",
        "numbers = [1,1,1,2,2,2,2,2,3,3,4,4,4,4,4,4,4,5]\n",
        "freq={}\n",
        "\n",
        "for i in numbers:    # {1:3,2:1}\n",
        "  if i in freq:\n",
        "    freq[i] = freq[i]+1\n",
        "  else:\n",
        "    freq[i]=1\n",
        "\n",
        "print(freq)\n",
        "\n",
        "\n",
        "\n",
        "\n",
        "\n",
        "\n"
      ],
      "metadata": {
        "colab": {
          "base_uri": "https://localhost:8080/"
        },
        "id": "PAivPA6br9-k",
        "outputId": "fcf2653b-afff-49b1-cc8e-0e4cea21eab9"
      },
      "execution_count": 51,
      "outputs": [
        {
          "output_type": "stream",
          "name": "stdout",
          "text": [
            "{1: 3, 2: 5, 3: 2, 4: 7, 5: 1}\n"
          ]
        }
      ]
    },
    {
      "cell_type": "code",
      "source": [],
      "metadata": {
        "id": "BHkIXJdzoAOq"
      },
      "execution_count": null,
      "outputs": []
    },
    {
      "cell_type": "code",
      "source": [],
      "metadata": {
        "id": "KOT7l9IIoASK"
      },
      "execution_count": null,
      "outputs": []
    },
    {
      "cell_type": "code",
      "source": [],
      "metadata": {
        "id": "G0BjDBXqf7oA"
      },
      "execution_count": null,
      "outputs": []
    },
    {
      "cell_type": "markdown",
      "source": [
        "Question :\n",
        "You are given a list of integers representing the IDs of students who have signed up for an event, but some students have signed up multiple times by mistake. Your task is to:\n",
        "\n",
        "Remove duplicates to get the unique IDs of students who signed up. Identify students who have both signed up and attended the event (IDs are given in a separate list of attendees). Classify each student as: \"Attended\" if they signed up and attended. \"No-show\" if they signed up but did not attend. Finally, print a summary showing the count of \"Attended\" and \"No-show\" students. Input:\n",
        "\n",
        "A list of integers signups, where each element represents a student ID who signed up for the event. (It may contain duplicates.) A list of integers attendees, where each element represents a student ID who attended the event. Output: Print each unique student ID along with its status (\"Attended\" or \"No-show\") and a summary like the example below."
      ],
      "metadata": {
        "id": "pRKXEys_f82d"
      }
    },
    {
      "cell_type": "code",
      "source": [
        "signups = [101,102,103,104,102,105,103,106,107]\n",
        "attendees = [101,102,103,103,105,106]"
      ],
      "metadata": {
        "id": "M76Hfe4_gECS"
      },
      "execution_count": null,
      "outputs": []
    },
    {
      "cell_type": "code",
      "source": [
        "\"\"\" 101 : attended\n",
        "102 : attended\n",
        "103 : attended\n",
        "104 : no show\n",
        "\n",
        "Summary\n",
        "no of attendees =\n",
        "no shows = \"\"\""
      ],
      "metadata": {
        "id": "Hz-sjWKKgHcY"
      },
      "execution_count": null,
      "outputs": []
    },
    {
      "cell_type": "code",
      "source": [
        "signups = [101,102,103,104,102,105,103,106,107]\n",
        "attendees = [101,102,103,103,105,106]\n",
        "\n",
        "unique_signups = set(signups)\n",
        "unique_attendees = set(attendees)\n",
        "\n",
        "attendees_count =0\n",
        "no_show_count =0\n",
        "\n",
        "for i in unique_signups:\n",
        "  if i in unique_attendees:\n",
        "    print(f\"{i}:Attended\")\n",
        "    attendees_count+=1\n",
        "  else:\n",
        "    print(f\"{i}:No show\")\n",
        "    no_show_count+=1\n",
        "\n",
        "print(\"\\nsummary\")\n",
        "print(f\"attended: {attendees_count}\")\n",
        "print(f\"no show: {no_show_count}\")\n"
      ],
      "metadata": {
        "id": "E5_2su4ZgHff"
      },
      "execution_count": null,
      "outputs": []
    },
    {
      "cell_type": "code",
      "source": [],
      "metadata": {
        "id": "ag24k2KngHiZ"
      },
      "execution_count": null,
      "outputs": []
    },
    {
      "cell_type": "code",
      "source": [],
      "metadata": {
        "id": "qZJy-VBugHlS"
      },
      "execution_count": null,
      "outputs": []
    },
    {
      "cell_type": "code",
      "source": [],
      "metadata": {
        "id": "fTUImccXgHoE"
      },
      "execution_count": null,
      "outputs": []
    },
    {
      "cell_type": "code",
      "source": [],
      "metadata": {
        "id": "muxVk5SKgHrc"
      },
      "execution_count": null,
      "outputs": []
    },
    {
      "cell_type": "markdown",
      "source": [
        "Unique Common Elements\n",
        "Problem: You are given two lists of integers. Write a program to:\n",
        "\n",
        "Find the unique common elements between the two lists. Print these common elements in sorted order. If there are no common elements, print \"No common elements\"."
      ],
      "metadata": {
        "id": "z8mI40qPgIXO"
      }
    },
    {
      "cell_type": "code",
      "source": [
        "list1 = [1,2,3,4,5,6,6,3,4,7,8]\n",
        "list2 =[0,10,12,12,0,4,2]\n",
        "\n"
      ],
      "metadata": {
        "id": "-buvxPu7gLw9"
      },
      "execution_count": 53,
      "outputs": []
    },
    {
      "cell_type": "code",
      "source": [],
      "metadata": {
        "id": "GqbMreHT1hox"
      },
      "execution_count": null,
      "outputs": []
    },
    {
      "cell_type": "code",
      "source": [],
      "metadata": {
        "id": "KGqBDjuR1hrj"
      },
      "execution_count": null,
      "outputs": []
    },
    {
      "cell_type": "code",
      "source": [
        "text = \"hello world\"\n",
        "# find character count and return a dictionary"
      ],
      "metadata": {
        "id": "wmR6fcST1hud"
      },
      "execution_count": null,
      "outputs": []
    },
    {
      "cell_type": "code",
      "source": [],
      "metadata": {
        "id": "9au9qx7P1hxv"
      },
      "execution_count": null,
      "outputs": []
    },
    {
      "cell_type": "code",
      "source": [],
      "metadata": {
        "id": "gb19byvP3s_x"
      },
      "execution_count": null,
      "outputs": []
    }
  ]
}